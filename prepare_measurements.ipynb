{
 "cells": [
  {
   "cell_type": "code",
   "execution_count": 1,
   "id": "7e847dc6-8ae8-4f0f-b9fb-a7e056b19b49",
   "metadata": {},
   "outputs": [],
   "source": [
    "import geopandas\n",
    "import leafmap\n",
    "import geoplot\n",
    "import geoplot.crs as gcrs\n",
    "import shapely\n",
    "import pandas as pd\n",
    "import matplotlib.pyplot as plt\n",
    "import seaborn as sns\n",
    "import h5py\n",
    "import os\n",
    "import numpy as np\n",
    "from datetime import datetime\n",
    "from dateutil.relativedelta import relativedelta"
   ]
  },
  {
   "cell_type": "code",
   "execution_count": 2,
   "id": "dd7729d0-c46a-4d95-838f-b0daf3b01d51",
   "metadata": {},
   "outputs": [],
   "source": [
    "aoi_dir = \"data/aoi.geojson\"\n",
    "points = \"data/measurements/shp_GA_5513_1739_2022/GA_5513_1739_2022_punkty_czynne_i_archiwalne_m_ilosc_i_bad.shp\""
   ]
  },
  {
   "attachments": {},
   "cell_type": "markdown",
   "id": "1cb55640-fd1e-4a55-934a-8e1d1e800d1f",
   "metadata": {},
   "source": [
    "Prepare area of interest"
   ]
  },
  {
   "cell_type": "code",
   "execution_count": 3,
   "id": "6725c8a0-92fb-4540-b206-09cb7fa85f86",
   "metadata": {},
   "outputs": [],
   "source": [
    "geodf = geopandas.read_file(aoi_dir)\n",
    "points_df = geopandas.read_file(points)\n",
    "points_df = points_df.set_crs(\"EPSG:2180\")"
   ]
  },
  {
   "attachments": {},
   "cell_type": "markdown",
   "id": "aaf8e8c5-e14e-4355-81be-3fb48763fd9e",
   "metadata": {},
   "source": [
    "Prepare shp file with measurement points\n",
    "Points are in epsg2180 crs."
   ]
  },
  {
   "cell_type": "code",
   "execution_count": 4,
   "id": "6a3fab50-aa50-450a-b017-21f6af163579",
   "metadata": {},
   "outputs": [
    {
     "data": {
      "text/plain": [
       "<Projected CRS: EPSG:2180>\n",
       "Name: ETRF2000-PL / CS92\n",
       "Axis Info [cartesian]:\n",
       "- x[north]: Northing (metre)\n",
       "- y[east]: Easting (metre)\n",
       "Area of Use:\n",
       "- name: Poland - onshore and offshore.\n",
       "- bounds: (14.14, 49.0, 24.15, 55.93)\n",
       "Coordinate Operation:\n",
       "- name: Poland CS92\n",
       "- method: Transverse Mercator\n",
       "Datum: ETRF2000 Poland\n",
       "- Ellipsoid: GRS 1980\n",
       "- Prime Meridian: Greenwich"
      ]
     },
     "execution_count": 4,
     "metadata": {},
     "output_type": "execute_result"
    }
   ],
   "source": [
    "points_df.crs"
   ]
  },
  {
   "cell_type": "code",
   "execution_count": 5,
   "id": "a2fe0d96-1d28-450a-9534-2685a1f9e99a",
   "metadata": {},
   "outputs": [
    {
     "data": {
      "text/plain": [
       "0     POINT (50.72782 19.17842)\n",
       "1     POINT (50.85889 18.87222)\n",
       "2     POINT (50.81599 19.08174)\n",
       "3     POINT (50.83717 18.92135)\n",
       "4     POINT (50.75044 19.50739)\n",
       "                ...            \n",
       "72    POINT (51.15053 19.13450)\n",
       "73    POINT (51.09886 19.17081)\n",
       "74    POINT (51.08769 19.13447)\n",
       "75    POINT (51.08769 19.13456)\n",
       "76    POINT (51.10439 19.16253)\n",
       "Name: geometry, Length: 77, dtype: geometry"
      ]
     },
     "execution_count": 5,
     "metadata": {},
     "output_type": "execute_result"
    }
   ],
   "source": [
    "points_df = points_df.to_crs(\"EPSG:4326\")\n",
    "points_df['geometry'] = points_df['geometry'].explode(index_parts=False)\n",
    "points_df.geometry.map(lambda polygon: shapely.ops.transform(lambda x, y: (y, x), polygon))"
   ]
  },
  {
   "cell_type": "code",
   "execution_count": 6,
   "id": "bfe369ef-26a5-4ae3-be8b-a4f639cfbea2",
   "metadata": {},
   "outputs": [
    {
     "data": {
      "text/html": [
       "<div>\n",
       "<style scoped>\n",
       "    .dataframe tbody tr th:only-of-type {\n",
       "        vertical-align: middle;\n",
       "    }\n",
       "\n",
       "    .dataframe tbody tr th {\n",
       "        vertical-align: top;\n",
       "    }\n",
       "\n",
       "    .dataframe thead th {\n",
       "        text-align: right;\n",
       "    }\n",
       "</style>\n",
       "<table border=\"1\" class=\"dataframe\">\n",
       "  <thead>\n",
       "    <tr style=\"text-align: right;\">\n",
       "      <th></th>\n",
       "      <th>ID</th>\n",
       "      <th>NR_M_ILOSC</th>\n",
       "      <th>RZAD</th>\n",
       "      <th>NR_OTW_W_S</th>\n",
       "      <th>CZYNNY</th>\n",
       "      <th>ROK_ZAKONC</th>\n",
       "      <th>NR_M_BADAW</th>\n",
       "      <th>WOJ_NAZWA</th>\n",
       "      <th>POW_NAZWA</th>\n",
       "      <th>GM_NAZWA</th>\n",
       "      <th>M_NAZWA</th>\n",
       "      <th>GMRotation</th>\n",
       "      <th>geometry</th>\n",
       "    </tr>\n",
       "  </thead>\n",
       "  <tbody>\n",
       "    <tr>\n",
       "      <th>0</th>\n",
       "      <td>161</td>\n",
       "      <td>126.0</td>\n",
       "      <td>II</td>\n",
       "      <td>1.0</td>\n",
       "      <td>0</td>\n",
       "      <td>1989-01-01</td>\n",
       "      <td>NaN</td>\n",
       "      <td>l¹skie</td>\n",
       "      <td>bielski</td>\n",
       "      <td>Buczkowice</td>\n",
       "      <td>Zawodzie</td>\n",
       "      <td>0.000000e+00</td>\n",
       "      <td>POINT (19.17842 50.72782)</td>\n",
       "    </tr>\n",
       "    <tr>\n",
       "      <th>1</th>\n",
       "      <td>395</td>\n",
       "      <td>472.0</td>\n",
       "      <td>II</td>\n",
       "      <td>1.0</td>\n",
       "      <td>0</td>\n",
       "      <td>2016-01-01</td>\n",
       "      <td>NaN</td>\n",
       "      <td>l¹skie</td>\n",
       "      <td>k³obucki</td>\n",
       "      <td>Wrêczyca Wielka</td>\n",
       "      <td>Golce</td>\n",
       "      <td>5.336085e-07</td>\n",
       "      <td>POINT (18.87222 50.85889)</td>\n",
       "    </tr>\n",
       "    <tr>\n",
       "      <th>2</th>\n",
       "      <td>396</td>\n",
       "      <td>473.0</td>\n",
       "      <td>II</td>\n",
       "      <td>1.0</td>\n",
       "      <td>0</td>\n",
       "      <td>1987-01-01</td>\n",
       "      <td>NaN</td>\n",
       "      <td>l¹skie</td>\n",
       "      <td>m. Czêstochowa</td>\n",
       "      <td>M. Czêstochowa</td>\n",
       "      <td>Czêstochowa</td>\n",
       "      <td>0.000000e+00</td>\n",
       "      <td>POINT (19.08174 50.81599)</td>\n",
       "    </tr>\n",
       "    <tr>\n",
       "      <th>3</th>\n",
       "      <td>411</td>\n",
       "      <td>479.0</td>\n",
       "      <td>II</td>\n",
       "      <td>1.0</td>\n",
       "      <td>0</td>\n",
       "      <td>1986-01-01</td>\n",
       "      <td>NaN</td>\n",
       "      <td>l¹skie</td>\n",
       "      <td>k³obucki</td>\n",
       "      <td>Wrêczyca Wielka</td>\n",
       "      <td>Wrêczyca</td>\n",
       "      <td>0.000000e+00</td>\n",
       "      <td>POINT (18.92135 50.83717)</td>\n",
       "    </tr>\n",
       "    <tr>\n",
       "      <th>4</th>\n",
       "      <td>831</td>\n",
       "      <td>921.0</td>\n",
       "      <td>II</td>\n",
       "      <td>1.0</td>\n",
       "      <td>0</td>\n",
       "      <td>1999-01-01</td>\n",
       "      <td>NaN</td>\n",
       "      <td>l¹skie</td>\n",
       "      <td>czêstochowski</td>\n",
       "      <td>Przyrów</td>\n",
       "      <td>Sygontka</td>\n",
       "      <td>0.000000e+00</td>\n",
       "      <td>POINT (19.50739 50.75044)</td>\n",
       "    </tr>\n",
       "    <tr>\n",
       "      <th>5</th>\n",
       "      <td>832</td>\n",
       "      <td>922.0</td>\n",
       "      <td>II</td>\n",
       "      <td>1.0</td>\n",
       "      <td>0</td>\n",
       "      <td>2013-01-01</td>\n",
       "      <td>NaN</td>\n",
       "      <td>l¹skie</td>\n",
       "      <td>czêstochowski</td>\n",
       "      <td>Janów</td>\n",
       "      <td>Z³oty Potok</td>\n",
       "      <td>3.600000e+02</td>\n",
       "      <td>POINT (19.41315 50.68703)</td>\n",
       "    </tr>\n",
       "    <tr>\n",
       "      <th>6</th>\n",
       "      <td>833</td>\n",
       "      <td>923.0</td>\n",
       "      <td>II</td>\n",
       "      <td>1.0</td>\n",
       "      <td>0</td>\n",
       "      <td>1999-01-01</td>\n",
       "      <td>NaN</td>\n",
       "      <td>l¹skie</td>\n",
       "      <td>czêstochowski</td>\n",
       "      <td>Janów</td>\n",
       "      <td>Z³oty Potok</td>\n",
       "      <td>0.000000e+00</td>\n",
       "      <td>POINT (19.44182 50.72098)</td>\n",
       "    </tr>\n",
       "    <tr>\n",
       "      <th>7</th>\n",
       "      <td>834</td>\n",
       "      <td>924.0</td>\n",
       "      <td>II</td>\n",
       "      <td>1.0</td>\n",
       "      <td>1</td>\n",
       "      <td>NaN</td>\n",
       "      <td>NaN</td>\n",
       "      <td>l¹skie</td>\n",
       "      <td>czêstochowski</td>\n",
       "      <td>Janów</td>\n",
       "      <td>Z³oty Potok</td>\n",
       "      <td>0.000000e+00</td>\n",
       "      <td>POINT (19.41204 50.68556)</td>\n",
       "    </tr>\n",
       "    <tr>\n",
       "      <th>8</th>\n",
       "      <td>842</td>\n",
       "      <td>928.0</td>\n",
       "      <td>II</td>\n",
       "      <td>1.0</td>\n",
       "      <td>0</td>\n",
       "      <td>1999-01-01</td>\n",
       "      <td>NaN</td>\n",
       "      <td>l¹skie</td>\n",
       "      <td>czêstochowski</td>\n",
       "      <td>Przyrów</td>\n",
       "      <td>Sygontka</td>\n",
       "      <td>3.600000e+02</td>\n",
       "      <td>POINT (19.47393 50.75678)</td>\n",
       "    </tr>\n",
       "    <tr>\n",
       "      <th>9</th>\n",
       "      <td>843</td>\n",
       "      <td>929.0</td>\n",
       "      <td>II</td>\n",
       "      <td>1.0</td>\n",
       "      <td>0</td>\n",
       "      <td>1996-01-01</td>\n",
       "      <td>NaN</td>\n",
       "      <td>l¹skie</td>\n",
       "      <td>czêstochowski</td>\n",
       "      <td>Przyrów</td>\n",
       "      <td>Julianka</td>\n",
       "      <td>0.000000e+00</td>\n",
       "      <td>POINT (19.50739 50.75044)</td>\n",
       "    </tr>\n",
       "    <tr>\n",
       "      <th>10</th>\n",
       "      <td>846</td>\n",
       "      <td>931.0</td>\n",
       "      <td>II</td>\n",
       "      <td>1.0</td>\n",
       "      <td>1</td>\n",
       "      <td>NaN</td>\n",
       "      <td>NaN</td>\n",
       "      <td>l¹skie</td>\n",
       "      <td>czêstochowski</td>\n",
       "      <td>Przyrów</td>\n",
       "      <td>Sygontka</td>\n",
       "      <td>0.000000e+00</td>\n",
       "      <td>POINT (19.48416 50.75933)</td>\n",
       "    </tr>\n",
       "    <tr>\n",
       "      <th>11</th>\n",
       "      <td>847</td>\n",
       "      <td>932.0</td>\n",
       "      <td>II</td>\n",
       "      <td>1.0</td>\n",
       "      <td>0</td>\n",
       "      <td>2002-01-01</td>\n",
       "      <td>NaN</td>\n",
       "      <td>l¹skie</td>\n",
       "      <td>czêstochowski</td>\n",
       "      <td>Przyrów</td>\n",
       "      <td>Zalesice</td>\n",
       "      <td>0.000000e+00</td>\n",
       "      <td>POINT (19.50739 50.75044)</td>\n",
       "    </tr>\n",
       "    <tr>\n",
       "      <th>12</th>\n",
       "      <td>848</td>\n",
       "      <td>933.0</td>\n",
       "      <td>II</td>\n",
       "      <td>1.0</td>\n",
       "      <td>0</td>\n",
       "      <td>NaN</td>\n",
       "      <td>NaN</td>\n",
       "      <td>l¹skie</td>\n",
       "      <td>czêstochowski</td>\n",
       "      <td>Przyrów</td>\n",
       "      <td>Julianka</td>\n",
       "      <td>0.000000e+00</td>\n",
       "      <td>POINT (19.49222 50.75889)</td>\n",
       "    </tr>\n",
       "    <tr>\n",
       "      <th>13</th>\n",
       "      <td>849</td>\n",
       "      <td>934.0</td>\n",
       "      <td>II</td>\n",
       "      <td>1.0</td>\n",
       "      <td>0</td>\n",
       "      <td>1999-01-01</td>\n",
       "      <td>NaN</td>\n",
       "      <td>l¹skie</td>\n",
       "      <td>czêstochowski</td>\n",
       "      <td>Przyrów</td>\n",
       "      <td>Julianka</td>\n",
       "      <td>0.000000e+00</td>\n",
       "      <td>POINT (19.50739 50.75044)</td>\n",
       "    </tr>\n",
       "    <tr>\n",
       "      <th>14</th>\n",
       "      <td>850</td>\n",
       "      <td>934.0</td>\n",
       "      <td>II</td>\n",
       "      <td>2.0</td>\n",
       "      <td>0</td>\n",
       "      <td>1999-01-01</td>\n",
       "      <td>NaN</td>\n",
       "      <td>l¹skie</td>\n",
       "      <td>czêstochowski</td>\n",
       "      <td>Przyrów</td>\n",
       "      <td>Julianka</td>\n",
       "      <td>0.000000e+00</td>\n",
       "      <td>POINT (19.50739 50.75044)</td>\n",
       "    </tr>\n",
       "  </tbody>\n",
       "</table>\n",
       "</div>"
      ],
      "text/plain": [
       "     ID  NR_M_ILOSC RZAD  NR_OTW_W_S  CZYNNY  ROK_ZAKONC NR_M_BADAW WOJ_NAZWA  \\\n",
       "0   161       126.0   II         1.0       0  1989-01-01        NaN   l¹skie   \n",
       "1   395       472.0   II         1.0       0  2016-01-01        NaN   l¹skie   \n",
       "2   396       473.0   II         1.0       0  1987-01-01        NaN   l¹skie   \n",
       "3   411       479.0   II         1.0       0  1986-01-01        NaN   l¹skie   \n",
       "4   831       921.0   II         1.0       0  1999-01-01        NaN   l¹skie   \n",
       "5   832       922.0   II         1.0       0  2013-01-01        NaN   l¹skie   \n",
       "6   833       923.0   II         1.0       0  1999-01-01        NaN   l¹skie   \n",
       "7   834       924.0   II         1.0       1         NaN        NaN   l¹skie   \n",
       "8   842       928.0   II         1.0       0  1999-01-01        NaN   l¹skie   \n",
       "9   843       929.0   II         1.0       0  1996-01-01        NaN   l¹skie   \n",
       "10  846       931.0   II         1.0       1         NaN        NaN   l¹skie   \n",
       "11  847       932.0   II         1.0       0  2002-01-01        NaN   l¹skie   \n",
       "12  848       933.0   II         1.0       0         NaN        NaN   l¹skie   \n",
       "13  849       934.0   II         1.0       0  1999-01-01        NaN   l¹skie   \n",
       "14  850       934.0   II         2.0       0  1999-01-01        NaN   l¹skie   \n",
       "\n",
       "         POW_NAZWA         GM_NAZWA      M_NAZWA    GMRotation  \\\n",
       "0          bielski       Buczkowice     Zawodzie  0.000000e+00   \n",
       "1         k³obucki  Wrêczyca Wielka        Golce  5.336085e-07   \n",
       "2   m. Czêstochowa   M. Czêstochowa  Czêstochowa  0.000000e+00   \n",
       "3         k³obucki  Wrêczyca Wielka     Wrêczyca  0.000000e+00   \n",
       "4    czêstochowski          Przyrów     Sygontka  0.000000e+00   \n",
       "5    czêstochowski            Janów  Z³oty Potok  3.600000e+02   \n",
       "6    czêstochowski            Janów  Z³oty Potok  0.000000e+00   \n",
       "7    czêstochowski            Janów  Z³oty Potok  0.000000e+00   \n",
       "8    czêstochowski          Przyrów     Sygontka  3.600000e+02   \n",
       "9    czêstochowski          Przyrów     Julianka  0.000000e+00   \n",
       "10   czêstochowski          Przyrów     Sygontka  0.000000e+00   \n",
       "11   czêstochowski          Przyrów     Zalesice  0.000000e+00   \n",
       "12   czêstochowski          Przyrów     Julianka  0.000000e+00   \n",
       "13   czêstochowski          Przyrów     Julianka  0.000000e+00   \n",
       "14   czêstochowski          Przyrów     Julianka  0.000000e+00   \n",
       "\n",
       "                     geometry  \n",
       "0   POINT (19.17842 50.72782)  \n",
       "1   POINT (18.87222 50.85889)  \n",
       "2   POINT (19.08174 50.81599)  \n",
       "3   POINT (18.92135 50.83717)  \n",
       "4   POINT (19.50739 50.75044)  \n",
       "5   POINT (19.41315 50.68703)  \n",
       "6   POINT (19.44182 50.72098)  \n",
       "7   POINT (19.41204 50.68556)  \n",
       "8   POINT (19.47393 50.75678)  \n",
       "9   POINT (19.50739 50.75044)  \n",
       "10  POINT (19.48416 50.75933)  \n",
       "11  POINT (19.50739 50.75044)  \n",
       "12  POINT (19.49222 50.75889)  \n",
       "13  POINT (19.50739 50.75044)  \n",
       "14  POINT (19.50739 50.75044)  "
      ]
     },
     "execution_count": 6,
     "metadata": {},
     "output_type": "execute_result"
    }
   ],
   "source": [
    "points_df.head(15)"
   ]
  },
  {
   "cell_type": "code",
   "execution_count": 7,
   "id": "4a4266d0-6feb-4594-b2ec-815d57e3b7b7",
   "metadata": {},
   "outputs": [
    {
     "data": {
      "text/plain": [
       "<GeoAxesSubplot:>"
      ]
     },
     "execution_count": 7,
     "metadata": {},
     "output_type": "execute_result"
    },
    {
     "data": {
      "image/png": "[encoded data removed]",
      "text/plain": [
       "<Figure size 864x576 with 1 Axes>"
      ]
     },
     "metadata": {
      "needs_background": "light"
     },
     "output_type": "display_data"
    }
   ],
   "source": [
    "ax = geoplot.polyplot(geodf, projection=gcrs.AlbersEqualArea(), edgecolor='darkgrey', facecolor='lightgrey', linewidth=.3,\n",
    "    figsize=(12, 8))\n",
    "geoplot.pointplot(points_df, ax=ax)"
   ]
  },
  {
   "cell_type": "code",
   "execution_count": 8,
   "id": "f1e2d55b-80f7-49bc-96d9-4b9fb0106ab1",
   "metadata": {},
   "outputs": [],
   "source": [
    "excel_data_dirs = [\"data/measurements/GA_5513_1739_2022_monitoring_st_ilosciowego_pomiary_manualne.xls\", \"data/measurements/GA_5513_1739_2022_monitoring_st_ilosciowego_pomiary_automatyczne.xls\"]\n",
    "excel_data_geojson_dirs = [\"data/measurements/GA_5513_1739_2022_quantitative_status_monitoring_manual.json\", \"data/measurements/GA_5513_1739_2022_quantitative_status_monitoring_automatic.json\"]\n",
    "excel_data = pd.read_excel(excel_data_dirs[0])"
   ]
  },
  {
   "cell_type": "code",
   "execution_count": 9,
   "id": "0dae3286-156c-4cd6-bd2b-9d76a55c87c7",
   "metadata": {},
   "outputs": [],
   "source": [
    "excel_data = excel_data.drop(excel_data.index[0])\n",
    "excel_data.columns = excel_data.iloc[0]\n",
    "excel_data = excel_data.drop(excel_data.index[0])"
   ]
  },
  {
   "cell_type": "code",
   "execution_count": 10,
   "id": "a519793b-4dc8-4bda-a342-a3707dced00d",
   "metadata": {},
   "outputs": [],
   "source": [
    "excel_data.reset_index(inplace=True)\n",
    "excel_data.drop(\"index\", inplace=True, axis=1)"
   ]
  },
  {
   "cell_type": "code",
   "execution_count": 11,
   "id": "df52b373-ec40-4ec3-a540-c8b34779cb9b",
   "metadata": {},
   "outputs": [],
   "source": [
    "excel_data = excel_data.rename(columns = {\"Data/Punkty\": \"date\"})"
   ]
  },
  {
   "cell_type": "code",
   "execution_count": 12,
   "id": "5709d7de-0cad-4c83-93d3-da1b98c58fed",
   "metadata": {},
   "outputs": [
    {
     "data": {
      "text/html": [
       "<div>\n",
       "<style scoped>\n",
       "    .dataframe tbody tr th:only-of-type {\n",
       "        vertical-align: middle;\n",
       "    }\n",
       "\n",
       "    .dataframe tbody tr th {\n",
       "        vertical-align: top;\n",
       "    }\n",
       "\n",
       "    .dataframe thead th {\n",
       "        text-align: right;\n",
       "    }\n",
       "</style>\n",
       "<table border=\"1\" class=\"dataframe\">\n",
       "  <thead>\n",
       "    <tr style=\"text-align: right;\">\n",
       "      <th>1</th>\n",
       "      <th>date</th>\n",
       "      <th>II/112/1</th>\n",
       "      <th>II/113/1</th>\n",
       "      <th>II/114/1</th>\n",
       "      <th>II/115/1</th>\n",
       "      <th>II/116/1</th>\n",
       "      <th>II/131/1</th>\n",
       "      <th>II/132/1</th>\n",
       "      <th>II/292/1</th>\n",
       "      <th>II/297/1</th>\n",
       "      <th>...</th>\n",
       "      <th>II/936/1</th>\n",
       "      <th>II/940/1</th>\n",
       "      <th>II/949/1</th>\n",
       "      <th>II/951/1</th>\n",
       "      <th>II/952/1</th>\n",
       "      <th>II/957/1</th>\n",
       "      <th>II/1345/1</th>\n",
       "      <th>II/1346/1</th>\n",
       "      <th>II/1351/1</th>\n",
       "      <th>II/1352/1</th>\n",
       "    </tr>\n",
       "  </thead>\n",
       "  <tbody>\n",
       "    <tr>\n",
       "      <th>0</th>\n",
       "      <td>2001-11-05 00:00:00</td>\n",
       "      <td>9.65</td>\n",
       "      <td>31.96</td>\n",
       "      <td>29.35</td>\n",
       "      <td>10.58</td>\n",
       "      <td>8.25</td>\n",
       "      <td>16.86</td>\n",
       "      <td>48.15</td>\n",
       "      <td>12.07</td>\n",
       "      <td>5.1</td>\n",
       "      <td>...</td>\n",
       "      <td>0.17</td>\n",
       "      <td>42.66</td>\n",
       "      <td>NaN</td>\n",
       "      <td>NaN</td>\n",
       "      <td>NaN</td>\n",
       "      <td>NaN</td>\n",
       "      <td>NaN</td>\n",
       "      <td>NaN</td>\n",
       "      <td>NaN</td>\n",
       "      <td>NaN</td>\n",
       "    </tr>\n",
       "    <tr>\n",
       "      <th>1</th>\n",
       "      <td>2001-11-12 00:00:00</td>\n",
       "      <td>9.66</td>\n",
       "      <td>31.91</td>\n",
       "      <td>29.44</td>\n",
       "      <td>10.57</td>\n",
       "      <td>8.19</td>\n",
       "      <td>16.96</td>\n",
       "      <td>48.25</td>\n",
       "      <td>12.05</td>\n",
       "      <td>5.2</td>\n",
       "      <td>...</td>\n",
       "      <td>0.16</td>\n",
       "      <td>42.69</td>\n",
       "      <td>NaN</td>\n",
       "      <td>NaN</td>\n",
       "      <td>NaN</td>\n",
       "      <td>NaN</td>\n",
       "      <td>NaN</td>\n",
       "      <td>NaN</td>\n",
       "      <td>NaN</td>\n",
       "      <td>NaN</td>\n",
       "    </tr>\n",
       "    <tr>\n",
       "      <th>2</th>\n",
       "      <td>2001-11-19 00:00:00</td>\n",
       "      <td>9.66</td>\n",
       "      <td>31.86</td>\n",
       "      <td>29.3</td>\n",
       "      <td>10.55</td>\n",
       "      <td>8.11</td>\n",
       "      <td>16.91</td>\n",
       "      <td>48.2</td>\n",
       "      <td>12.08</td>\n",
       "      <td>5.2</td>\n",
       "      <td>...</td>\n",
       "      <td>0.2</td>\n",
       "      <td>42.7</td>\n",
       "      <td>NaN</td>\n",
       "      <td>NaN</td>\n",
       "      <td>NaN</td>\n",
       "      <td>NaN</td>\n",
       "      <td>NaN</td>\n",
       "      <td>NaN</td>\n",
       "      <td>NaN</td>\n",
       "      <td>NaN</td>\n",
       "    </tr>\n",
       "    <tr>\n",
       "      <th>3</th>\n",
       "      <td>2001-11-26 00:00:00</td>\n",
       "      <td>9.63</td>\n",
       "      <td>31.8</td>\n",
       "      <td>29.44</td>\n",
       "      <td>10.54</td>\n",
       "      <td>8.03</td>\n",
       "      <td>16.86</td>\n",
       "      <td>48.25</td>\n",
       "      <td>12.07</td>\n",
       "      <td>5</td>\n",
       "      <td>...</td>\n",
       "      <td>0.19</td>\n",
       "      <td>42.73</td>\n",
       "      <td>NaN</td>\n",
       "      <td>NaN</td>\n",
       "      <td>NaN</td>\n",
       "      <td>NaN</td>\n",
       "      <td>NaN</td>\n",
       "      <td>NaN</td>\n",
       "      <td>NaN</td>\n",
       "      <td>NaN</td>\n",
       "    </tr>\n",
       "    <tr>\n",
       "      <th>4</th>\n",
       "      <td>2001-12-03 00:00:00</td>\n",
       "      <td>9.67</td>\n",
       "      <td>31.83</td>\n",
       "      <td>29.52</td>\n",
       "      <td>10.53</td>\n",
       "      <td>8.08</td>\n",
       "      <td>16.91</td>\n",
       "      <td>48.3</td>\n",
       "      <td>12.08</td>\n",
       "      <td>5</td>\n",
       "      <td>...</td>\n",
       "      <td>0.18</td>\n",
       "      <td>42.48</td>\n",
       "      <td>NaN</td>\n",
       "      <td>NaN</td>\n",
       "      <td>NaN</td>\n",
       "      <td>NaN</td>\n",
       "      <td>NaN</td>\n",
       "      <td>NaN</td>\n",
       "      <td>NaN</td>\n",
       "      <td>NaN</td>\n",
       "    </tr>\n",
       "  </tbody>\n",
       "</table>\n",
       "<p>5 rows × 26 columns</p>\n",
       "</div>"
      ],
      "text/plain": [
       "1                 date II/112/1 II/113/1 II/114/1 II/115/1 II/116/1 II/131/1  \\\n",
       "0  2001-11-05 00:00:00     9.65    31.96    29.35    10.58     8.25    16.86   \n",
       "1  2001-11-12 00:00:00     9.66    31.91    29.44    10.57     8.19    16.96   \n",
       "2  2001-11-19 00:00:00     9.66    31.86     29.3    10.55     8.11    16.91   \n",
       "3  2001-11-26 00:00:00     9.63     31.8    29.44    10.54     8.03    16.86   \n",
       "4  2001-12-03 00:00:00     9.67    31.83    29.52    10.53     8.08    16.91   \n",
       "\n",
       "1 II/132/1 II/292/1 II/297/1  ... II/936/1 II/940/1 II/949/1 II/951/1  \\\n",
       "0    48.15    12.07      5.1  ...     0.17    42.66      NaN      NaN   \n",
       "1    48.25    12.05      5.2  ...     0.16    42.69      NaN      NaN   \n",
       "2     48.2    12.08      5.2  ...      0.2     42.7      NaN      NaN   \n",
       "3    48.25    12.07        5  ...     0.19    42.73      NaN      NaN   \n",
       "4     48.3    12.08        5  ...     0.18    42.48      NaN      NaN   \n",
       "\n",
       "1 II/952/1 II/957/1 II/1345/1 II/1346/1 II/1351/1 II/1352/1  \n",
       "0      NaN      NaN       NaN       NaN       NaN       NaN  \n",
       "1      NaN      NaN       NaN       NaN       NaN       NaN  \n",
       "2      NaN      NaN       NaN       NaN       NaN       NaN  \n",
       "3      NaN      NaN       NaN       NaN       NaN       NaN  \n",
       "4      NaN      NaN       NaN       NaN       NaN       NaN  \n",
       "\n",
       "[5 rows x 26 columns]"
      ]
     },
     "execution_count": 12,
     "metadata": {},
     "output_type": "execute_result"
    }
   ],
   "source": [
    "excel_data.head()"
   ]
  },
  {
   "cell_type": "code",
   "execution_count": 13,
   "id": "17adff11-6b4b-468f-9365-4db9e43bb2c0",
   "metadata": {},
   "outputs": [],
   "source": [
    "excel_data[\"date\"] = pd.to_datetime(excel_data[\"date\"], format='%Y-%m-%d %H:%M:%S')"
   ]
  },
  {
   "cell_type": "code",
   "execution_count": 14,
   "id": "b326f797-8442-461d-9b99-0a6bf585885f",
   "metadata": {},
   "outputs": [],
   "source": [
    "excel_data[excel_data.loc[:, excel_data.columns != \"date\"].columns] = excel_data[excel_data.loc[:, excel_data.columns != \"date\"].columns].astype('float64')"
   ]
  },
  {
   "cell_type": "code",
   "execution_count": 15,
   "id": "307aa7c9-7ef8-4a23-a2c4-d06359213e09",
   "metadata": {},
   "outputs": [],
   "source": [
    "excel_data = excel_data.drop(excel_data.index[0])"
   ]
  },
  {
   "cell_type": "code",
   "execution_count": 16,
   "id": "af030f2e-53fb-4b8c-b744-2622e7b6518e",
   "metadata": {},
   "outputs": [
    {
     "data": {
      "text/html": [
       "<div>\n",
       "<style scoped>\n",
       "    .dataframe tbody tr th:only-of-type {\n",
       "        vertical-align: middle;\n",
       "    }\n",
       "\n",
       "    .dataframe tbody tr th {\n",
       "        vertical-align: top;\n",
       "    }\n",
       "\n",
       "    .dataframe thead th {\n",
       "        text-align: right;\n",
       "    }\n",
       "</style>\n",
       "<table border=\"1\" class=\"dataframe\">\n",
       "  <thead>\n",
       "    <tr style=\"text-align: right;\">\n",
       "      <th>1</th>\n",
       "      <th>date</th>\n",
       "      <th>II/112/1</th>\n",
       "      <th>II/113/1</th>\n",
       "      <th>II/114/1</th>\n",
       "      <th>II/115/1</th>\n",
       "      <th>II/116/1</th>\n",
       "      <th>II/131/1</th>\n",
       "      <th>II/132/1</th>\n",
       "      <th>II/292/1</th>\n",
       "      <th>II/297/1</th>\n",
       "      <th>...</th>\n",
       "      <th>II/936/1</th>\n",
       "      <th>II/940/1</th>\n",
       "      <th>II/949/1</th>\n",
       "      <th>II/951/1</th>\n",
       "      <th>II/952/1</th>\n",
       "      <th>II/957/1</th>\n",
       "      <th>II/1345/1</th>\n",
       "      <th>II/1346/1</th>\n",
       "      <th>II/1351/1</th>\n",
       "      <th>II/1352/1</th>\n",
       "    </tr>\n",
       "  </thead>\n",
       "  <tbody>\n",
       "    <tr>\n",
       "      <th>1</th>\n",
       "      <td>2001-11-12</td>\n",
       "      <td>9.66</td>\n",
       "      <td>31.91</td>\n",
       "      <td>29.44</td>\n",
       "      <td>10.57</td>\n",
       "      <td>8.19</td>\n",
       "      <td>16.96</td>\n",
       "      <td>48.25</td>\n",
       "      <td>12.05</td>\n",
       "      <td>5.2</td>\n",
       "      <td>...</td>\n",
       "      <td>0.16</td>\n",
       "      <td>42.69</td>\n",
       "      <td>NaN</td>\n",
       "      <td>NaN</td>\n",
       "      <td>NaN</td>\n",
       "      <td>NaN</td>\n",
       "      <td>NaN</td>\n",
       "      <td>NaN</td>\n",
       "      <td>NaN</td>\n",
       "      <td>NaN</td>\n",
       "    </tr>\n",
       "    <tr>\n",
       "      <th>2</th>\n",
       "      <td>2001-11-19</td>\n",
       "      <td>9.66</td>\n",
       "      <td>31.86</td>\n",
       "      <td>29.30</td>\n",
       "      <td>10.55</td>\n",
       "      <td>8.11</td>\n",
       "      <td>16.91</td>\n",
       "      <td>48.20</td>\n",
       "      <td>12.08</td>\n",
       "      <td>5.2</td>\n",
       "      <td>...</td>\n",
       "      <td>0.20</td>\n",
       "      <td>42.70</td>\n",
       "      <td>NaN</td>\n",
       "      <td>NaN</td>\n",
       "      <td>NaN</td>\n",
       "      <td>NaN</td>\n",
       "      <td>NaN</td>\n",
       "      <td>NaN</td>\n",
       "      <td>NaN</td>\n",
       "      <td>NaN</td>\n",
       "    </tr>\n",
       "    <tr>\n",
       "      <th>3</th>\n",
       "      <td>2001-11-26</td>\n",
       "      <td>9.63</td>\n",
       "      <td>31.80</td>\n",
       "      <td>29.44</td>\n",
       "      <td>10.54</td>\n",
       "      <td>8.03</td>\n",
       "      <td>16.86</td>\n",
       "      <td>48.25</td>\n",
       "      <td>12.07</td>\n",
       "      <td>5.0</td>\n",
       "      <td>...</td>\n",
       "      <td>0.19</td>\n",
       "      <td>42.73</td>\n",
       "      <td>NaN</td>\n",
       "      <td>NaN</td>\n",
       "      <td>NaN</td>\n",
       "      <td>NaN</td>\n",
       "      <td>NaN</td>\n",
       "      <td>NaN</td>\n",
       "      <td>NaN</td>\n",
       "      <td>NaN</td>\n",
       "    </tr>\n",
       "    <tr>\n",
       "      <th>4</th>\n",
       "      <td>2001-12-03</td>\n",
       "      <td>9.67</td>\n",
       "      <td>31.83</td>\n",
       "      <td>29.52</td>\n",
       "      <td>10.53</td>\n",
       "      <td>8.08</td>\n",
       "      <td>16.91</td>\n",
       "      <td>48.30</td>\n",
       "      <td>12.08</td>\n",
       "      <td>5.0</td>\n",
       "      <td>...</td>\n",
       "      <td>0.18</td>\n",
       "      <td>42.48</td>\n",
       "      <td>NaN</td>\n",
       "      <td>NaN</td>\n",
       "      <td>NaN</td>\n",
       "      <td>NaN</td>\n",
       "      <td>NaN</td>\n",
       "      <td>NaN</td>\n",
       "      <td>NaN</td>\n",
       "      <td>NaN</td>\n",
       "    </tr>\n",
       "    <tr>\n",
       "      <th>5</th>\n",
       "      <td>2001-12-10</td>\n",
       "      <td>9.69</td>\n",
       "      <td>31.86</td>\n",
       "      <td>29.52</td>\n",
       "      <td>10.52</td>\n",
       "      <td>8.13</td>\n",
       "      <td>16.81</td>\n",
       "      <td>48.25</td>\n",
       "      <td>12.07</td>\n",
       "      <td>5.2</td>\n",
       "      <td>...</td>\n",
       "      <td>0.19</td>\n",
       "      <td>42.57</td>\n",
       "      <td>NaN</td>\n",
       "      <td>NaN</td>\n",
       "      <td>NaN</td>\n",
       "      <td>NaN</td>\n",
       "      <td>NaN</td>\n",
       "      <td>NaN</td>\n",
       "      <td>NaN</td>\n",
       "      <td>NaN</td>\n",
       "    </tr>\n",
       "  </tbody>\n",
       "</table>\n",
       "<p>5 rows × 26 columns</p>\n",
       "</div>"
      ],
      "text/plain": [
       "1       date  II/112/1  II/113/1  II/114/1  II/115/1  II/116/1  II/131/1  \\\n",
       "1 2001-11-12      9.66     31.91     29.44     10.57      8.19     16.96   \n",
       "2 2001-11-19      9.66     31.86     29.30     10.55      8.11     16.91   \n",
       "3 2001-11-26      9.63     31.80     29.44     10.54      8.03     16.86   \n",
       "4 2001-12-03      9.67     31.83     29.52     10.53      8.08     16.91   \n",
       "5 2001-12-10      9.69     31.86     29.52     10.52      8.13     16.81   \n",
       "\n",
       "1  II/132/1  II/292/1  II/297/1  ...  II/936/1  II/940/1  II/949/1  II/951/1  \\\n",
       "1     48.25     12.05       5.2  ...      0.16     42.69       NaN       NaN   \n",
       "2     48.20     12.08       5.2  ...      0.20     42.70       NaN       NaN   \n",
       "3     48.25     12.07       5.0  ...      0.19     42.73       NaN       NaN   \n",
       "4     48.30     12.08       5.0  ...      0.18     42.48       NaN       NaN   \n",
       "5     48.25     12.07       5.2  ...      0.19     42.57       NaN       NaN   \n",
       "\n",
       "1  II/952/1  II/957/1  II/1345/1  II/1346/1  II/1351/1  II/1352/1  \n",
       "1       NaN       NaN        NaN        NaN        NaN        NaN  \n",
       "2       NaN       NaN        NaN        NaN        NaN        NaN  \n",
       "3       NaN       NaN        NaN        NaN        NaN        NaN  \n",
       "4       NaN       NaN        NaN        NaN        NaN        NaN  \n",
       "5       NaN       NaN        NaN        NaN        NaN        NaN  \n",
       "\n",
       "[5 rows x 26 columns]"
      ]
     },
     "execution_count": 16,
     "metadata": {},
     "output_type": "execute_result"
    }
   ],
   "source": [
    "excel_data.head()"
   ]
  },
  {
   "cell_type": "code",
   "execution_count": 17,
   "id": "85b46141-0e26-4679-ab3a-fdd697dabe62",
   "metadata": {},
   "outputs": [],
   "source": [
    "excel_2020 = excel_data[excel_data[\"date\"].dt.year.eq(2018)]"
   ]
  },
  {
   "cell_type": "code",
   "execution_count": 18,
   "id": "2591d33e-14f0-496e-ae05-379755e5b1bd",
   "metadata": {},
   "outputs": [
    {
     "data": {
      "text/plain": [
       "[<matplotlib.lines.Line2D at 0x288e1ad10>]"
      ]
     },
     "execution_count": 18,
     "metadata": {},
     "output_type": "execute_result"
    },
    {
     "data": {
      "image/png": "[encoded data removed]",
      "text/plain": [
       "<Figure size 432x288 with 1 Axes>"
      ]
     },
     "metadata": {
      "needs_background": "light"
     },
     "output_type": "display_data"
    }
   ],
   "source": [
    "plt.plot(excel_2020[\"date\"], excel_2020[\"II/113/1\"], label=\"II/113/1\")\n",
    "plt.plot(excel_2020[\"date\"], excel_2020[\"II/114/1\"], label=\"II/114/1\")"
   ]
  },
  {
   "cell_type": "code",
   "execution_count": 19,
   "id": "b684a380-9bdf-42fc-b438-55cefdd86e66",
   "metadata": {},
   "outputs": [],
   "source": [
    "corr = excel_data.corr()"
   ]
  },
  {
   "cell_type": "code",
   "execution_count": 20,
   "id": "77dac8f3-b55f-49d9-9512-e9591be59085",
   "metadata": {},
   "outputs": [
    {
     "data": {
      "text/plain": [
       "<AxesSubplot:xlabel='1', ylabel='1'>"
      ]
     },
     "execution_count": 20,
     "metadata": {},
     "output_type": "execute_result"
    },
    {
     "data": {
      "image/png": "[encoded data removed]",
      "text/plain": [
       "<Figure size 432x288 with 2 Axes>"
      ]
     },
     "metadata": {
      "needs_background": "light"
     },
     "output_type": "display_data"
    }
   ],
   "source": [
    "sns.heatmap(corr, \n",
    "        xticklabels=corr.columns,\n",
    "        yticklabels=corr.columns)"
   ]
  },
  {
   "cell_type": "code",
   "execution_count": 21,
   "id": "8932f16c-d982-4616-8937-00da1df84881",
   "metadata": {},
   "outputs": [],
   "source": [
    "excel_data_melted = excel_data.melt(id_vars=[\"date\"],\n",
    "                             var_name=\"name\",\n",
    "                             value_name=\"value\")"
   ]
  },
  {
   "cell_type": "code",
   "execution_count": 22,
   "id": "8fd07bfb-f6fe-4946-b347-a96b98737e0f",
   "metadata": {},
   "outputs": [
    {
     "data": {
      "text/html": [
       "<div>\n",
       "<style scoped>\n",
       "    .dataframe tbody tr th:only-of-type {\n",
       "        vertical-align: middle;\n",
       "    }\n",
       "\n",
       "    .dataframe tbody tr th {\n",
       "        vertical-align: top;\n",
       "    }\n",
       "\n",
       "    .dataframe thead th {\n",
       "        text-align: right;\n",
       "    }\n",
       "</style>\n",
       "<table border=\"1\" class=\"dataframe\">\n",
       "  <thead>\n",
       "    <tr style=\"text-align: right;\">\n",
       "      <th></th>\n",
       "      <th>date</th>\n",
       "      <th>name</th>\n",
       "      <th>value</th>\n",
       "    </tr>\n",
       "  </thead>\n",
       "  <tbody>\n",
       "    <tr>\n",
       "      <th>0</th>\n",
       "      <td>2001-11-12</td>\n",
       "      <td>II/112/1</td>\n",
       "      <td>9.66</td>\n",
       "    </tr>\n",
       "    <tr>\n",
       "      <th>1</th>\n",
       "      <td>2001-11-19</td>\n",
       "      <td>II/112/1</td>\n",
       "      <td>9.66</td>\n",
       "    </tr>\n",
       "    <tr>\n",
       "      <th>2</th>\n",
       "      <td>2001-11-26</td>\n",
       "      <td>II/112/1</td>\n",
       "      <td>9.63</td>\n",
       "    </tr>\n",
       "    <tr>\n",
       "      <th>3</th>\n",
       "      <td>2001-12-03</td>\n",
       "      <td>II/112/1</td>\n",
       "      <td>9.67</td>\n",
       "    </tr>\n",
       "    <tr>\n",
       "      <th>4</th>\n",
       "      <td>2001-12-10</td>\n",
       "      <td>II/112/1</td>\n",
       "      <td>9.69</td>\n",
       "    </tr>\n",
       "    <tr>\n",
       "      <th>...</th>\n",
       "      <td>...</td>\n",
       "      <td>...</td>\n",
       "      <td>...</td>\n",
       "    </tr>\n",
       "    <tr>\n",
       "      <th>27370</th>\n",
       "      <td>2022-10-03</td>\n",
       "      <td>II/1352/1</td>\n",
       "      <td>15.67</td>\n",
       "    </tr>\n",
       "    <tr>\n",
       "      <th>27371</th>\n",
       "      <td>2022-10-10</td>\n",
       "      <td>II/1352/1</td>\n",
       "      <td>15.66</td>\n",
       "    </tr>\n",
       "    <tr>\n",
       "      <th>27372</th>\n",
       "      <td>2022-10-17</td>\n",
       "      <td>II/1352/1</td>\n",
       "      <td>15.69</td>\n",
       "    </tr>\n",
       "    <tr>\n",
       "      <th>27373</th>\n",
       "      <td>2022-10-24</td>\n",
       "      <td>II/1352/1</td>\n",
       "      <td>15.70</td>\n",
       "    </tr>\n",
       "    <tr>\n",
       "      <th>27374</th>\n",
       "      <td>2022-10-31</td>\n",
       "      <td>II/1352/1</td>\n",
       "      <td>15.69</td>\n",
       "    </tr>\n",
       "  </tbody>\n",
       "</table>\n",
       "<p>27375 rows × 3 columns</p>\n",
       "</div>"
      ],
      "text/plain": [
       "            date       name  value\n",
       "0     2001-11-12   II/112/1   9.66\n",
       "1     2001-11-19   II/112/1   9.66\n",
       "2     2001-11-26   II/112/1   9.63\n",
       "3     2001-12-03   II/112/1   9.67\n",
       "4     2001-12-10   II/112/1   9.69\n",
       "...          ...        ...    ...\n",
       "27370 2022-10-03  II/1352/1  15.67\n",
       "27371 2022-10-10  II/1352/1  15.66\n",
       "27372 2022-10-17  II/1352/1  15.69\n",
       "27373 2022-10-24  II/1352/1  15.70\n",
       "27374 2022-10-31  II/1352/1  15.69\n",
       "\n",
       "[27375 rows x 3 columns]"
      ]
     },
     "execution_count": 22,
     "metadata": {},
     "output_type": "execute_result"
    }
   ],
   "source": [
    "excel_data_melted"
   ]
  },
  {
   "cell_type": "code",
   "execution_count": 23,
   "id": "28c20221-2b81-40f2-b591-03d623f6c65f",
   "metadata": {},
   "outputs": [],
   "source": [
    "points_data_dir = \"data/measurements/GA_5513_1739_2022_dane_o_punktach_czynnych_i_archiwalnych.xls\""
   ]
  },
  {
   "cell_type": "code",
   "execution_count": 24,
   "id": "5b041470-8c50-4e25-97e1-0c52d323dddd",
   "metadata": {},
   "outputs": [],
   "source": [
    "points_data = pd.read_excel(points_data_dir)"
   ]
  },
  {
   "cell_type": "code",
   "execution_count": 25,
   "id": "41452fbe-e4fb-4105-b987-d7f19cbab860",
   "metadata": {},
   "outputs": [
    {
     "data": {
      "text/plain": [
       "Index(['Identyfikator punktu (ID)',\n",
       "       'Numer punktu monitoringu stanu ilościowego',\n",
       "       'Numer punktu monitoringu stanu chemicznego',\n",
       "       'Numer punktu monitoringu badawczego', 'Numer punktu CBDH',\n",
       "       'Charakter punktu', 'Rodzaj otworu',\n",
       "       'Czynny/Nieczynny (monitoring stanu ilościowego)', 'Rok budowy',\n",
       "       'Współrzędne PUWG 1992 X', 'Współrzędne PUWG 1992 Y',\n",
       "       'Rzędna terenu [m n.p.m.]', 'Głębokość otworu [m]',\n",
       "       'Głębokość ostateczna [m]', 'Głębokość zw. nawierconego [m]',\n",
       "       'Głębokość zw. ustalonego [m]', 'Głębokość ww. strop [m]',\n",
       "       'Głębokość ww. spąg [m]', 'Stratygrafia (przed 2005)',\n",
       "       'Stratygrafia (po 2005)', 'Litologia', 'Litologia (opis)',\n",
       "       'Typ ośrodka',\n",
       "       'Rok rozpoczęcia obserwacji (monitoring stanu ilościowego)',\n",
       "       'Rok zakończenia obserwacji (monitoring stanu ilościowego)',\n",
       "       'Województwo', 'Powiat', 'Gmina', 'Miejscowość', 'JCWPd 172'],\n",
       "      dtype='object')"
      ]
     },
     "execution_count": 25,
     "metadata": {},
     "output_type": "execute_result"
    }
   ],
   "source": [
    "points_data.columns"
   ]
  },
  {
   "cell_type": "code",
   "execution_count": 26,
   "id": "a26bdad0-19b7-4974-93b9-500f8f88c895",
   "metadata": {},
   "outputs": [],
   "source": [
    "points_data = points_data[[\"Numer punktu monitoringu stanu ilościowego\", \"Rzędna terenu [m n.p.m.]\", \"Współrzędne PUWG 1992 X\", \"Współrzędne PUWG 1992 Y\"]]"
   ]
  },
  {
   "cell_type": "code",
   "execution_count": 27,
   "id": "1e7551ab-ded3-4626-87a5-68e6385337ae",
   "metadata": {},
   "outputs": [],
   "source": [
    "points_data = points_data.rename(columns = {\"Numer punktu monitoringu stanu ilościowego\": \"name\", \"Rzędna terenu [m n.p.m.]\": \"height\", \"Współrzędne PUWG 1992 X\": \"longitude\", \"Współrzędne PUWG 1992 Y\": \"latitude\"}) "
   ]
  },
  {
   "cell_type": "code",
   "execution_count": 28,
   "id": "3551eb52-03f8-425a-a6d4-10592d207fc7",
   "metadata": {},
   "outputs": [],
   "source": [
    "data_merged = pd.merge(excel_data_melted, points_data, on=\"name\")\n",
    "data_merged[\"normalized_value\"] = data_merged[\"height\"] - data_merged[\"value\"] "
   ]
  },
  {
   "cell_type": "code",
   "execution_count": 29,
   "id": "1d06a2aa-5763-4796-84a3-9d4f554e9424",
   "metadata": {},
   "outputs": [],
   "source": [
    "data_merged_gdf = geopandas.GeoDataFrame(data_merged, geometry=geopandas.points_from_xy(data_merged.longitude, data_merged.latitude))"
   ]
  },
  {
   "cell_type": "code",
   "execution_count": 30,
   "id": "4dce7c75-4b6e-452c-b3a0-c8154bdbc9b5",
   "metadata": {},
   "outputs": [],
   "source": [
    "data_merged_gdf = data_merged_gdf.set_crs(\"EPSG:2180\")"
   ]
  },
  {
   "cell_type": "code",
   "execution_count": 31,
   "id": "8768eccc-4def-4c24-829b-d92d8d1bd94c",
   "metadata": {},
   "outputs": [
    {
     "data": {
      "text/plain": [
       "<Projected CRS: EPSG:2180>\n",
       "Name: ETRF2000-PL / CS92\n",
       "Axis Info [cartesian]:\n",
       "- x[north]: Northing (metre)\n",
       "- y[east]: Easting (metre)\n",
       "Area of Use:\n",
       "- name: Poland - onshore and offshore.\n",
       "- bounds: (14.14, 49.0, 24.15, 55.93)\n",
       "Coordinate Operation:\n",
       "- name: Poland CS92\n",
       "- method: Transverse Mercator\n",
       "Datum: ETRF2000 Poland\n",
       "- Ellipsoid: GRS 1980\n",
       "- Prime Meridian: Greenwich"
      ]
     },
     "execution_count": 31,
     "metadata": {},
     "output_type": "execute_result"
    }
   ],
   "source": [
    "data_merged_gdf.crs"
   ]
  },
  {
   "cell_type": "code",
   "execution_count": 32,
   "id": "e4995184-6a02-46ab-be4a-8ad5948a3cba",
   "metadata": {},
   "outputs": [],
   "source": [
    "data_merged_gdf = data_merged_gdf.to_crs(\"EPSG:4326\")"
   ]
  },
  {
   "cell_type": "code",
   "execution_count": 33,
   "id": "af962d90-7953-412a-bd97-11d0a4104af8",
   "metadata": {},
   "outputs": [],
   "source": [
    "data_merged_gdf = data_merged_gdf.drop([\"longitude\", \"latitude\"], axis=1)"
   ]
  },
  {
   "cell_type": "code",
   "execution_count": 34,
   "id": "5cd21d3a-5296-460c-909c-8f41768d62ff",
   "metadata": {},
   "outputs": [
    {
     "data": {
      "text/html": [
       "<div>\n",
       "<style scoped>\n",
       "    .dataframe tbody tr th:only-of-type {\n",
       "        vertical-align: middle;\n",
       "    }\n",
       "\n",
       "    .dataframe tbody tr th {\n",
       "        vertical-align: top;\n",
       "    }\n",
       "\n",
       "    .dataframe thead th {\n",
       "        text-align: right;\n",
       "    }\n",
       "</style>\n",
       "<table border=\"1\" class=\"dataframe\">\n",
       "  <thead>\n",
       "    <tr style=\"text-align: right;\">\n",
       "      <th></th>\n",
       "      <th>date</th>\n",
       "      <th>name</th>\n",
       "      <th>value</th>\n",
       "      <th>height</th>\n",
       "      <th>normalized_value</th>\n",
       "      <th>geometry</th>\n",
       "    </tr>\n",
       "  </thead>\n",
       "  <tbody>\n",
       "    <tr>\n",
       "      <th>0</th>\n",
       "      <td>2001-11-12</td>\n",
       "      <td>II/112/1</td>\n",
       "      <td>9.66</td>\n",
       "      <td>252.3</td>\n",
       "      <td>242.64</td>\n",
       "      <td>POINT (18.85332 50.93821)</td>\n",
       "    </tr>\n",
       "    <tr>\n",
       "      <th>1</th>\n",
       "      <td>2001-11-19</td>\n",
       "      <td>II/112/1</td>\n",
       "      <td>9.66</td>\n",
       "      <td>252.3</td>\n",
       "      <td>242.64</td>\n",
       "      <td>POINT (18.85332 50.93821)</td>\n",
       "    </tr>\n",
       "    <tr>\n",
       "      <th>2</th>\n",
       "      <td>2001-11-26</td>\n",
       "      <td>II/112/1</td>\n",
       "      <td>9.63</td>\n",
       "      <td>252.3</td>\n",
       "      <td>242.67</td>\n",
       "      <td>POINT (18.85332 50.93821)</td>\n",
       "    </tr>\n",
       "    <tr>\n",
       "      <th>3</th>\n",
       "      <td>2001-12-03</td>\n",
       "      <td>II/112/1</td>\n",
       "      <td>9.67</td>\n",
       "      <td>252.3</td>\n",
       "      <td>242.63</td>\n",
       "      <td>POINT (18.85332 50.93821)</td>\n",
       "    </tr>\n",
       "    <tr>\n",
       "      <th>4</th>\n",
       "      <td>2001-12-10</td>\n",
       "      <td>II/112/1</td>\n",
       "      <td>9.69</td>\n",
       "      <td>252.3</td>\n",
       "      <td>242.61</td>\n",
       "      <td>POINT (18.85332 50.93821)</td>\n",
       "    </tr>\n",
       "    <tr>\n",
       "      <th>...</th>\n",
       "      <td>...</td>\n",
       "      <td>...</td>\n",
       "      <td>...</td>\n",
       "      <td>...</td>\n",
       "      <td>...</td>\n",
       "      <td>...</td>\n",
       "    </tr>\n",
       "    <tr>\n",
       "      <th>27370</th>\n",
       "      <td>2022-10-03</td>\n",
       "      <td>II/1352/1</td>\n",
       "      <td>15.67</td>\n",
       "      <td>307.3</td>\n",
       "      <td>291.63</td>\n",
       "      <td>POINT (18.95362 50.74014)</td>\n",
       "    </tr>\n",
       "    <tr>\n",
       "      <th>27371</th>\n",
       "      <td>2022-10-10</td>\n",
       "      <td>II/1352/1</td>\n",
       "      <td>15.66</td>\n",
       "      <td>307.3</td>\n",
       "      <td>291.64</td>\n",
       "      <td>POINT (18.95362 50.74014)</td>\n",
       "    </tr>\n",
       "    <tr>\n",
       "      <th>27372</th>\n",
       "      <td>2022-10-17</td>\n",
       "      <td>II/1352/1</td>\n",
       "      <td>15.69</td>\n",
       "      <td>307.3</td>\n",
       "      <td>291.61</td>\n",
       "      <td>POINT (18.95362 50.74014)</td>\n",
       "    </tr>\n",
       "    <tr>\n",
       "      <th>27373</th>\n",
       "      <td>2022-10-24</td>\n",
       "      <td>II/1352/1</td>\n",
       "      <td>15.70</td>\n",
       "      <td>307.3</td>\n",
       "      <td>291.60</td>\n",
       "      <td>POINT (18.95362 50.74014)</td>\n",
       "    </tr>\n",
       "    <tr>\n",
       "      <th>27374</th>\n",
       "      <td>2022-10-31</td>\n",
       "      <td>II/1352/1</td>\n",
       "      <td>15.69</td>\n",
       "      <td>307.3</td>\n",
       "      <td>291.61</td>\n",
       "      <td>POINT (18.95362 50.74014)</td>\n",
       "    </tr>\n",
       "  </tbody>\n",
       "</table>\n",
       "<p>27375 rows × 6 columns</p>\n",
       "</div>"
      ],
      "text/plain": [
       "            date       name  value  height  normalized_value  \\\n",
       "0     2001-11-12   II/112/1   9.66   252.3            242.64   \n",
       "1     2001-11-19   II/112/1   9.66   252.3            242.64   \n",
       "2     2001-11-26   II/112/1   9.63   252.3            242.67   \n",
       "3     2001-12-03   II/112/1   9.67   252.3            242.63   \n",
       "4     2001-12-10   II/112/1   9.69   252.3            242.61   \n",
       "...          ...        ...    ...     ...               ...   \n",
       "27370 2022-10-03  II/1352/1  15.67   307.3            291.63   \n",
       "27371 2022-10-10  II/1352/1  15.66   307.3            291.64   \n",
       "27372 2022-10-17  II/1352/1  15.69   307.3            291.61   \n",
       "27373 2022-10-24  II/1352/1  15.70   307.3            291.60   \n",
       "27374 2022-10-31  II/1352/1  15.69   307.3            291.61   \n",
       "\n",
       "                        geometry  \n",
       "0      POINT (18.85332 50.93821)  \n",
       "1      POINT (18.85332 50.93821)  \n",
       "2      POINT (18.85332 50.93821)  \n",
       "3      POINT (18.85332 50.93821)  \n",
       "4      POINT (18.85332 50.93821)  \n",
       "...                          ...  \n",
       "27370  POINT (18.95362 50.74014)  \n",
       "27371  POINT (18.95362 50.74014)  \n",
       "27372  POINT (18.95362 50.74014)  \n",
       "27373  POINT (18.95362 50.74014)  \n",
       "27374  POINT (18.95362 50.74014)  \n",
       "\n",
       "[27375 rows x 6 columns]"
      ]
     },
     "execution_count": 34,
     "metadata": {},
     "output_type": "execute_result"
    }
   ],
   "source": [
    "data_merged_gdf"
   ]
  },
  {
   "cell_type": "code",
   "execution_count": 35,
   "id": "6bf14da8-ac45-4688-b44e-15badc28c36f",
   "metadata": {},
   "outputs": [
    {
     "ename": "FileNotFoundError",
     "evalue": "[Errno 2] Unable to open file (unable to open file: name = 'data/gpm-imerg/3B-MO.MS.MRG.3IMERG.20210101-S000000-E235959.01.V06B.HDF5', errno = 2, error message = 'No such file or directory', flags = 0, o_flags = 0)",
     "output_type": "error",
     "traceback": [
      "\u001b[0;31m---------------------------------------------------------------------------\u001b[0m",
      "\u001b[0;31mFileNotFoundError\u001b[0m                         Traceback (most recent call last)",
      "\u001b[1;32m/Users/pawel/AGH/Master/grace-pl/prepare_measurements.ipynb Cell 37\u001b[0m in \u001b[0;36m<cell line: 1>\u001b[0;34m()\u001b[0m\n\u001b[0;32m----> <a href='vscode-notebook-cell:/Users/pawel/AGH/Master/grace-pl/prepare_measurements.ipynb#X51sZmlsZQ%3D%3D?line=0'>1</a>\u001b[0m file \u001b[39m=\u001b[39m h5py\u001b[39m.\u001b[39;49mFile(\u001b[39m\"\u001b[39;49m\u001b[39mdata/gpm-imerg/3B-MO.MS.MRG.3IMERG.20210101-S000000-E235959.01.V06B.HDF5\u001b[39;49m\u001b[39m\"\u001b[39;49m, \u001b[39m\"\u001b[39;49m\u001b[39mr\u001b[39;49m\u001b[39m\"\u001b[39;49m)\n",
      "File \u001b[0;32m/Library/Frameworks/Python.framework/Versions/3.10/lib/python3.10/site-packages/h5py/_hl/files.py:533\u001b[0m, in \u001b[0;36mFile.__init__\u001b[0;34m(self, name, mode, driver, libver, userblock_size, swmr, rdcc_nslots, rdcc_nbytes, rdcc_w0, track_order, fs_strategy, fs_persist, fs_threshold, fs_page_size, page_buf_size, min_meta_keep, min_raw_keep, locking, alignment_threshold, alignment_interval, **kwds)\u001b[0m\n\u001b[1;32m    525\u001b[0m     fapl \u001b[39m=\u001b[39m make_fapl(driver, libver, rdcc_nslots, rdcc_nbytes, rdcc_w0,\n\u001b[1;32m    526\u001b[0m                      locking, page_buf_size, min_meta_keep, min_raw_keep,\n\u001b[1;32m    527\u001b[0m                      alignment_threshold\u001b[39m=\u001b[39malignment_threshold,\n\u001b[1;32m    528\u001b[0m                      alignment_interval\u001b[39m=\u001b[39malignment_interval,\n\u001b[1;32m    529\u001b[0m                      \u001b[39m*\u001b[39m\u001b[39m*\u001b[39mkwds)\n\u001b[1;32m    530\u001b[0m     fcpl \u001b[39m=\u001b[39m make_fcpl(track_order\u001b[39m=\u001b[39mtrack_order, fs_strategy\u001b[39m=\u001b[39mfs_strategy,\n\u001b[1;32m    531\u001b[0m                      fs_persist\u001b[39m=\u001b[39mfs_persist, fs_threshold\u001b[39m=\u001b[39mfs_threshold,\n\u001b[1;32m    532\u001b[0m                      fs_page_size\u001b[39m=\u001b[39mfs_page_size)\n\u001b[0;32m--> 533\u001b[0m     fid \u001b[39m=\u001b[39m make_fid(name, mode, userblock_size, fapl, fcpl, swmr\u001b[39m=\u001b[39;49mswmr)\n\u001b[1;32m    535\u001b[0m \u001b[39mif\u001b[39;00m \u001b[39misinstance\u001b[39m(libver, \u001b[39mtuple\u001b[39m):\n\u001b[1;32m    536\u001b[0m     \u001b[39mself\u001b[39m\u001b[39m.\u001b[39m_libver \u001b[39m=\u001b[39m libver\n",
      "File \u001b[0;32m/Library/Frameworks/Python.framework/Versions/3.10/lib/python3.10/site-packages/h5py/_hl/files.py:226\u001b[0m, in \u001b[0;36mmake_fid\u001b[0;34m(name, mode, userblock_size, fapl, fcpl, swmr)\u001b[0m\n\u001b[1;32m    224\u001b[0m     \u001b[39mif\u001b[39;00m swmr \u001b[39mand\u001b[39;00m swmr_support:\n\u001b[1;32m    225\u001b[0m         flags \u001b[39m|\u001b[39m\u001b[39m=\u001b[39m h5f\u001b[39m.\u001b[39mACC_SWMR_READ\n\u001b[0;32m--> 226\u001b[0m     fid \u001b[39m=\u001b[39m h5f\u001b[39m.\u001b[39;49mopen(name, flags, fapl\u001b[39m=\u001b[39;49mfapl)\n\u001b[1;32m    227\u001b[0m \u001b[39melif\u001b[39;00m mode \u001b[39m==\u001b[39m \u001b[39m'\u001b[39m\u001b[39mr+\u001b[39m\u001b[39m'\u001b[39m:\n\u001b[1;32m    228\u001b[0m     fid \u001b[39m=\u001b[39m h5f\u001b[39m.\u001b[39mopen(name, h5f\u001b[39m.\u001b[39mACC_RDWR, fapl\u001b[39m=\u001b[39mfapl)\n",
      "File \u001b[0;32mh5py/_objects.pyx:54\u001b[0m, in \u001b[0;36mh5py._objects.with_phil.wrapper\u001b[0;34m()\u001b[0m\n",
      "File \u001b[0;32mh5py/_objects.pyx:55\u001b[0m, in \u001b[0;36mh5py._objects.with_phil.wrapper\u001b[0;34m()\u001b[0m\n",
      "File \u001b[0;32mh5py/h5f.pyx:106\u001b[0m, in \u001b[0;36mh5py.h5f.open\u001b[0;34m()\u001b[0m\n",
      "\u001b[0;31mFileNotFoundError\u001b[0m: [Errno 2] Unable to open file (unable to open file: name = 'data/gpm-imerg/3B-MO.MS.MRG.3IMERG.20210101-S000000-E235959.01.V06B.HDF5', errno = 2, error message = 'No such file or directory', flags = 0, o_flags = 0)"
     ]
    }
   ],
   "source": [
    "file = h5py.File(\"data/gpm-imerg/3B-MO.MS.MRG.3IMERG.20210101-S000000-E235959.01.V06B.HDF5\", \"r\")"
   ]
  },
  {
   "cell_type": "code",
   "execution_count": null,
   "id": "605c2be9-51d1-4b4c-80af-62689cc59271",
   "metadata": {},
   "outputs": [
    {
     "data": {
      "text/plain": [
       "['Grid']"
      ]
     },
     "execution_count": 110,
     "metadata": {},
     "output_type": "execute_result"
    }
   ],
   "source": [
    "list(file.keys())"
   ]
  },
  {
   "cell_type": "code",
   "execution_count": 36,
   "id": "c8fb5a7f-0dce-4c8a-b54c-8fb01bc34e6e",
   "metadata": {},
   "outputs": [
    {
     "data": {
      "text/html": [
       "<div>\n",
       "<style scoped>\n",
       "    .dataframe tbody tr th:only-of-type {\n",
       "        vertical-align: middle;\n",
       "    }\n",
       "\n",
       "    .dataframe tbody tr th {\n",
       "        vertical-align: top;\n",
       "    }\n",
       "\n",
       "    .dataframe thead th {\n",
       "        text-align: right;\n",
       "    }\n",
       "</style>\n",
       "<table border=\"1\" class=\"dataframe\">\n",
       "  <thead>\n",
       "    <tr style=\"text-align: right;\">\n",
       "      <th></th>\n",
       "      <th>value</th>\n",
       "      <th>height</th>\n",
       "      <th>normalized_value</th>\n",
       "    </tr>\n",
       "  </thead>\n",
       "  <tbody>\n",
       "    <tr>\n",
       "      <th>count</th>\n",
       "      <td>19117.000000</td>\n",
       "      <td>27375.000000</td>\n",
       "      <td>19117.000000</td>\n",
       "    </tr>\n",
       "    <tr>\n",
       "      <th>mean</th>\n",
       "      <td>18.572306</td>\n",
       "      <td>262.350400</td>\n",
       "      <td>246.010943</td>\n",
       "    </tr>\n",
       "    <tr>\n",
       "      <th>std</th>\n",
       "      <td>14.436148</td>\n",
       "      <td>32.694301</td>\n",
       "      <td>27.865401</td>\n",
       "    </tr>\n",
       "    <tr>\n",
       "      <th>min</th>\n",
       "      <td>-0.100000</td>\n",
       "      <td>210.000000</td>\n",
       "      <td>195.110000</td>\n",
       "    </tr>\n",
       "    <tr>\n",
       "      <th>25%</th>\n",
       "      <td>5.790000</td>\n",
       "      <td>242.000000</td>\n",
       "      <td>231.830000</td>\n",
       "    </tr>\n",
       "    <tr>\n",
       "      <th>50%</th>\n",
       "      <td>14.500000</td>\n",
       "      <td>252.300000</td>\n",
       "      <td>238.800000</td>\n",
       "    </tr>\n",
       "    <tr>\n",
       "      <th>75%</th>\n",
       "      <td>31.370000</td>\n",
       "      <td>280.740000</td>\n",
       "      <td>265.400000</td>\n",
       "    </tr>\n",
       "    <tr>\n",
       "      <th>max</th>\n",
       "      <td>50.300000</td>\n",
       "      <td>350.000000</td>\n",
       "      <td>337.560000</td>\n",
       "    </tr>\n",
       "  </tbody>\n",
       "</table>\n",
       "</div>"
      ],
      "text/plain": [
       "              value        height  normalized_value\n",
       "count  19117.000000  27375.000000      19117.000000\n",
       "mean      18.572306    262.350400        246.010943\n",
       "std       14.436148     32.694301         27.865401\n",
       "min       -0.100000    210.000000        195.110000\n",
       "25%        5.790000    242.000000        231.830000\n",
       "50%       14.500000    252.300000        238.800000\n",
       "75%       31.370000    280.740000        265.400000\n",
       "max       50.300000    350.000000        337.560000"
      ]
     },
     "execution_count": 36,
     "metadata": {},
     "output_type": "execute_result"
    }
   ],
   "source": [
    "data_merged_gdf.describe()"
   ]
  },
  {
   "cell_type": "code",
   "execution_count": 37,
   "id": "fa2f93a8-7330-4937-bb8b-86d9bec818f4",
   "metadata": {},
   "outputs": [
    {
     "data": {
      "text/plain": [
       "date                   0\n",
       "name                   0\n",
       "value               8258\n",
       "height                 0\n",
       "normalized_value    8258\n",
       "geometry               0\n",
       "dtype: int64"
      ]
     },
     "execution_count": 37,
     "metadata": {},
     "output_type": "execute_result"
    }
   ],
   "source": [
    "data_merged_gdf.isna().sum()"
   ]
  },
  {
   "cell_type": "code",
   "execution_count": null,
   "id": "e9457ed6-346b-434b-8ff9-d70e6cf0a3e1",
   "metadata": {},
   "outputs": [],
   "source": []
  },
  {
   "cell_type": "code",
   "execution_count": 39,
   "id": "1370091b-fe69-4dce-8b2b-9901d7b24b49",
   "metadata": {},
   "outputs": [],
   "source": [
    "def excel_to_geopandas(excel_data_dir, points_data_dir):\n",
    "    excel_data = pd.read_excel(excel_data_dir)\n",
    "    excel_data = excel_data.drop(excel_data.index[0])\n",
    "    excel_data.columns = excel_data.iloc[0]\n",
    "    excel_data = excel_data.drop(excel_data.index[0])\n",
    "    excel_data.reset_index(inplace=True)\n",
    "    excel_data.drop(\"index\", inplace=True, axis=1)\n",
    "    excel_data = excel_data.rename(columns = {\"Data/Punkty\": \"date\"})\n",
    "\n",
    "    excel_data[\"date\"] = pd.to_datetime(excel_data[\"date\"], format='%Y-%m-%d %H:%M:%S')\n",
    "    excel_data[excel_data.loc[:, excel_data.columns != \"date\"].columns] = excel_data[excel_data.loc[:, excel_data.columns != \"date\"].columns].astype('float64')\n",
    "    excel_data_melted = excel_data.melt(id_vars=[\"date\"],\n",
    "                             var_name=\"name\",\n",
    "                             value_name=\"value\")\n",
    "    points_data = pd.read_excel(points_data_dir)\n",
    "    points_data = points_data[[\"Numer punktu monitoringu stanu ilościowego\", \"Rzędna terenu [m n.p.m.]\", \"Współrzędne PUWG 1992 X\", \"Współrzędne PUWG 1992 Y\"]]\n",
    "    points_data = points_data.rename(columns = {\"Numer punktu monitoringu stanu ilościowego\": \"name\", \"Rzędna terenu [m n.p.m.]\": \"height\", \"Współrzędne PUWG 1992 X\": \"longitude\", \"Współrzędne PUWG 1992 Y\": \"latitude\"}) \n",
    "    data_merged = pd.merge(excel_data_melted, points_data, on=\"name\")\n",
    "    data_merged[\"normalized_value\"] = data_merged[\"height\"] - data_merged[\"value\"] \n",
    "    gdf = geopandas.GeoDataFrame(data_merged, geometry=geopandas.points_from_xy(data_merged.longitude, data_merged.latitude))\n",
    "    \n",
    "    gdf = gdf.set_crs(\"EPSG:2180\")\n",
    "    gdf = gdf.to_crs(\"EPSG:4326\")\n",
    "    gdf = gdf.drop([\"longitude\", \"latitude\"], axis=1)\n",
    "    return gdf\n",
    "    "
   ]
  },
  {
   "cell_type": "code",
   "execution_count": 40,
   "id": "ed484177-2c88-48fc-9d48-4c225b5dffbd",
   "metadata": {},
   "outputs": [],
   "source": [
    "gdf_manual = excel_to_geopandas(excel_data_dirs[0], points_data_dir)\n",
    "gdf_auto = excel_to_geopandas(excel_data_dirs[1], points_data_dir)\n",
    "\n",
    "gdf_manual = gdf_manual.dropna()\n",
    "gdf_auto = gdf_auto.dropna()\n",
    "\n",
    "\n",
    "#for i, excel_data in enumerate(excel_data_dirs):\n",
    "#    gdf = excel_to_geopandas(excel_data, points_data_dir)\n",
    "#    gdf.to_file(excel_data_geojson_dirs[i], driver=\"GeoJSON\")\n",
    "    \n",
    "    \n",
    "    \n",
    "gdf = gdf_manual.append(gdf_auto, ignore_index=True)\n",
    "gdf.drop_duplicates(subset=['date', 'name'], keep='first', inplace=True)"
   ]
  },
  {
   "cell_type": "code",
   "execution_count": 45,
   "id": "88051cfc",
   "metadata": {},
   "outputs": [
    {
     "data": {
      "text/html": [
       "<div>\n",
       "<style scoped>\n",
       "    .dataframe tbody tr th:only-of-type {\n",
       "        vertical-align: middle;\n",
       "    }\n",
       "\n",
       "    .dataframe tbody tr th {\n",
       "        vertical-align: top;\n",
       "    }\n",
       "\n",
       "    .dataframe thead th {\n",
       "        text-align: right;\n",
       "    }\n",
       "</style>\n",
       "<table border=\"1\" class=\"dataframe\">\n",
       "  <thead>\n",
       "    <tr style=\"text-align: right;\">\n",
       "      <th></th>\n",
       "      <th>date</th>\n",
       "      <th>name</th>\n",
       "      <th>value</th>\n",
       "      <th>height</th>\n",
       "      <th>normalized_value</th>\n",
       "      <th>geometry</th>\n",
       "    </tr>\n",
       "  </thead>\n",
       "  <tbody>\n",
       "    <tr>\n",
       "      <th>0</th>\n",
       "      <td>2001-11-05</td>\n",
       "      <td>II/112/1</td>\n",
       "      <td>9.65</td>\n",
       "      <td>252.3</td>\n",
       "      <td>242.65</td>\n",
       "      <td>POINT (18.85332 50.93821)</td>\n",
       "    </tr>\n",
       "    <tr>\n",
       "      <th>1</th>\n",
       "      <td>2001-11-12</td>\n",
       "      <td>II/112/1</td>\n",
       "      <td>9.66</td>\n",
       "      <td>252.3</td>\n",
       "      <td>242.64</td>\n",
       "      <td>POINT (18.85332 50.93821)</td>\n",
       "    </tr>\n",
       "    <tr>\n",
       "      <th>2</th>\n",
       "      <td>2001-11-19</td>\n",
       "      <td>II/112/1</td>\n",
       "      <td>9.66</td>\n",
       "      <td>252.3</td>\n",
       "      <td>242.64</td>\n",
       "      <td>POINT (18.85332 50.93821)</td>\n",
       "    </tr>\n",
       "    <tr>\n",
       "      <th>3</th>\n",
       "      <td>2001-11-26</td>\n",
       "      <td>II/112/1</td>\n",
       "      <td>9.63</td>\n",
       "      <td>252.3</td>\n",
       "      <td>242.67</td>\n",
       "      <td>POINT (18.85332 50.93821)</td>\n",
       "    </tr>\n",
       "    <tr>\n",
       "      <th>4</th>\n",
       "      <td>2001-12-03</td>\n",
       "      <td>II/112/1</td>\n",
       "      <td>9.67</td>\n",
       "      <td>252.3</td>\n",
       "      <td>242.63</td>\n",
       "      <td>POINT (18.85332 50.93821)</td>\n",
       "    </tr>\n",
       "    <tr>\n",
       "      <th>...</th>\n",
       "      <td>...</td>\n",
       "      <td>...</td>\n",
       "      <td>...</td>\n",
       "      <td>...</td>\n",
       "      <td>...</td>\n",
       "      <td>...</td>\n",
       "    </tr>\n",
       "    <tr>\n",
       "      <th>28597</th>\n",
       "      <td>2022-10-27</td>\n",
       "      <td>II/1351/1</td>\n",
       "      <td>2.54</td>\n",
       "      <td>241.4</td>\n",
       "      <td>238.86</td>\n",
       "      <td>POINT (18.65775 50.77161)</td>\n",
       "    </tr>\n",
       "    <tr>\n",
       "      <th>28598</th>\n",
       "      <td>2022-10-28</td>\n",
       "      <td>II/1351/1</td>\n",
       "      <td>2.54</td>\n",
       "      <td>241.4</td>\n",
       "      <td>238.86</td>\n",
       "      <td>POINT (18.65775 50.77161)</td>\n",
       "    </tr>\n",
       "    <tr>\n",
       "      <th>28599</th>\n",
       "      <td>2022-10-29</td>\n",
       "      <td>II/1351/1</td>\n",
       "      <td>2.54</td>\n",
       "      <td>241.4</td>\n",
       "      <td>238.86</td>\n",
       "      <td>POINT (18.65775 50.77161)</td>\n",
       "    </tr>\n",
       "    <tr>\n",
       "      <th>28600</th>\n",
       "      <td>2022-10-30</td>\n",
       "      <td>II/1351/1</td>\n",
       "      <td>2.54</td>\n",
       "      <td>241.4</td>\n",
       "      <td>238.86</td>\n",
       "      <td>POINT (18.65775 50.77161)</td>\n",
       "    </tr>\n",
       "    <tr>\n",
       "      <th>28601</th>\n",
       "      <td>2022-10-31</td>\n",
       "      <td>II/1351/1</td>\n",
       "      <td>2.55</td>\n",
       "      <td>241.4</td>\n",
       "      <td>238.85</td>\n",
       "      <td>POINT (18.65775 50.77161)</td>\n",
       "    </tr>\n",
       "  </tbody>\n",
       "</table>\n",
       "<p>28034 rows × 6 columns</p>\n",
       "</div>"
      ],
      "text/plain": [
       "            date       name  value  height  normalized_value  \\\n",
       "0     2001-11-05   II/112/1   9.65   252.3            242.65   \n",
       "1     2001-11-12   II/112/1   9.66   252.3            242.64   \n",
       "2     2001-11-19   II/112/1   9.66   252.3            242.64   \n",
       "3     2001-11-26   II/112/1   9.63   252.3            242.67   \n",
       "4     2001-12-03   II/112/1   9.67   252.3            242.63   \n",
       "...          ...        ...    ...     ...               ...   \n",
       "28597 2022-10-27  II/1351/1   2.54   241.4            238.86   \n",
       "28598 2022-10-28  II/1351/1   2.54   241.4            238.86   \n",
       "28599 2022-10-29  II/1351/1   2.54   241.4            238.86   \n",
       "28600 2022-10-30  II/1351/1   2.54   241.4            238.86   \n",
       "28601 2022-10-31  II/1351/1   2.55   241.4            238.85   \n",
       "\n",
       "                        geometry  \n",
       "0      POINT (18.85332 50.93821)  \n",
       "1      POINT (18.85332 50.93821)  \n",
       "2      POINT (18.85332 50.93821)  \n",
       "3      POINT (18.85332 50.93821)  \n",
       "4      POINT (18.85332 50.93821)  \n",
       "...                          ...  \n",
       "28597  POINT (18.65775 50.77161)  \n",
       "28598  POINT (18.65775 50.77161)  \n",
       "28599  POINT (18.65775 50.77161)  \n",
       "28600  POINT (18.65775 50.77161)  \n",
       "28601  POINT (18.65775 50.77161)  \n",
       "\n",
       "[28034 rows x 6 columns]"
      ]
     },
     "execution_count": 45,
     "metadata": {},
     "output_type": "execute_result"
    }
   ],
   "source": [
    "gdf"
   ]
  },
  {
   "cell_type": "code",
   "execution_count": 44,
   "id": "78718148-0b44-4340-af88-9160e42810a9",
   "metadata": {},
   "outputs": [
    {
     "data": {
      "image/png": "[encoded data removed]",
      "text/plain": [
       "<Figure size 1440x720 with 2 Axes>"
      ]
     },
     "metadata": {
      "needs_background": "light"
     },
     "output_type": "display_data"
    }
   ],
   "source": [
    "#auto stations are continuation of manual stations\n",
    "plt.rcParams[\"figure.figsize\"] = (20,10)\n",
    "fig, axs = plt.subplots(1, 2)\n",
    "ax = axs[0]\n",
    "for name in gdf_auto['name'].unique():\n",
    "    gdf[gdf['name'] == name].plot(kind='line',x='date',y='value',ax=ax, c=\"black\", label=\"Concatenated\", style='-', linewidth=1)\n",
    "    gdf_manual[gdf_manual['name'] == name].plot(kind='line',x='date',y='value', c=\"blue\", ax=ax, label=\"Manual\", style='-', linewidth=1)\n",
    "    gdf_auto[gdf_auto['name'] == name].plot(kind='line',x='date',y='value',ax=ax, c=\"red\", label=\"Automatic\", style='-')\n",
    "\n",
    "handles, labels = ax.get_legend_handles_labels()\n",
    "by_label = dict(zip(labels, handles))\n",
    "ax.legend(by_label.values(), by_label.keys())\n",
    "\n",
    "ax = axs[1]\n",
    "for name in gdf_auto['name'].unique():\n",
    "    gdf[gdf['name'] == name].plot(kind='line',x='date',y='normalized_value',ax=ax, c=\"black\", label=\"Concatenated\", style='-', linewidth=8)\n",
    "    gdf_manual[gdf_manual['name'] == name].plot(kind='line',x='date',y='normalized_value', c=\"blue\", ax=ax, label=\"Manual\", style='-', linewidth=4)\n",
    "    gdf_auto[gdf_auto['name'] == name].plot(kind='line',x='date',y='normalized_value',ax=ax, c=\"red\", label=\"Automatic\", style='-')\n",
    "\n",
    "handles, labels = ax.get_legend_handles_labels()\n",
    "by_label = dict(zip(labels, handles))\n",
    "ax.legend(by_label.values(), by_label.keys())\n",
    "\n",
    "plt.show()"
   ]
  },
  {
   "cell_type": "code",
   "execution_count": null,
   "id": "49e7c0e7-7cc1-4b10-90e0-234c4791141f",
   "metadata": {},
   "outputs": [
    {
     "data": {
      "image/png": "[encoded data removed]",
      "text/plain": [
       "<Figure size 640x480 with 1 Axes>"
      ]
     },
     "metadata": {},
     "output_type": "display_data"
    }
   ],
   "source": [
    "#auto stations are continuation of manual stations\n",
    "ax = plt.subplots(2)\n",
    "for name in gdf_auto['name'].unique():\n",
    "    gdf[gdf['name'] == name].plot(kind='line',x='date',y='normalized_value',ax=ax[0], c=\"black\", label=\"Concatenated\", style='-', linewidth=8)\n",
    "    gdf_manual[gdf_manual['name'] == name].plot(kind='line',x='date',y='normalized_value', c=\"blue\", ax=ax[0], label=\"Manual\", style='-', linewidth=4)\n",
    "    gdf_auto[gdf_auto['name'] == name].plot(kind='line',x='date',y='normalized_value',ax=ax[0], c=\"red\", label=\"Automatic\", style='-')\n",
    "\n",
    "handles, labels = ax[0].get_legend_handles_labels()\n",
    "by_label = dict(zip(labels, handles))\n",
    "ax[0].legend(by_label.values(), by_label.keys())\n",
    "plt.show()"
   ]
  },
  {
   "cell_type": "code",
   "execution_count": null,
   "id": "388a0422-c126-4e90-8e4e-27a86155ec1d",
   "metadata": {},
   "outputs": [
    {
     "data": {
      "image/png": "[encoded data removed]",
      "text/plain": [
       "<Figure size 480x480 with 2 Axes>"
      ]
     },
     "metadata": {},
     "output_type": "display_data"
    }
   ],
   "source": [
    "corr = gdf.set_index('date')\n",
    "corr = corr.pivot(columns='name', values='value')\n",
    "corr = corr.corr()\n",
    "#plot correlation matrix\n",
    "plt.matshow(corr)\n",
    "plt.xticks(range(len(corr.columns)), corr.columns, rotation='vertical')\n",
    "plt.yticks(range(len(corr.columns)), corr.columns)\n",
    "plt.colorbar()\n",
    "plt.show()"
   ]
  },
  {
   "cell_type": "code",
   "execution_count": null,
   "id": "49d9d93f-1239-4a8d-9263-f456cc97be04",
   "metadata": {},
   "outputs": [
    {
     "data": {
      "image/png": "[encoded data removed]",
      "text/plain": [
       "<Figure size 480x480 with 2 Axes>"
      ]
     },
     "metadata": {},
     "output_type": "display_data"
    }
   ],
   "source": [
    "corr = gdf.set_index('date')\n",
    "corr = corr.pivot(columns='name', values='normalized_value')\n",
    "corr = corr.corr()\n",
    "#plot correlation matrix\n",
    "plt.matshow(corr)\n",
    "plt.xticks(range(len(corr.columns)), corr.columns, rotation='vertical')\n",
    "plt.yticks(range(len(corr.columns)), corr.columns)\n",
    "plt.colorbar()\n",
    "plt.show()"
   ]
  },
  {
   "cell_type": "code",
   "execution_count": null,
   "id": "4a71248e-291b-42ff-bf03-dfc6cbc582dc",
   "metadata": {},
   "outputs": [
    {
     "data": {
      "application/vnd.jupyter.widget-view+json": {
       "model_id": "2c4f7f628f3749fca3f07e35e995a816",
       "version_major": 2,
       "version_minor": 0
      },
      "text/plain": [
       "Map(center=[20, 0], controls=(ZoomControl(options=['position', 'zoom_in_text', 'zoom_in_title', 'zoom_out_text…"
      ]
     },
     "metadata": {},
     "output_type": "display_data"
    }
   ],
   "source": [
    "m = leafmap.Map()\n",
    "m.add_gdf(gdf.drop([\"date\", \"value\"], axis=1).drop_duplicates(subset=\"geometry\", keep=\"first\"), layer_name=\"Stations\", info_mode=\"on_click\")\n",
    "m.add_geojson(\"data/aoi.geojson\", layer_name=\"AOI\", info_mode=\"on_click\")\n",
    "m"
   ]
  },
  {
   "cell_type": "code",
   "execution_count": null,
   "id": "ba85e845-195e-41de-9347-7122105ac870",
   "metadata": {},
   "outputs": [],
   "source": [
    "measurements_dir = \"data/measurements\"\n",
    "automatic_path = os.path.join(measurements_dir, \"GA_5513_1739_2022_quantitative_status_monitoring_automatic.json\")\n",
    "manual_path = os.path.join(measurements_dir, \"GA_5513_1739_2022_quantitative_status_monitoring_manual.json\")"
   ]
  },
  {
   "cell_type": "code",
   "execution_count": null,
   "id": "e678a28a-3969-41b1-b6a2-90543df7307e",
   "metadata": {},
   "outputs": [],
   "source": [
    "gdf = geopandas.read_file(automatic_path)"
   ]
  },
  {
   "cell_type": "code",
   "execution_count": null,
   "id": "17d85245-b91e-41df-b34e-a6ae3b00a130",
   "metadata": {},
   "outputs": [
    {
     "data": {
      "text/html": [
       "<div>\n",
       "<style scoped>\n",
       "    .dataframe tbody tr th:only-of-type {\n",
       "        vertical-align: middle;\n",
       "    }\n",
       "\n",
       "    .dataframe tbody tr th {\n",
       "        vertical-align: top;\n",
       "    }\n",
       "\n",
       "    .dataframe thead th {\n",
       "        text-align: right;\n",
       "    }\n",
       "</style>\n",
       "<table border=\"1\" class=\"dataframe\">\n",
       "  <thead>\n",
       "    <tr style=\"text-align: right;\">\n",
       "      <th></th>\n",
       "      <th>date</th>\n",
       "      <th>name</th>\n",
       "      <th>value</th>\n",
       "      <th>geometry</th>\n",
       "    </tr>\n",
       "  </thead>\n",
       "  <tbody>\n",
       "    <tr>\n",
       "      <th>0</th>\n",
       "      <td>2014-10-01</td>\n",
       "      <td>II/131/1</td>\n",
       "      <td>NaN</td>\n",
       "      <td>POINT (19.22175 50.82669)</td>\n",
       "    </tr>\n",
       "    <tr>\n",
       "      <th>1</th>\n",
       "      <td>2014-10-02</td>\n",
       "      <td>II/131/1</td>\n",
       "      <td>NaN</td>\n",
       "      <td>POINT (19.22175 50.82669)</td>\n",
       "    </tr>\n",
       "    <tr>\n",
       "      <th>2</th>\n",
       "      <td>2014-10-03</td>\n",
       "      <td>II/131/1</td>\n",
       "      <td>NaN</td>\n",
       "      <td>POINT (19.22175 50.82669)</td>\n",
       "    </tr>\n",
       "    <tr>\n",
       "      <th>3</th>\n",
       "      <td>2014-10-04</td>\n",
       "      <td>II/131/1</td>\n",
       "      <td>NaN</td>\n",
       "      <td>POINT (19.22175 50.82669)</td>\n",
       "    </tr>\n",
       "    <tr>\n",
       "      <th>4</th>\n",
       "      <td>2014-10-05</td>\n",
       "      <td>II/131/1</td>\n",
       "      <td>NaN</td>\n",
       "      <td>POINT (19.22175 50.82669)</td>\n",
       "    </tr>\n",
       "    <tr>\n",
       "      <th>...</th>\n",
       "      <td>...</td>\n",
       "      <td>...</td>\n",
       "      <td>...</td>\n",
       "      <td>...</td>\n",
       "    </tr>\n",
       "    <tr>\n",
       "      <th>17677</th>\n",
       "      <td>2022-10-27</td>\n",
       "      <td>II/1351/1</td>\n",
       "      <td>2.54</td>\n",
       "      <td>POINT (18.65775 50.77161)</td>\n",
       "    </tr>\n",
       "    <tr>\n",
       "      <th>17678</th>\n",
       "      <td>2022-10-28</td>\n",
       "      <td>II/1351/1</td>\n",
       "      <td>2.54</td>\n",
       "      <td>POINT (18.65775 50.77161)</td>\n",
       "    </tr>\n",
       "    <tr>\n",
       "      <th>17679</th>\n",
       "      <td>2022-10-29</td>\n",
       "      <td>II/1351/1</td>\n",
       "      <td>2.54</td>\n",
       "      <td>POINT (18.65775 50.77161)</td>\n",
       "    </tr>\n",
       "    <tr>\n",
       "      <th>17680</th>\n",
       "      <td>2022-10-30</td>\n",
       "      <td>II/1351/1</td>\n",
       "      <td>2.54</td>\n",
       "      <td>POINT (18.65775 50.77161)</td>\n",
       "    </tr>\n",
       "    <tr>\n",
       "      <th>17681</th>\n",
       "      <td>2022-10-31</td>\n",
       "      <td>II/1351/1</td>\n",
       "      <td>2.55</td>\n",
       "      <td>POINT (18.65775 50.77161)</td>\n",
       "    </tr>\n",
       "  </tbody>\n",
       "</table>\n",
       "<p>17682 rows × 4 columns</p>\n",
       "</div>"
      ],
      "text/plain": [
       "            date       name  value                   geometry\n",
       "0     2014-10-01   II/131/1    NaN  POINT (19.22175 50.82669)\n",
       "1     2014-10-02   II/131/1    NaN  POINT (19.22175 50.82669)\n",
       "2     2014-10-03   II/131/1    NaN  POINT (19.22175 50.82669)\n",
       "3     2014-10-04   II/131/1    NaN  POINT (19.22175 50.82669)\n",
       "4     2014-10-05   II/131/1    NaN  POINT (19.22175 50.82669)\n",
       "...          ...        ...    ...                        ...\n",
       "17677 2022-10-27  II/1351/1   2.54  POINT (18.65775 50.77161)\n",
       "17678 2022-10-28  II/1351/1   2.54  POINT (18.65775 50.77161)\n",
       "17679 2022-10-29  II/1351/1   2.54  POINT (18.65775 50.77161)\n",
       "17680 2022-10-30  II/1351/1   2.54  POINT (18.65775 50.77161)\n",
       "17681 2022-10-31  II/1351/1   2.55  POINT (18.65775 50.77161)\n",
       "\n",
       "[17682 rows x 4 columns]"
      ]
     },
     "execution_count": 6,
     "metadata": {},
     "output_type": "execute_result"
    }
   ],
   "source": [
    "gdf"
   ]
  },
  {
   "cell_type": "code",
   "execution_count": null,
   "id": "9c290149-261f-4f5b-9345-3dfb7652220b",
   "metadata": {},
   "outputs": [],
   "source": [
    "df1 = pd.DataFrame(gdf.drop(columns='geometry'))"
   ]
  },
  {
   "cell_type": "code",
   "execution_count": null,
   "id": "b17afd08-d7eb-4735-9f3f-b79c99f80cd8",
   "metadata": {},
   "outputs": [
    {
     "data": {
      "text/html": [
       "<div>\n",
       "<style scoped>\n",
       "    .dataframe tbody tr th:only-of-type {\n",
       "        vertical-align: middle;\n",
       "    }\n",
       "\n",
       "    .dataframe tbody tr th {\n",
       "        vertical-align: top;\n",
       "    }\n",
       "\n",
       "    .dataframe thead th {\n",
       "        text-align: right;\n",
       "    }\n",
       "</style>\n",
       "<table border=\"1\" class=\"dataframe\">\n",
       "  <thead>\n",
       "    <tr style=\"text-align: right;\">\n",
       "      <th></th>\n",
       "      <th>date</th>\n",
       "      <th>name</th>\n",
       "      <th>value</th>\n",
       "    </tr>\n",
       "  </thead>\n",
       "  <tbody>\n",
       "    <tr>\n",
       "      <th>0</th>\n",
       "      <td>2014-10-01</td>\n",
       "      <td>II/131/1</td>\n",
       "      <td>NaN</td>\n",
       "    </tr>\n",
       "    <tr>\n",
       "      <th>1</th>\n",
       "      <td>2014-10-02</td>\n",
       "      <td>II/131/1</td>\n",
       "      <td>NaN</td>\n",
       "    </tr>\n",
       "    <tr>\n",
       "      <th>2</th>\n",
       "      <td>2014-10-03</td>\n",
       "      <td>II/131/1</td>\n",
       "      <td>NaN</td>\n",
       "    </tr>\n",
       "    <tr>\n",
       "      <th>3</th>\n",
       "      <td>2014-10-04</td>\n",
       "      <td>II/131/1</td>\n",
       "      <td>NaN</td>\n",
       "    </tr>\n",
       "    <tr>\n",
       "      <th>4</th>\n",
       "      <td>2014-10-05</td>\n",
       "      <td>II/131/1</td>\n",
       "      <td>NaN</td>\n",
       "    </tr>\n",
       "    <tr>\n",
       "      <th>...</th>\n",
       "      <td>...</td>\n",
       "      <td>...</td>\n",
       "      <td>...</td>\n",
       "    </tr>\n",
       "    <tr>\n",
       "      <th>17677</th>\n",
       "      <td>2022-10-27</td>\n",
       "      <td>II/1351/1</td>\n",
       "      <td>2.54</td>\n",
       "    </tr>\n",
       "    <tr>\n",
       "      <th>17678</th>\n",
       "      <td>2022-10-28</td>\n",
       "      <td>II/1351/1</td>\n",
       "      <td>2.54</td>\n",
       "    </tr>\n",
       "    <tr>\n",
       "      <th>17679</th>\n",
       "      <td>2022-10-29</td>\n",
       "      <td>II/1351/1</td>\n",
       "      <td>2.54</td>\n",
       "    </tr>\n",
       "    <tr>\n",
       "      <th>17680</th>\n",
       "      <td>2022-10-30</td>\n",
       "      <td>II/1351/1</td>\n",
       "      <td>2.54</td>\n",
       "    </tr>\n",
       "    <tr>\n",
       "      <th>17681</th>\n",
       "      <td>2022-10-31</td>\n",
       "      <td>II/1351/1</td>\n",
       "      <td>2.55</td>\n",
       "    </tr>\n",
       "  </tbody>\n",
       "</table>\n",
       "<p>17682 rows × 3 columns</p>\n",
       "</div>"
      ],
      "text/plain": [
       "            date       name  value\n",
       "0     2014-10-01   II/131/1    NaN\n",
       "1     2014-10-02   II/131/1    NaN\n",
       "2     2014-10-03   II/131/1    NaN\n",
       "3     2014-10-04   II/131/1    NaN\n",
       "4     2014-10-05   II/131/1    NaN\n",
       "...          ...        ...    ...\n",
       "17677 2022-10-27  II/1351/1   2.54\n",
       "17678 2022-10-28  II/1351/1   2.54\n",
       "17679 2022-10-29  II/1351/1   2.54\n",
       "17680 2022-10-30  II/1351/1   2.54\n",
       "17681 2022-10-31  II/1351/1   2.55\n",
       "\n",
       "[17682 rows x 3 columns]"
      ]
     },
     "execution_count": 8,
     "metadata": {},
     "output_type": "execute_result"
    }
   ],
   "source": [
    "df1"
   ]
  },
  {
   "cell_type": "code",
   "execution_count": null,
   "id": "f3bf0bc3-e395-446f-a7d3-99c9f452a469",
   "metadata": {},
   "outputs": [],
   "source": [
    "gdf = geopandas.read_file(manual_path)"
   ]
  },
  {
   "cell_type": "code",
   "execution_count": null,
   "id": "28cd6314-4720-4be5-a9b6-c87ce2b63f43",
   "metadata": {},
   "outputs": [],
   "source": [
    "df2 = pd.DataFrame(gdf.drop(columns='geometry'))"
   ]
  },
  {
   "cell_type": "code",
   "execution_count": null,
   "id": "bbd3ae31-d3b5-4bf8-8806-e4b4914822a8",
   "metadata": {},
   "outputs": [
    {
     "data": {
      "text/plain": [
       "date        0\n",
       "name        0\n",
       "value    8267\n",
       "dtype: int64"
      ]
     },
     "execution_count": 11,
     "metadata": {},
     "output_type": "execute_result"
    }
   ],
   "source": [
    "df2.isna().sum()"
   ]
  },
  {
   "cell_type": "code",
   "execution_count": null,
   "id": "9f3427f9-39f4-434a-a134-27fba1316e8f",
   "metadata": {},
   "outputs": [],
   "source": [
    "df1 = df1.set_index([\"date\", \"name\"])"
   ]
  },
  {
   "cell_type": "code",
   "execution_count": null,
   "id": "75db02b8-14c4-44be-b10b-0a8ce96a0112",
   "metadata": {},
   "outputs": [
    {
     "data": {
      "text/plain": [
       "value    8213\n",
       "dtype: int64"
      ]
     },
     "execution_count": 13,
     "metadata": {},
     "output_type": "execute_result"
    }
   ],
   "source": [
    "df1.isna().sum()"
   ]
  },
  {
   "cell_type": "code",
   "execution_count": null,
   "id": "dd14080b-8903-4df4-9018-f64b1a13a9d1",
   "metadata": {},
   "outputs": [],
   "source": [
    "df2 = df2.set_index([\"date\", \"name\"])"
   ]
  },
  {
   "cell_type": "code",
   "execution_count": null,
   "id": "12bcc6fe-a433-433d-8e19-5c0798c4280d",
   "metadata": {},
   "outputs": [
    {
     "data": {
      "text/html": [
       "<div>\n",
       "<style scoped>\n",
       "    .dataframe tbody tr th:only-of-type {\n",
       "        vertical-align: middle;\n",
       "    }\n",
       "\n",
       "    .dataframe tbody tr th {\n",
       "        vertical-align: top;\n",
       "    }\n",
       "\n",
       "    .dataframe thead th {\n",
       "        text-align: right;\n",
       "    }\n",
       "</style>\n",
       "<table border=\"1\" class=\"dataframe\">\n",
       "  <thead>\n",
       "    <tr style=\"text-align: right;\">\n",
       "      <th></th>\n",
       "      <th></th>\n",
       "      <th>value</th>\n",
       "    </tr>\n",
       "    <tr>\n",
       "      <th>date</th>\n",
       "      <th>name</th>\n",
       "      <th></th>\n",
       "    </tr>\n",
       "  </thead>\n",
       "  <tbody>\n",
       "    <tr>\n",
       "      <th>2001-11-05</th>\n",
       "      <th>II/112/1</th>\n",
       "      <td>9.65</td>\n",
       "    </tr>\n",
       "    <tr>\n",
       "      <th>2001-11-12</th>\n",
       "      <th>II/112/1</th>\n",
       "      <td>9.66</td>\n",
       "    </tr>\n",
       "    <tr>\n",
       "      <th>2001-11-19</th>\n",
       "      <th>II/112/1</th>\n",
       "      <td>9.66</td>\n",
       "    </tr>\n",
       "    <tr>\n",
       "      <th>2001-11-26</th>\n",
       "      <th>II/112/1</th>\n",
       "      <td>9.63</td>\n",
       "    </tr>\n",
       "    <tr>\n",
       "      <th>2001-12-03</th>\n",
       "      <th>II/112/1</th>\n",
       "      <td>9.67</td>\n",
       "    </tr>\n",
       "    <tr>\n",
       "      <th>...</th>\n",
       "      <th>...</th>\n",
       "      <td>...</td>\n",
       "    </tr>\n",
       "    <tr>\n",
       "      <th>2022-10-03</th>\n",
       "      <th>II/1352/1</th>\n",
       "      <td>15.67</td>\n",
       "    </tr>\n",
       "    <tr>\n",
       "      <th>2022-10-10</th>\n",
       "      <th>II/1352/1</th>\n",
       "      <td>15.66</td>\n",
       "    </tr>\n",
       "    <tr>\n",
       "      <th>2022-10-17</th>\n",
       "      <th>II/1352/1</th>\n",
       "      <td>15.69</td>\n",
       "    </tr>\n",
       "    <tr>\n",
       "      <th>2022-10-24</th>\n",
       "      <th>II/1352/1</th>\n",
       "      <td>15.70</td>\n",
       "    </tr>\n",
       "    <tr>\n",
       "      <th>2022-10-31</th>\n",
       "      <th>II/1352/1</th>\n",
       "      <td>15.69</td>\n",
       "    </tr>\n",
       "  </tbody>\n",
       "</table>\n",
       "<p>27400 rows × 1 columns</p>\n",
       "</div>"
      ],
      "text/plain": [
       "                      value\n",
       "date       name            \n",
       "2001-11-05 II/112/1    9.65\n",
       "2001-11-12 II/112/1    9.66\n",
       "2001-11-19 II/112/1    9.66\n",
       "2001-11-26 II/112/1    9.63\n",
       "2001-12-03 II/112/1    9.67\n",
       "...                     ...\n",
       "2022-10-03 II/1352/1  15.67\n",
       "2022-10-10 II/1352/1  15.66\n",
       "2022-10-17 II/1352/1  15.69\n",
       "2022-10-24 II/1352/1  15.70\n",
       "2022-10-31 II/1352/1  15.69\n",
       "\n",
       "[27400 rows x 1 columns]"
      ]
     },
     "execution_count": 15,
     "metadata": {},
     "output_type": "execute_result"
    }
   ],
   "source": [
    "df2"
   ]
  },
  {
   "cell_type": "code",
   "execution_count": null,
   "id": "994a9c41-fcfc-422c-b6ef-981f8750dc83",
   "metadata": {},
   "outputs": [],
   "source": [
    "df2[\"value\"] = df2[\"value\"].fillna(df1[\"value\"])"
   ]
  },
  {
   "cell_type": "code",
   "execution_count": null,
   "id": "952fbf63-0e38-4458-855c-be5a1f5ab517",
   "metadata": {},
   "outputs": [
    {
     "data": {
      "text/plain": [
       "value    7482\n",
       "dtype: int64"
      ]
     },
     "execution_count": 17,
     "metadata": {},
     "output_type": "execute_result"
    }
   ],
   "source": [
    "df2.isna().sum()"
   ]
  },
  {
   "cell_type": "code",
   "execution_count": null,
   "id": "a5acc276-635a-476a-b576-c4b37f025218",
   "metadata": {},
   "outputs": [],
   "source": [
    "df2 = df2.reset_index()"
   ]
  },
  {
   "cell_type": "code",
   "execution_count": null,
   "id": "49db9d44-2072-4f3c-8d6a-69566f9eaf42",
   "metadata": {},
   "outputs": [],
   "source": [
    "df2 = df2.set_index([\"date\"])"
   ]
  },
  {
   "cell_type": "code",
   "execution_count": null,
   "id": "7d7e2b6e-6ac6-459e-b7fe-ebb538342b1d",
   "metadata": {},
   "outputs": [
    {
     "data": {
      "text/html": [
       "<div>\n",
       "<style scoped>\n",
       "    .dataframe tbody tr th:only-of-type {\n",
       "        vertical-align: middle;\n",
       "    }\n",
       "\n",
       "    .dataframe tbody tr th {\n",
       "        vertical-align: top;\n",
       "    }\n",
       "\n",
       "    .dataframe thead th {\n",
       "        text-align: right;\n",
       "    }\n",
       "</style>\n",
       "<table border=\"1\" class=\"dataframe\">\n",
       "  <thead>\n",
       "    <tr style=\"text-align: right;\">\n",
       "      <th></th>\n",
       "      <th>name</th>\n",
       "      <th>value</th>\n",
       "    </tr>\n",
       "    <tr>\n",
       "      <th>date</th>\n",
       "      <th></th>\n",
       "      <th></th>\n",
       "    </tr>\n",
       "  </thead>\n",
       "  <tbody>\n",
       "    <tr>\n",
       "      <th>2001-11-05</th>\n",
       "      <td>II/112/1</td>\n",
       "      <td>9.65</td>\n",
       "    </tr>\n",
       "    <tr>\n",
       "      <th>2001-11-12</th>\n",
       "      <td>II/112/1</td>\n",
       "      <td>9.66</td>\n",
       "    </tr>\n",
       "    <tr>\n",
       "      <th>2001-11-19</th>\n",
       "      <td>II/112/1</td>\n",
       "      <td>9.66</td>\n",
       "    </tr>\n",
       "    <tr>\n",
       "      <th>2001-11-26</th>\n",
       "      <td>II/112/1</td>\n",
       "      <td>9.63</td>\n",
       "    </tr>\n",
       "    <tr>\n",
       "      <th>2001-12-03</th>\n",
       "      <td>II/112/1</td>\n",
       "      <td>9.67</td>\n",
       "    </tr>\n",
       "    <tr>\n",
       "      <th>...</th>\n",
       "      <td>...</td>\n",
       "      <td>...</td>\n",
       "    </tr>\n",
       "    <tr>\n",
       "      <th>2022-10-03</th>\n",
       "      <td>II/1352/1</td>\n",
       "      <td>15.67</td>\n",
       "    </tr>\n",
       "    <tr>\n",
       "      <th>2022-10-10</th>\n",
       "      <td>II/1352/1</td>\n",
       "      <td>15.66</td>\n",
       "    </tr>\n",
       "    <tr>\n",
       "      <th>2022-10-17</th>\n",
       "      <td>II/1352/1</td>\n",
       "      <td>15.69</td>\n",
       "    </tr>\n",
       "    <tr>\n",
       "      <th>2022-10-24</th>\n",
       "      <td>II/1352/1</td>\n",
       "      <td>15.70</td>\n",
       "    </tr>\n",
       "    <tr>\n",
       "      <th>2022-10-31</th>\n",
       "      <td>II/1352/1</td>\n",
       "      <td>15.69</td>\n",
       "    </tr>\n",
       "  </tbody>\n",
       "</table>\n",
       "<p>27400 rows × 2 columns</p>\n",
       "</div>"
      ],
      "text/plain": [
       "                 name  value\n",
       "date                        \n",
       "2001-11-05   II/112/1   9.65\n",
       "2001-11-12   II/112/1   9.66\n",
       "2001-11-19   II/112/1   9.66\n",
       "2001-11-26   II/112/1   9.63\n",
       "2001-12-03   II/112/1   9.67\n",
       "...               ...    ...\n",
       "2022-10-03  II/1352/1  15.67\n",
       "2022-10-10  II/1352/1  15.66\n",
       "2022-10-17  II/1352/1  15.69\n",
       "2022-10-24  II/1352/1  15.70\n",
       "2022-10-31  II/1352/1  15.69\n",
       "\n",
       "[27400 rows x 2 columns]"
      ]
     },
     "execution_count": 20,
     "metadata": {},
     "output_type": "execute_result"
    }
   ],
   "source": [
    "df2"
   ]
  },
  {
   "cell_type": "code",
   "execution_count": null,
   "id": "9d5fa847-f84b-4e82-8be3-bac849ff8509",
   "metadata": {},
   "outputs": [],
   "source": [
    "df2 = df2.pivot(columns='name', values='value') "
   ]
  },
  {
   "cell_type": "code",
   "execution_count": null,
   "id": "1fc3317a-6d2c-4016-9417-f72dd853ab02",
   "metadata": {},
   "outputs": [
    {
     "data": {
      "text/plain": [
       "name\n",
       "II/112/1        3\n",
       "II/113/1        0\n",
       "II/114/1        0\n",
       "II/115/1     1062\n",
       "II/116/1     1061\n",
       "II/131/1       22\n",
       "II/132/1        0\n",
       "II/1345/1     159\n",
       "II/1346/1     159\n",
       "II/1351/1     232\n",
       "II/1352/1     209\n",
       "II/292/1        0\n",
       "II/297/1        2\n",
       "II/298/1        0\n",
       "II/472/1      339\n",
       "II/922/1      852\n",
       "II/924/1        0\n",
       "II/931/1        6\n",
       "II/932/1     1062\n",
       "II/936/1     1022\n",
       "II/940/1        0\n",
       "II/949/1      227\n",
       "II/951/1      209\n",
       "II/952/1      209\n",
       "II/957/1      647\n",
       "dtype: int64"
      ]
     },
     "execution_count": 22,
     "metadata": {},
     "output_type": "execute_result"
    }
   ],
   "source": [
    "df2.isna().sum()"
   ]
  },
  {
   "cell_type": "code",
   "execution_count": null,
   "id": "632a3426-230f-4914-b90b-18bb29b39bbe",
   "metadata": {},
   "outputs": [],
   "source": [
    "df3 = df2[\"II/297/1\"]"
   ]
  },
  {
   "cell_type": "code",
   "execution_count": null,
   "id": "eb2eacfc-47dd-4db3-b55e-23f0ca4cc27d",
   "metadata": {},
   "outputs": [
    {
     "data": {
      "text/plain": [
       "date\n",
       "2001-11-05    5.10\n",
       "2001-11-12    5.20\n",
       "2001-11-19    5.20\n",
       "2001-11-26    5.00\n",
       "2001-12-03    5.00\n",
       "              ... \n",
       "2022-10-03    5.82\n",
       "2022-10-10    5.84\n",
       "2022-10-17     NaN\n",
       "2022-10-24     NaN\n",
       "2022-10-31    5.95\n",
       "Name: II/297/1, Length: 1096, dtype: float64"
      ]
     },
     "execution_count": 24,
     "metadata": {},
     "output_type": "execute_result"
    }
   ],
   "source": [
    "df3"
   ]
  },
  {
   "cell_type": "code",
   "execution_count": null,
   "id": "1c4b87ea-94a5-454a-b831-b886e3f08309",
   "metadata": {},
   "outputs": [
    {
     "data": {
      "text/plain": [
       "date\n",
       "2022-08-29    5.91\n",
       "2022-09-05    5.97\n",
       "2022-09-12    5.88\n",
       "2022-09-19    5.85\n",
       "2022-09-26    5.86\n",
       "2022-10-03    5.82\n",
       "2022-10-10    5.84\n",
       "2022-10-17     NaN\n",
       "2022-10-24     NaN\n",
       "2022-10-31    5.95\n",
       "Name: II/297/1, dtype: float64"
      ]
     },
     "execution_count": 25,
     "metadata": {},
     "output_type": "execute_result"
    }
   ],
   "source": [
    "df3.tail(10)"
   ]
  },
  {
   "cell_type": "code",
   "execution_count": null,
   "id": "3af4a56c-74a7-4343-b6a2-e3e446b5995a",
   "metadata": {},
   "outputs": [],
   "source": [
    "df3.index = pd.to_datetime(df3.index)"
   ]
  },
  {
   "cell_type": "code",
   "execution_count": null,
   "id": "21339ccf-d41b-4fe1-ae2b-69345a8e8ce8",
   "metadata": {},
   "outputs": [],
   "source": [
    "df3 = df3.reset_index()"
   ]
  },
  {
   "cell_type": "code",
   "execution_count": null,
   "id": "fe4b467c-454d-471e-9e2b-262359ebe588",
   "metadata": {},
   "outputs": [
    {
     "data": {
      "text/plain": [
       "17"
      ]
     },
     "execution_count": 28,
     "metadata": {},
     "output_type": "execute_result"
    }
   ],
   "source": [
    "new_date = np.datetime64('2002-03-01')\n",
    "df3.date.searchsorted(new_date)"
   ]
  },
  {
   "cell_type": "code",
   "execution_count": null,
   "id": "0459ac15-1d14-4a3f-9a03-3f495e57f360",
   "metadata": {},
   "outputs": [
    {
     "data": {
      "text/plain": [
       "date        2002-01-28 00:00:00\n",
       "II/297/1                   4.86\n",
       "Name: 12, dtype: object"
      ]
     },
     "execution_count": 29,
     "metadata": {},
     "output_type": "execute_result"
    }
   ],
   "source": [
    "df3.iloc[12]"
   ]
  },
  {
   "cell_type": "code",
   "execution_count": null,
   "id": "805b173f-0a53-44c1-9fec-6e5d17fcccf3",
   "metadata": {},
   "outputs": [],
   "source": [
    "date = '2002-01-01'\n",
    "date = datetime.strptime(date, '%Y-%m-%d')\n",
    "end_date = '2021-12-01'\n",
    "end_date = datetime.strptime(end_date, '%Y-%m-%d')\n",
    "\n",
    "column = \"II/297/1\"\n",
    "output_df = pd.DataFrame(columns = [\"date\", \"value\"])\n",
    "\n",
    "while date<end_date:\n",
    "    idx = df3.date.searchsorted(date)\n",
    "    s_row = df3.iloc[idx]\n",
    "    value = 0\n",
    "    if s_row.date != date:\n",
    "        if s_row.date < date:\n",
    "            value = (s_row[column] + df3.iloc[idx+1][column])/2.0\n",
    "        else:\n",
    "            value = (s_row[column] + df3.iloc[idx-1][column])/2.0\n",
    "    else:\n",
    "        value = s_row[column]\n",
    "    output_df = output_df.append(pd.Series({\"date\": date.strftime('%Y-%m-%d'), \"value\": value}), ignore_index=True)\n",
    "    date = date + relativedelta(months=1)\n",
    "        \n",
    "    \n",
    "    "
   ]
  },
  {
   "cell_type": "code",
   "execution_count": null,
   "id": "aca7d1a6-f40e-4fea-ab7e-e6541ef66a40",
   "metadata": {},
   "outputs": [
    {
     "data": {
      "text/html": [
       "<div>\n",
       "<style scoped>\n",
       "    .dataframe tbody tr th:only-of-type {\n",
       "        vertical-align: middle;\n",
       "    }\n",
       "\n",
       "    .dataframe tbody tr th {\n",
       "        vertical-align: top;\n",
       "    }\n",
       "\n",
       "    .dataframe thead th {\n",
       "        text-align: right;\n",
       "    }\n",
       "</style>\n",
       "<table border=\"1\" class=\"dataframe\">\n",
       "  <thead>\n",
       "    <tr style=\"text-align: right;\">\n",
       "      <th></th>\n",
       "      <th>date</th>\n",
       "      <th>value</th>\n",
       "    </tr>\n",
       "  </thead>\n",
       "  <tbody>\n",
       "    <tr>\n",
       "      <th>0</th>\n",
       "      <td>2002-01-01</td>\n",
       "      <td>5.305</td>\n",
       "    </tr>\n",
       "    <tr>\n",
       "      <th>1</th>\n",
       "      <td>2002-02-01</td>\n",
       "      <td>4.860</td>\n",
       "    </tr>\n",
       "    <tr>\n",
       "      <th>2</th>\n",
       "      <td>2002-03-01</td>\n",
       "      <td>4.785</td>\n",
       "    </tr>\n",
       "    <tr>\n",
       "      <th>3</th>\n",
       "      <td>2002-04-01</td>\n",
       "      <td>5.050</td>\n",
       "    </tr>\n",
       "    <tr>\n",
       "      <th>4</th>\n",
       "      <td>2002-05-01</td>\n",
       "      <td>5.310</td>\n",
       "    </tr>\n",
       "    <tr>\n",
       "      <th>...</th>\n",
       "      <td>...</td>\n",
       "      <td>...</td>\n",
       "    </tr>\n",
       "    <tr>\n",
       "      <th>234</th>\n",
       "      <td>2021-07-01</td>\n",
       "      <td>5.820</td>\n",
       "    </tr>\n",
       "    <tr>\n",
       "      <th>235</th>\n",
       "      <td>2021-08-01</td>\n",
       "      <td>6.015</td>\n",
       "    </tr>\n",
       "    <tr>\n",
       "      <th>236</th>\n",
       "      <td>2021-09-01</td>\n",
       "      <td>5.625</td>\n",
       "    </tr>\n",
       "    <tr>\n",
       "      <th>237</th>\n",
       "      <td>2021-10-01</td>\n",
       "      <td>5.550</td>\n",
       "    </tr>\n",
       "    <tr>\n",
       "      <th>238</th>\n",
       "      <td>2021-11-01</td>\n",
       "      <td>5.750</td>\n",
       "    </tr>\n",
       "  </tbody>\n",
       "</table>\n",
       "<p>239 rows × 2 columns</p>\n",
       "</div>"
      ],
      "text/plain": [
       "           date  value\n",
       "0    2002-01-01  5.305\n",
       "1    2002-02-01  4.860\n",
       "2    2002-03-01  4.785\n",
       "3    2002-04-01  5.050\n",
       "4    2002-05-01  5.310\n",
       "..          ...    ...\n",
       "234  2021-07-01  5.820\n",
       "235  2021-08-01  6.015\n",
       "236  2021-09-01  5.625\n",
       "237  2021-10-01  5.550\n",
       "238  2021-11-01  5.750\n",
       "\n",
       "[239 rows x 2 columns]"
      ]
     },
     "execution_count": 31,
     "metadata": {},
     "output_type": "execute_result"
    }
   ],
   "source": [
    "output_df"
   ]
  },
  {
   "cell_type": "code",
   "execution_count": null,
   "id": "a8bf6306-a30a-4cfa-bbe8-c267911523fa",
   "metadata": {},
   "outputs": [],
   "source": [
    "output_df = output_df.sort_values(by=\"date\", ignore_index=True)\n"
   ]
  },
  {
   "cell_type": "code",
   "execution_count": null,
   "id": "3385e4b5",
   "metadata": {},
   "outputs": [
    {
     "data": {
      "text/html": [
       "<div>\n",
       "<style scoped>\n",
       "    .dataframe tbody tr th:only-of-type {\n",
       "        vertical-align: middle;\n",
       "    }\n",
       "\n",
       "    .dataframe tbody tr th {\n",
       "        vertical-align: top;\n",
       "    }\n",
       "\n",
       "    .dataframe thead th {\n",
       "        text-align: right;\n",
       "    }\n",
       "</style>\n",
       "<table border=\"1\" class=\"dataframe\">\n",
       "  <thead>\n",
       "    <tr style=\"text-align: right;\">\n",
       "      <th></th>\n",
       "      <th>date</th>\n",
       "      <th>value</th>\n",
       "    </tr>\n",
       "  </thead>\n",
       "  <tbody>\n",
       "    <tr>\n",
       "      <th>0</th>\n",
       "      <td>2002-01-01</td>\n",
       "      <td>5.305</td>\n",
       "    </tr>\n",
       "    <tr>\n",
       "      <th>1</th>\n",
       "      <td>2002-02-01</td>\n",
       "      <td>4.860</td>\n",
       "    </tr>\n",
       "    <tr>\n",
       "      <th>2</th>\n",
       "      <td>2002-03-01</td>\n",
       "      <td>4.785</td>\n",
       "    </tr>\n",
       "    <tr>\n",
       "      <th>3</th>\n",
       "      <td>2002-04-01</td>\n",
       "      <td>5.050</td>\n",
       "    </tr>\n",
       "    <tr>\n",
       "      <th>4</th>\n",
       "      <td>2002-05-01</td>\n",
       "      <td>5.310</td>\n",
       "    </tr>\n",
       "    <tr>\n",
       "      <th>...</th>\n",
       "      <td>...</td>\n",
       "      <td>...</td>\n",
       "    </tr>\n",
       "    <tr>\n",
       "      <th>234</th>\n",
       "      <td>2021-07-01</td>\n",
       "      <td>5.820</td>\n",
       "    </tr>\n",
       "    <tr>\n",
       "      <th>235</th>\n",
       "      <td>2021-08-01</td>\n",
       "      <td>6.015</td>\n",
       "    </tr>\n",
       "    <tr>\n",
       "      <th>236</th>\n",
       "      <td>2021-09-01</td>\n",
       "      <td>5.625</td>\n",
       "    </tr>\n",
       "    <tr>\n",
       "      <th>237</th>\n",
       "      <td>2021-10-01</td>\n",
       "      <td>5.550</td>\n",
       "    </tr>\n",
       "    <tr>\n",
       "      <th>238</th>\n",
       "      <td>2021-11-01</td>\n",
       "      <td>5.750</td>\n",
       "    </tr>\n",
       "  </tbody>\n",
       "</table>\n",
       "<p>239 rows × 2 columns</p>\n",
       "</div>"
      ],
      "text/plain": [
       "           date  value\n",
       "0    2002-01-01  5.305\n",
       "1    2002-02-01  4.860\n",
       "2    2002-03-01  4.785\n",
       "3    2002-04-01  5.050\n",
       "4    2002-05-01  5.310\n",
       "..          ...    ...\n",
       "234  2021-07-01  5.820\n",
       "235  2021-08-01  6.015\n",
       "236  2021-09-01  5.625\n",
       "237  2021-10-01  5.550\n",
       "238  2021-11-01  5.750\n",
       "\n",
       "[239 rows x 2 columns]"
      ]
     },
     "execution_count": 33,
     "metadata": {},
     "output_type": "execute_result"
    }
   ],
   "source": [
    "output_df"
   ]
  },
  {
   "cell_type": "code",
   "execution_count": null,
   "id": "2e25cce6-55ea-4692-b608-7607fac5b172",
   "metadata": {},
   "outputs": [],
   "source": [
    "values = np.zeros(104)\n",
    "mask = np.full(104, True)"
   ]
  },
  {
   "cell_type": "code",
   "execution_count": null,
   "id": "6c36863d-32a4-4f13-8106-29a8f095a9d8",
   "metadata": {},
   "outputs": [
    {
     "data": {
      "text/plain": [
       "array([ True,  True,  True,  True,  True,  True,  True,  True,  True,\n",
       "        True,  True,  True,  True,  True,  True,  True,  True,  True,\n",
       "        True,  True,  True,  True,  True,  True,  True,  True,  True,\n",
       "        True,  True,  True,  True,  True,  True,  True,  True,  True,\n",
       "        True,  True,  True,  True,  True,  True,  True,  True,  True,\n",
       "        True,  True,  True,  True,  True,  True,  True,  True,  True,\n",
       "        True,  True,  True,  True,  True,  True,  True,  True,  True,\n",
       "        True,  True,  True,  True,  True,  True,  True,  True,  True,\n",
       "        True,  True,  True,  True,  True,  True,  True,  True,  True,\n",
       "        True,  True,  True,  True,  True,  True,  True,  True,  True,\n",
       "        True,  True,  True,  True,  True,  True,  True,  True,  True,\n",
       "        True,  True,  True,  True,  True])"
      ]
     },
     "execution_count": 35,
     "metadata": {},
     "output_type": "execute_result"
    }
   ],
   "source": [
    "mask"
   ]
  },
  {
   "cell_type": "code",
   "execution_count": null,
   "id": "5fd6b92a-2e26-41c0-9095-75a1009ca02b",
   "metadata": {},
   "outputs": [],
   "source": [
    "def val_to_arr(val):\n",
    "    values = np.full((8, 13), 0.0)\n",
    "    values[0] = val\n",
    "    return values"
   ]
  },
  {
   "cell_type": "code",
   "execution_count": null,
   "id": "e046e9d8-300d-46a9-9421-81b1720b76cf",
   "metadata": {},
   "outputs": [],
   "source": [
    "def add_mask(val):\n",
    "    mask = np.full(104, True)\n",
    "    mask[0] = False\n",
    "    return mask"
   ]
  },
  {
   "cell_type": "code",
   "execution_count": null,
   "id": "d55c5db6-a74d-4f0e-bb85-0dbef9b9bb9d",
   "metadata": {},
   "outputs": [],
   "source": [
    "#output_df[\"value\"] = output_df[\"value\"].apply(lambda x: val_to_arr(x))"
   ]
  },
  {
   "cell_type": "code",
   "execution_count": null,
   "id": "14d06e52-9c7c-48c6-beda-33b3b2500a6f",
   "metadata": {},
   "outputs": [],
   "source": [
    "#output_df[\"mask\"] = output_df[\"value\"].apply(lambda x: add_mask(x))"
   ]
  },
  {
   "cell_type": "code",
   "execution_count": null,
   "id": "05992e4b-02b1-4060-b4b7-0dc92c84290a",
   "metadata": {},
   "outputs": [
    {
     "data": {
      "text/html": [
       "<div>\n",
       "<style scoped>\n",
       "    .dataframe tbody tr th:only-of-type {\n",
       "        vertical-align: middle;\n",
       "    }\n",
       "\n",
       "    .dataframe tbody tr th {\n",
       "        vertical-align: top;\n",
       "    }\n",
       "\n",
       "    .dataframe thead th {\n",
       "        text-align: right;\n",
       "    }\n",
       "</style>\n",
       "<table border=\"1\" class=\"dataframe\">\n",
       "  <thead>\n",
       "    <tr style=\"text-align: right;\">\n",
       "      <th></th>\n",
       "      <th>date</th>\n",
       "      <th>value</th>\n",
       "    </tr>\n",
       "  </thead>\n",
       "  <tbody>\n",
       "    <tr>\n",
       "      <th>0</th>\n",
       "      <td>2002-01-01</td>\n",
       "      <td>5.305</td>\n",
       "    </tr>\n",
       "    <tr>\n",
       "      <th>1</th>\n",
       "      <td>2002-02-01</td>\n",
       "      <td>4.860</td>\n",
       "    </tr>\n",
       "    <tr>\n",
       "      <th>2</th>\n",
       "      <td>2002-03-01</td>\n",
       "      <td>4.785</td>\n",
       "    </tr>\n",
       "    <tr>\n",
       "      <th>3</th>\n",
       "      <td>2002-04-01</td>\n",
       "      <td>5.050</td>\n",
       "    </tr>\n",
       "    <tr>\n",
       "      <th>4</th>\n",
       "      <td>2002-05-01</td>\n",
       "      <td>5.310</td>\n",
       "    </tr>\n",
       "    <tr>\n",
       "      <th>...</th>\n",
       "      <td>...</td>\n",
       "      <td>...</td>\n",
       "    </tr>\n",
       "    <tr>\n",
       "      <th>234</th>\n",
       "      <td>2021-07-01</td>\n",
       "      <td>5.820</td>\n",
       "    </tr>\n",
       "    <tr>\n",
       "      <th>235</th>\n",
       "      <td>2021-08-01</td>\n",
       "      <td>6.015</td>\n",
       "    </tr>\n",
       "    <tr>\n",
       "      <th>236</th>\n",
       "      <td>2021-09-01</td>\n",
       "      <td>5.625</td>\n",
       "    </tr>\n",
       "    <tr>\n",
       "      <th>237</th>\n",
       "      <td>2021-10-01</td>\n",
       "      <td>5.550</td>\n",
       "    </tr>\n",
       "    <tr>\n",
       "      <th>238</th>\n",
       "      <td>2021-11-01</td>\n",
       "      <td>5.750</td>\n",
       "    </tr>\n",
       "  </tbody>\n",
       "</table>\n",
       "<p>239 rows × 2 columns</p>\n",
       "</div>"
      ],
      "text/plain": [
       "           date  value\n",
       "0    2002-01-01  5.305\n",
       "1    2002-02-01  4.860\n",
       "2    2002-03-01  4.785\n",
       "3    2002-04-01  5.050\n",
       "4    2002-05-01  5.310\n",
       "..          ...    ...\n",
       "234  2021-07-01  5.820\n",
       "235  2021-08-01  6.015\n",
       "236  2021-09-01  5.625\n",
       "237  2021-10-01  5.550\n",
       "238  2021-11-01  5.750\n",
       "\n",
       "[239 rows x 2 columns]"
      ]
     },
     "execution_count": 38,
     "metadata": {},
     "output_type": "execute_result"
    }
   ],
   "source": [
    "output_df"
   ]
  },
  {
   "cell_type": "code",
   "execution_count": null,
   "id": "612b8b57-6890-4c27-91a9-c50add2ec8eb",
   "metadata": {},
   "outputs": [],
   "source": [
    "output_df.to_pickle(\"data/II_297_1.pickle\")"
   ]
  },
  {
   "cell_type": "code",
   "execution_count": null,
   "id": "0969c1ff-2ae1-4d34-a1f7-3ecef0f0b065",
   "metadata": {},
   "outputs": [],
   "source": []
  }
 ],
 "metadata": {
  "kernelspec": {
   "display_name": "Python 3 (ipykernel)",
   "language": "python",
   "name": "python3"
  },
  "language_info": {
   "codemirror_mode": {
    "name": "ipython",
    "version": 3
   },
   "file_extension": ".py",
   "mimetype": "text/x-python",
   "name": "python",
   "nbconvert_exporter": "python",
   "pygments_lexer": "ipython3",
   "version": "3.10.5"
  }
 },
 "nbformat": 4,
 "nbformat_minor": 5
}
