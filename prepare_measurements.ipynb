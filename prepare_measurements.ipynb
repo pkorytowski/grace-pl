{
 "cells": [
  {
   "cell_type": "code",
   "execution_count": 50,
   "id": "7e847dc6-8ae8-4f0f-b9fb-a7e056b19b49",
   "metadata": {},
   "outputs": [],
   "source": [
    "import rioxarray\n",
    "import geopandas\n",
    "import leafmap\n",
    "import geoplot\n",
    "import geoplot.crs as gcrs\n",
    "import shapely\n",
    "import pandas as pd\n",
    "import matplotlib.pyplot as plt\n",
    "import seaborn as sns\n",
    "import h5py"
   ]
  },
  {
   "cell_type": "code",
   "execution_count": 2,
   "id": "dd7729d0-c46a-4d95-838f-b0daf3b01d51",
   "metadata": {},
   "outputs": [],
   "source": [
    "aoi_dir = \"data/aoi.geojson\"\n",
    "points = \"data/measurements/shp_GA_5513_1739_2022/GA_5513_1739_2022_punkty_czynne_i_archiwalne_m_ilosc_i_bad.shp\""
   ]
  },
  {
   "cell_type": "markdown",
   "id": "1cb55640-fd1e-4a55-934a-8e1d1e800d1f",
   "metadata": {},
   "source": [
    "Prepare area of interest"
   ]
  },
  {
   "cell_type": "code",
   "execution_count": 3,
   "id": "6725c8a0-92fb-4540-b206-09cb7fa85f86",
   "metadata": {},
   "outputs": [],
   "source": [
    "geodf = geopandas.read_file(aoi_dir)"
   ]
  },
  {
   "cell_type": "code",
   "execution_count": 4,
   "id": "19e5926b-8b20-41bc-b654-7644893e3c15",
   "metadata": {},
   "outputs": [
    {
     "data": {
      "text/html": [
       "<div>\n",
       "<style scoped>\n",
       "    .dataframe tbody tr th:only-of-type {\n",
       "        vertical-align: middle;\n",
       "    }\n",
       "\n",
       "    .dataframe tbody tr th {\n",
       "        vertical-align: top;\n",
       "    }\n",
       "\n",
       "    .dataframe thead th {\n",
       "        text-align: right;\n",
       "    }\n",
       "</style>\n",
       "<table border=\"1\" class=\"dataframe\">\n",
       "  <thead>\n",
       "    <tr style=\"text-align: right;\">\n",
       "      <th></th>\n",
       "      <th>FID</th>\n",
       "      <th>geometry</th>\n",
       "    </tr>\n",
       "  </thead>\n",
       "  <tbody>\n",
       "    <tr>\n",
       "      <th>0</th>\n",
       "      <td>0</td>\n",
       "      <td>POLYGON ((19.17300 51.17912, 19.17346 51.17910...</td>\n",
       "    </tr>\n",
       "  </tbody>\n",
       "</table>\n",
       "</div>"
      ],
      "text/plain": [
       "   FID                                           geometry\n",
       "0    0  POLYGON ((19.17300 51.17912, 19.17346 51.17910..."
      ]
     },
     "execution_count": 4,
     "metadata": {},
     "output_type": "execute_result"
    }
   ],
   "source": [
    "geodf.head()"
   ]
  },
  {
   "cell_type": "code",
   "execution_count": 5,
   "id": "5cb2690c-265b-4c5b-861d-5c6479828c2d",
   "metadata": {},
   "outputs": [
    {
     "data": {
      "text/plain": [
       "<Geographic 2D CRS: EPSG:4326>\n",
       "Name: WGS 84\n",
       "Axis Info [ellipsoidal]:\n",
       "- Lat[north]: Geodetic latitude (degree)\n",
       "- Lon[east]: Geodetic longitude (degree)\n",
       "Area of Use:\n",
       "- name: World.\n",
       "- bounds: (-180.0, -90.0, 180.0, 90.0)\n",
       "Datum: World Geodetic System 1984 ensemble\n",
       "- Ellipsoid: WGS 84\n",
       "- Prime Meridian: Greenwich"
      ]
     },
     "execution_count": 5,
     "metadata": {},
     "output_type": "execute_result"
    }
   ],
   "source": [
    "geodf.crs"
   ]
  },
  {
   "cell_type": "markdown",
   "id": "aaf8e8c5-e14e-4355-81be-3fb48763fd9e",
   "metadata": {},
   "source": [
    "Prepare shp file with measurement points\n",
    "Points are in epsg2180 crs."
   ]
  },
  {
   "cell_type": "code",
   "execution_count": 6,
   "id": "2ff8d506-4e65-491b-b608-077976a254a3",
   "metadata": {},
   "outputs": [],
   "source": [
    "df = geopandas.read_file(points)"
   ]
  },
  {
   "cell_type": "code",
   "execution_count": 7,
   "id": "d1361c37-ef15-4559-93c2-1a13bdc40c42",
   "metadata": {},
   "outputs": [],
   "source": [
    "df = df.set_crs(\"EPSG:2180\")"
   ]
  },
  {
   "cell_type": "code",
   "execution_count": 8,
   "id": "6a3fab50-aa50-450a-b017-21f6af163579",
   "metadata": {},
   "outputs": [
    {
     "data": {
      "text/plain": [
       "<Derived Projected CRS: EPSG:2180>\n",
       "Name: ETRF2000-PL / CS92\n",
       "Axis Info [cartesian]:\n",
       "- x[north]: Northing (metre)\n",
       "- y[east]: Easting (metre)\n",
       "Area of Use:\n",
       "- name: Poland - onshore and offshore.\n",
       "- bounds: (14.14, 49.0, 24.15, 55.93)\n",
       "Coordinate Operation:\n",
       "- name: Poland CS92\n",
       "- method: Transverse Mercator\n",
       "Datum: ETRF2000 Poland\n",
       "- Ellipsoid: GRS 1980\n",
       "- Prime Meridian: Greenwich"
      ]
     },
     "execution_count": 8,
     "metadata": {},
     "output_type": "execute_result"
    }
   ],
   "source": [
    "df.crs"
   ]
  },
  {
   "cell_type": "code",
   "execution_count": 9,
   "id": "a2fe0d96-1d28-450a-9534-2685a1f9e99a",
   "metadata": {},
   "outputs": [],
   "source": [
    "df = df.to_crs(\"EPSG:4326\")"
   ]
  },
  {
   "cell_type": "code",
   "execution_count": 10,
   "id": "87a7d0a7-8ad7-417f-be00-dc0fef7b7809",
   "metadata": {},
   "outputs": [
    {
     "data": {
      "text/plain": [
       "0    MULTIPOINT (19.17842 50.72782)\n",
       "Name: geometry, dtype: geometry"
      ]
     },
     "execution_count": 10,
     "metadata": {},
     "output_type": "execute_result"
    }
   ],
   "source": [
    "df['geometry'].head(1)"
   ]
  },
  {
   "cell_type": "code",
   "execution_count": 11,
   "id": "0dfb3e82-fa60-4a25-a810-e16133677b5a",
   "metadata": {},
   "outputs": [],
   "source": [
    "df['geometry'] = df['geometry'].explode(index_parts=False)"
   ]
  },
  {
   "cell_type": "code",
   "execution_count": 12,
   "id": "b114804c-f068-44e5-8567-915b7564303a",
   "metadata": {},
   "outputs": [
    {
     "data": {
      "text/plain": [
       "0     POINT (50.72782 19.17842)\n",
       "1     POINT (50.85889 18.87222)\n",
       "2     POINT (50.81599 19.08174)\n",
       "3     POINT (50.83717 18.92135)\n",
       "4     POINT (50.75044 19.50739)\n",
       "                ...            \n",
       "72    POINT (51.15053 19.13450)\n",
       "73    POINT (51.09886 19.17081)\n",
       "74    POINT (51.08769 19.13447)\n",
       "75    POINT (51.08769 19.13456)\n",
       "76    POINT (51.10439 19.16253)\n",
       "Name: geometry, Length: 77, dtype: geometry"
      ]
     },
     "execution_count": 12,
     "metadata": {},
     "output_type": "execute_result"
    }
   ],
   "source": [
    "df.geometry.map(lambda polygon: shapely.ops.transform(lambda x, y: (y, x), polygon))"
   ]
  },
  {
   "cell_type": "code",
   "execution_count": 13,
   "id": "bfe369ef-26a5-4ae3-be8b-a4f639cfbea2",
   "metadata": {},
   "outputs": [
    {
     "data": {
      "text/html": [
       "<div>\n",
       "<style scoped>\n",
       "    .dataframe tbody tr th:only-of-type {\n",
       "        vertical-align: middle;\n",
       "    }\n",
       "\n",
       "    .dataframe tbody tr th {\n",
       "        vertical-align: top;\n",
       "    }\n",
       "\n",
       "    .dataframe thead th {\n",
       "        text-align: right;\n",
       "    }\n",
       "</style>\n",
       "<table border=\"1\" class=\"dataframe\">\n",
       "  <thead>\n",
       "    <tr style=\"text-align: right;\">\n",
       "      <th></th>\n",
       "      <th>ID</th>\n",
       "      <th>NR_M_ILOSC</th>\n",
       "      <th>RZAD</th>\n",
       "      <th>NR_OTW_W_S</th>\n",
       "      <th>CZYNNY</th>\n",
       "      <th>ROK_ZAKONC</th>\n",
       "      <th>NR_M_BADAW</th>\n",
       "      <th>WOJ_NAZWA</th>\n",
       "      <th>POW_NAZWA</th>\n",
       "      <th>GM_NAZWA</th>\n",
       "      <th>M_NAZWA</th>\n",
       "      <th>GMRotation</th>\n",
       "      <th>geometry</th>\n",
       "    </tr>\n",
       "  </thead>\n",
       "  <tbody>\n",
       "    <tr>\n",
       "      <th>0</th>\n",
       "      <td>161</td>\n",
       "      <td>126.0</td>\n",
       "      <td>II</td>\n",
       "      <td>1.0</td>\n",
       "      <td>0</td>\n",
       "      <td>1989-01-01</td>\n",
       "      <td>None</td>\n",
       "      <td>l¹skie</td>\n",
       "      <td>bielski</td>\n",
       "      <td>Buczkowice</td>\n",
       "      <td>Zawodzie</td>\n",
       "      <td>0.000000e+00</td>\n",
       "      <td>POINT (19.17842 50.72782)</td>\n",
       "    </tr>\n",
       "    <tr>\n",
       "      <th>1</th>\n",
       "      <td>395</td>\n",
       "      <td>472.0</td>\n",
       "      <td>II</td>\n",
       "      <td>1.0</td>\n",
       "      <td>0</td>\n",
       "      <td>2016-01-01</td>\n",
       "      <td>None</td>\n",
       "      <td>l¹skie</td>\n",
       "      <td>k³obucki</td>\n",
       "      <td>Wrêczyca Wielka</td>\n",
       "      <td>Golce</td>\n",
       "      <td>5.336085e-07</td>\n",
       "      <td>POINT (18.87222 50.85889)</td>\n",
       "    </tr>\n",
       "    <tr>\n",
       "      <th>2</th>\n",
       "      <td>396</td>\n",
       "      <td>473.0</td>\n",
       "      <td>II</td>\n",
       "      <td>1.0</td>\n",
       "      <td>0</td>\n",
       "      <td>1987-01-01</td>\n",
       "      <td>None</td>\n",
       "      <td>l¹skie</td>\n",
       "      <td>m. Czêstochowa</td>\n",
       "      <td>M. Czêstochowa</td>\n",
       "      <td>Czêstochowa</td>\n",
       "      <td>0.000000e+00</td>\n",
       "      <td>POINT (19.08174 50.81599)</td>\n",
       "    </tr>\n",
       "    <tr>\n",
       "      <th>3</th>\n",
       "      <td>411</td>\n",
       "      <td>479.0</td>\n",
       "      <td>II</td>\n",
       "      <td>1.0</td>\n",
       "      <td>0</td>\n",
       "      <td>1986-01-01</td>\n",
       "      <td>None</td>\n",
       "      <td>l¹skie</td>\n",
       "      <td>k³obucki</td>\n",
       "      <td>Wrêczyca Wielka</td>\n",
       "      <td>Wrêczyca</td>\n",
       "      <td>0.000000e+00</td>\n",
       "      <td>POINT (18.92135 50.83717)</td>\n",
       "    </tr>\n",
       "    <tr>\n",
       "      <th>4</th>\n",
       "      <td>831</td>\n",
       "      <td>921.0</td>\n",
       "      <td>II</td>\n",
       "      <td>1.0</td>\n",
       "      <td>0</td>\n",
       "      <td>1999-01-01</td>\n",
       "      <td>None</td>\n",
       "      <td>l¹skie</td>\n",
       "      <td>czêstochowski</td>\n",
       "      <td>Przyrów</td>\n",
       "      <td>Sygontka</td>\n",
       "      <td>0.000000e+00</td>\n",
       "      <td>POINT (19.50739 50.75044)</td>\n",
       "    </tr>\n",
       "    <tr>\n",
       "      <th>5</th>\n",
       "      <td>832</td>\n",
       "      <td>922.0</td>\n",
       "      <td>II</td>\n",
       "      <td>1.0</td>\n",
       "      <td>0</td>\n",
       "      <td>2013-01-01</td>\n",
       "      <td>None</td>\n",
       "      <td>l¹skie</td>\n",
       "      <td>czêstochowski</td>\n",
       "      <td>Janów</td>\n",
       "      <td>Z³oty Potok</td>\n",
       "      <td>3.600000e+02</td>\n",
       "      <td>POINT (19.41315 50.68703)</td>\n",
       "    </tr>\n",
       "    <tr>\n",
       "      <th>6</th>\n",
       "      <td>833</td>\n",
       "      <td>923.0</td>\n",
       "      <td>II</td>\n",
       "      <td>1.0</td>\n",
       "      <td>0</td>\n",
       "      <td>1999-01-01</td>\n",
       "      <td>None</td>\n",
       "      <td>l¹skie</td>\n",
       "      <td>czêstochowski</td>\n",
       "      <td>Janów</td>\n",
       "      <td>Z³oty Potok</td>\n",
       "      <td>0.000000e+00</td>\n",
       "      <td>POINT (19.44182 50.72098)</td>\n",
       "    </tr>\n",
       "    <tr>\n",
       "      <th>7</th>\n",
       "      <td>834</td>\n",
       "      <td>924.0</td>\n",
       "      <td>II</td>\n",
       "      <td>1.0</td>\n",
       "      <td>1</td>\n",
       "      <td>None</td>\n",
       "      <td>None</td>\n",
       "      <td>l¹skie</td>\n",
       "      <td>czêstochowski</td>\n",
       "      <td>Janów</td>\n",
       "      <td>Z³oty Potok</td>\n",
       "      <td>0.000000e+00</td>\n",
       "      <td>POINT (19.41204 50.68556)</td>\n",
       "    </tr>\n",
       "    <tr>\n",
       "      <th>8</th>\n",
       "      <td>842</td>\n",
       "      <td>928.0</td>\n",
       "      <td>II</td>\n",
       "      <td>1.0</td>\n",
       "      <td>0</td>\n",
       "      <td>1999-01-01</td>\n",
       "      <td>None</td>\n",
       "      <td>l¹skie</td>\n",
       "      <td>czêstochowski</td>\n",
       "      <td>Przyrów</td>\n",
       "      <td>Sygontka</td>\n",
       "      <td>3.600000e+02</td>\n",
       "      <td>POINT (19.47393 50.75678)</td>\n",
       "    </tr>\n",
       "    <tr>\n",
       "      <th>9</th>\n",
       "      <td>843</td>\n",
       "      <td>929.0</td>\n",
       "      <td>II</td>\n",
       "      <td>1.0</td>\n",
       "      <td>0</td>\n",
       "      <td>1996-01-01</td>\n",
       "      <td>None</td>\n",
       "      <td>l¹skie</td>\n",
       "      <td>czêstochowski</td>\n",
       "      <td>Przyrów</td>\n",
       "      <td>Julianka</td>\n",
       "      <td>0.000000e+00</td>\n",
       "      <td>POINT (19.50739 50.75044)</td>\n",
       "    </tr>\n",
       "    <tr>\n",
       "      <th>10</th>\n",
       "      <td>846</td>\n",
       "      <td>931.0</td>\n",
       "      <td>II</td>\n",
       "      <td>1.0</td>\n",
       "      <td>1</td>\n",
       "      <td>None</td>\n",
       "      <td>None</td>\n",
       "      <td>l¹skie</td>\n",
       "      <td>czêstochowski</td>\n",
       "      <td>Przyrów</td>\n",
       "      <td>Sygontka</td>\n",
       "      <td>0.000000e+00</td>\n",
       "      <td>POINT (19.48416 50.75933)</td>\n",
       "    </tr>\n",
       "    <tr>\n",
       "      <th>11</th>\n",
       "      <td>847</td>\n",
       "      <td>932.0</td>\n",
       "      <td>II</td>\n",
       "      <td>1.0</td>\n",
       "      <td>0</td>\n",
       "      <td>2002-01-01</td>\n",
       "      <td>None</td>\n",
       "      <td>l¹skie</td>\n",
       "      <td>czêstochowski</td>\n",
       "      <td>Przyrów</td>\n",
       "      <td>Zalesice</td>\n",
       "      <td>0.000000e+00</td>\n",
       "      <td>POINT (19.50739 50.75044)</td>\n",
       "    </tr>\n",
       "    <tr>\n",
       "      <th>12</th>\n",
       "      <td>848</td>\n",
       "      <td>933.0</td>\n",
       "      <td>II</td>\n",
       "      <td>1.0</td>\n",
       "      <td>0</td>\n",
       "      <td>None</td>\n",
       "      <td>None</td>\n",
       "      <td>l¹skie</td>\n",
       "      <td>czêstochowski</td>\n",
       "      <td>Przyrów</td>\n",
       "      <td>Julianka</td>\n",
       "      <td>0.000000e+00</td>\n",
       "      <td>POINT (19.49222 50.75889)</td>\n",
       "    </tr>\n",
       "    <tr>\n",
       "      <th>13</th>\n",
       "      <td>849</td>\n",
       "      <td>934.0</td>\n",
       "      <td>II</td>\n",
       "      <td>1.0</td>\n",
       "      <td>0</td>\n",
       "      <td>1999-01-01</td>\n",
       "      <td>None</td>\n",
       "      <td>l¹skie</td>\n",
       "      <td>czêstochowski</td>\n",
       "      <td>Przyrów</td>\n",
       "      <td>Julianka</td>\n",
       "      <td>0.000000e+00</td>\n",
       "      <td>POINT (19.50739 50.75044)</td>\n",
       "    </tr>\n",
       "    <tr>\n",
       "      <th>14</th>\n",
       "      <td>850</td>\n",
       "      <td>934.0</td>\n",
       "      <td>II</td>\n",
       "      <td>2.0</td>\n",
       "      <td>0</td>\n",
       "      <td>1999-01-01</td>\n",
       "      <td>None</td>\n",
       "      <td>l¹skie</td>\n",
       "      <td>czêstochowski</td>\n",
       "      <td>Przyrów</td>\n",
       "      <td>Julianka</td>\n",
       "      <td>0.000000e+00</td>\n",
       "      <td>POINT (19.50739 50.75044)</td>\n",
       "    </tr>\n",
       "  </tbody>\n",
       "</table>\n",
       "</div>"
      ],
      "text/plain": [
       "     ID  NR_M_ILOSC RZAD  NR_OTW_W_S  CZYNNY  ROK_ZAKONC NR_M_BADAW WOJ_NAZWA  \\\n",
       "0   161       126.0   II         1.0       0  1989-01-01       None   l¹skie   \n",
       "1   395       472.0   II         1.0       0  2016-01-01       None   l¹skie   \n",
       "2   396       473.0   II         1.0       0  1987-01-01       None   l¹skie   \n",
       "3   411       479.0   II         1.0       0  1986-01-01       None   l¹skie   \n",
       "4   831       921.0   II         1.0       0  1999-01-01       None   l¹skie   \n",
       "5   832       922.0   II         1.0       0  2013-01-01       None   l¹skie   \n",
       "6   833       923.0   II         1.0       0  1999-01-01       None   l¹skie   \n",
       "7   834       924.0   II         1.0       1        None       None   l¹skie   \n",
       "8   842       928.0   II         1.0       0  1999-01-01       None   l¹skie   \n",
       "9   843       929.0   II         1.0       0  1996-01-01       None   l¹skie   \n",
       "10  846       931.0   II         1.0       1        None       None   l¹skie   \n",
       "11  847       932.0   II         1.0       0  2002-01-01       None   l¹skie   \n",
       "12  848       933.0   II         1.0       0        None       None   l¹skie   \n",
       "13  849       934.0   II         1.0       0  1999-01-01       None   l¹skie   \n",
       "14  850       934.0   II         2.0       0  1999-01-01       None   l¹skie   \n",
       "\n",
       "         POW_NAZWA         GM_NAZWA      M_NAZWA    GMRotation  \\\n",
       "0          bielski       Buczkowice     Zawodzie  0.000000e+00   \n",
       "1         k³obucki  Wrêczyca Wielka        Golce  5.336085e-07   \n",
       "2   m. Czêstochowa   M. Czêstochowa  Czêstochowa  0.000000e+00   \n",
       "3         k³obucki  Wrêczyca Wielka     Wrêczyca  0.000000e+00   \n",
       "4    czêstochowski          Przyrów     Sygontka  0.000000e+00   \n",
       "5    czêstochowski            Janów  Z³oty Potok  3.600000e+02   \n",
       "6    czêstochowski            Janów  Z³oty Potok  0.000000e+00   \n",
       "7    czêstochowski            Janów  Z³oty Potok  0.000000e+00   \n",
       "8    czêstochowski          Przyrów     Sygontka  3.600000e+02   \n",
       "9    czêstochowski          Przyrów     Julianka  0.000000e+00   \n",
       "10   czêstochowski          Przyrów     Sygontka  0.000000e+00   \n",
       "11   czêstochowski          Przyrów     Zalesice  0.000000e+00   \n",
       "12   czêstochowski          Przyrów     Julianka  0.000000e+00   \n",
       "13   czêstochowski          Przyrów     Julianka  0.000000e+00   \n",
       "14   czêstochowski          Przyrów     Julianka  0.000000e+00   \n",
       "\n",
       "                     geometry  \n",
       "0   POINT (19.17842 50.72782)  \n",
       "1   POINT (18.87222 50.85889)  \n",
       "2   POINT (19.08174 50.81599)  \n",
       "3   POINT (18.92135 50.83717)  \n",
       "4   POINT (19.50739 50.75044)  \n",
       "5   POINT (19.41315 50.68703)  \n",
       "6   POINT (19.44182 50.72098)  \n",
       "7   POINT (19.41204 50.68556)  \n",
       "8   POINT (19.47393 50.75678)  \n",
       "9   POINT (19.50739 50.75044)  \n",
       "10  POINT (19.48416 50.75933)  \n",
       "11  POINT (19.50739 50.75044)  \n",
       "12  POINT (19.49222 50.75889)  \n",
       "13  POINT (19.50739 50.75044)  \n",
       "14  POINT (19.50739 50.75044)  "
      ]
     },
     "execution_count": 13,
     "metadata": {},
     "output_type": "execute_result"
    }
   ],
   "source": [
    "df.head(15)"
   ]
  },
  {
   "cell_type": "code",
   "execution_count": 14,
   "id": "4a4266d0-6feb-4594-b2ec-815d57e3b7b7",
   "metadata": {},
   "outputs": [
    {
     "data": {
      "text/plain": [
       "<GeoAxesSubplot: >"
      ]
     },
     "execution_count": 14,
     "metadata": {},
     "output_type": "execute_result"
    },
    {
     "data": {
      "image/png": "[encoded data removed]",
      "text/plain": [
       "<Figure size 1200x800 with 1 Axes>"
      ]
     },
     "metadata": {},
     "output_type": "display_data"
    }
   ],
   "source": [
    "ax = geoplot.polyplot(geodf, projection=gcrs.AlbersEqualArea(), edgecolor='darkgrey', facecolor='lightgrey', linewidth=.3,\n",
    "    figsize=(12, 8))\n",
    "geoplot.pointplot(df, ax=ax)\n",
    "#geoplot.show()"
   ]
  },
  {
   "cell_type": "code",
   "execution_count": 15,
   "id": "5a0f8ad8-0673-46a3-b0ad-ca74ece26fc0",
   "metadata": {},
   "outputs": [
    {
     "data": {
      "text/plain": [
       "<AxesSubplot: >"
      ]
     },
     "execution_count": 15,
     "metadata": {},
     "output_type": "execute_result"
    },
    {
     "data": {
      "image/png": "[encoded data removed]",
      "text/plain": [
       "<Figure size 640x480 with 1 Axes>"
      ]
     },
     "metadata": {},
     "output_type": "display_data"
    }
   ],
   "source": [
    "df.plot()"
   ]
  },
  {
   "cell_type": "code",
   "execution_count": 67,
   "id": "f1e2d55b-80f7-49bc-96d9-4b9fb0106ab1",
   "metadata": {},
   "outputs": [],
   "source": [
    "excel_data_dirs = [\"data/measurements/GA_5513_1739_2022_monitoring_st_ilosciowego_pomiary_manualne.xls\", \"data/measurements/GA_5513_1739_2022_monitoring_st_ilosciowego_pomiary_automatyczne.xls\"]\n",
    "excel_data_geojson_dirs = [\"data/measurements/GA_5513_1739_2022_quantitative_status_monitoring_manual.json\", \"data/measurements/GA_5513_1739_2022_quantitative_status_monitoring_automatic.json\"]\n",
    "excel_data = pd.read_excel(excel_data_dirs[0])"
   ]
  },
  {
   "cell_type": "code",
   "execution_count": 18,
   "id": "0dae3286-156c-4cd6-bd2b-9d76a55c87c7",
   "metadata": {},
   "outputs": [],
   "source": [
    "excel_data.columns = excel_data.iloc[0]\n",
    "excel_data = excel_data.drop(excel_data.index[0])"
   ]
  },
  {
   "cell_type": "code",
   "execution_count": 19,
   "id": "a519793b-4dc8-4bda-a342-a3707dced00d",
   "metadata": {},
   "outputs": [],
   "source": [
    "excel_data.reset_index(inplace=True)\n",
    "excel_data.drop(\"index\", inplace=True, axis=1)"
   ]
  },
  {
   "cell_type": "code",
   "execution_count": 20,
   "id": "17adff11-6b4b-468f-9365-4db9e43bb2c0",
   "metadata": {},
   "outputs": [],
   "source": [
    "excel_data[\"Data/Punkty\"] = pd.to_datetime(excel_data[\"Data/Punkty\"], format='%Y-%m-%d %H:%M:%S')"
   ]
  },
  {
   "cell_type": "code",
   "execution_count": 58,
   "id": "b326f797-8442-461d-9b99-0a6bf585885f",
   "metadata": {},
   "outputs": [],
   "source": [
    "excel_data[excel_data.loc[:, excel_data.columns != \"Data/Punkty\"].columns] = excel_data[excel_data.loc[:, excel_data.columns != \"Data/Punkty\"].columns].astype('float64')"
   ]
  },
  {
   "cell_type": "code",
   "execution_count": 17,
   "id": "307aa7c9-7ef8-4a23-a2c4-d06359213e09",
   "metadata": {},
   "outputs": [],
   "source": [
    "excel_data = excel_data.drop(excel_data.index[0])"
   ]
  },
  {
   "cell_type": "code",
   "execution_count": 59,
   "id": "af030f2e-53fb-4b8c-b744-2622e7b6518e",
   "metadata": {},
   "outputs": [
    {
     "data": {
      "text/html": [
       "<div>\n",
       "<style scoped>\n",
       "    .dataframe tbody tr th:only-of-type {\n",
       "        vertical-align: middle;\n",
       "    }\n",
       "\n",
       "    .dataframe tbody tr th {\n",
       "        vertical-align: top;\n",
       "    }\n",
       "\n",
       "    .dataframe thead th {\n",
       "        text-align: right;\n",
       "    }\n",
       "</style>\n",
       "<table border=\"1\" class=\"dataframe\">\n",
       "  <thead>\n",
       "    <tr style=\"text-align: right;\">\n",
       "      <th>1</th>\n",
       "      <th>Data/Punkty</th>\n",
       "      <th>II/112/1</th>\n",
       "      <th>II/113/1</th>\n",
       "      <th>II/114/1</th>\n",
       "      <th>II/115/1</th>\n",
       "      <th>II/116/1</th>\n",
       "      <th>II/131/1</th>\n",
       "      <th>II/132/1</th>\n",
       "      <th>II/292/1</th>\n",
       "      <th>II/297/1</th>\n",
       "      <th>...</th>\n",
       "      <th>II/936/1</th>\n",
       "      <th>II/940/1</th>\n",
       "      <th>II/949/1</th>\n",
       "      <th>II/951/1</th>\n",
       "      <th>II/952/1</th>\n",
       "      <th>II/957/1</th>\n",
       "      <th>II/1345/1</th>\n",
       "      <th>II/1346/1</th>\n",
       "      <th>II/1351/1</th>\n",
       "      <th>II/1352/1</th>\n",
       "    </tr>\n",
       "  </thead>\n",
       "  <tbody>\n",
       "    <tr>\n",
       "      <th>0</th>\n",
       "      <td>2001-11-05</td>\n",
       "      <td>9.65</td>\n",
       "      <td>31.96</td>\n",
       "      <td>29.35</td>\n",
       "      <td>10.58</td>\n",
       "      <td>8.25</td>\n",
       "      <td>16.86</td>\n",
       "      <td>48.15</td>\n",
       "      <td>12.07</td>\n",
       "      <td>5.1</td>\n",
       "      <td>...</td>\n",
       "      <td>0.17</td>\n",
       "      <td>42.66</td>\n",
       "      <td>NaN</td>\n",
       "      <td>NaN</td>\n",
       "      <td>NaN</td>\n",
       "      <td>NaN</td>\n",
       "      <td>NaN</td>\n",
       "      <td>NaN</td>\n",
       "      <td>NaN</td>\n",
       "      <td>NaN</td>\n",
       "    </tr>\n",
       "    <tr>\n",
       "      <th>1</th>\n",
       "      <td>2001-11-12</td>\n",
       "      <td>9.66</td>\n",
       "      <td>31.91</td>\n",
       "      <td>29.44</td>\n",
       "      <td>10.57</td>\n",
       "      <td>8.19</td>\n",
       "      <td>16.96</td>\n",
       "      <td>48.25</td>\n",
       "      <td>12.05</td>\n",
       "      <td>5.2</td>\n",
       "      <td>...</td>\n",
       "      <td>0.16</td>\n",
       "      <td>42.69</td>\n",
       "      <td>NaN</td>\n",
       "      <td>NaN</td>\n",
       "      <td>NaN</td>\n",
       "      <td>NaN</td>\n",
       "      <td>NaN</td>\n",
       "      <td>NaN</td>\n",
       "      <td>NaN</td>\n",
       "      <td>NaN</td>\n",
       "    </tr>\n",
       "    <tr>\n",
       "      <th>2</th>\n",
       "      <td>2001-11-19</td>\n",
       "      <td>9.66</td>\n",
       "      <td>31.86</td>\n",
       "      <td>29.30</td>\n",
       "      <td>10.55</td>\n",
       "      <td>8.11</td>\n",
       "      <td>16.91</td>\n",
       "      <td>48.20</td>\n",
       "      <td>12.08</td>\n",
       "      <td>5.2</td>\n",
       "      <td>...</td>\n",
       "      <td>0.20</td>\n",
       "      <td>42.70</td>\n",
       "      <td>NaN</td>\n",
       "      <td>NaN</td>\n",
       "      <td>NaN</td>\n",
       "      <td>NaN</td>\n",
       "      <td>NaN</td>\n",
       "      <td>NaN</td>\n",
       "      <td>NaN</td>\n",
       "      <td>NaN</td>\n",
       "    </tr>\n",
       "    <tr>\n",
       "      <th>3</th>\n",
       "      <td>2001-11-26</td>\n",
       "      <td>9.63</td>\n",
       "      <td>31.80</td>\n",
       "      <td>29.44</td>\n",
       "      <td>10.54</td>\n",
       "      <td>8.03</td>\n",
       "      <td>16.86</td>\n",
       "      <td>48.25</td>\n",
       "      <td>12.07</td>\n",
       "      <td>5.0</td>\n",
       "      <td>...</td>\n",
       "      <td>0.19</td>\n",
       "      <td>42.73</td>\n",
       "      <td>NaN</td>\n",
       "      <td>NaN</td>\n",
       "      <td>NaN</td>\n",
       "      <td>NaN</td>\n",
       "      <td>NaN</td>\n",
       "      <td>NaN</td>\n",
       "      <td>NaN</td>\n",
       "      <td>NaN</td>\n",
       "    </tr>\n",
       "    <tr>\n",
       "      <th>4</th>\n",
       "      <td>2001-12-03</td>\n",
       "      <td>9.67</td>\n",
       "      <td>31.83</td>\n",
       "      <td>29.52</td>\n",
       "      <td>10.53</td>\n",
       "      <td>8.08</td>\n",
       "      <td>16.91</td>\n",
       "      <td>48.30</td>\n",
       "      <td>12.08</td>\n",
       "      <td>5.0</td>\n",
       "      <td>...</td>\n",
       "      <td>0.18</td>\n",
       "      <td>42.48</td>\n",
       "      <td>NaN</td>\n",
       "      <td>NaN</td>\n",
       "      <td>NaN</td>\n",
       "      <td>NaN</td>\n",
       "      <td>NaN</td>\n",
       "      <td>NaN</td>\n",
       "      <td>NaN</td>\n",
       "      <td>NaN</td>\n",
       "    </tr>\n",
       "  </tbody>\n",
       "</table>\n",
       "<p>5 rows × 26 columns</p>\n",
       "</div>"
      ],
      "text/plain": [
       "1 Data/Punkty  II/112/1  II/113/1  II/114/1  II/115/1  II/116/1  II/131/1  \\\n",
       "0  2001-11-05      9.65     31.96     29.35     10.58      8.25     16.86   \n",
       "1  2001-11-12      9.66     31.91     29.44     10.57      8.19     16.96   \n",
       "2  2001-11-19      9.66     31.86     29.30     10.55      8.11     16.91   \n",
       "3  2001-11-26      9.63     31.80     29.44     10.54      8.03     16.86   \n",
       "4  2001-12-03      9.67     31.83     29.52     10.53      8.08     16.91   \n",
       "\n",
       "1  II/132/1  II/292/1  II/297/1  ...  II/936/1  II/940/1  II/949/1  II/951/1  \\\n",
       "0     48.15     12.07       5.1  ...      0.17     42.66       NaN       NaN   \n",
       "1     48.25     12.05       5.2  ...      0.16     42.69       NaN       NaN   \n",
       "2     48.20     12.08       5.2  ...      0.20     42.70       NaN       NaN   \n",
       "3     48.25     12.07       5.0  ...      0.19     42.73       NaN       NaN   \n",
       "4     48.30     12.08       5.0  ...      0.18     42.48       NaN       NaN   \n",
       "\n",
       "1  II/952/1  II/957/1  II/1345/1  II/1346/1  II/1351/1  II/1352/1  \n",
       "0       NaN       NaN        NaN        NaN        NaN        NaN  \n",
       "1       NaN       NaN        NaN        NaN        NaN        NaN  \n",
       "2       NaN       NaN        NaN        NaN        NaN        NaN  \n",
       "3       NaN       NaN        NaN        NaN        NaN        NaN  \n",
       "4       NaN       NaN        NaN        NaN        NaN        NaN  \n",
       "\n",
       "[5 rows x 26 columns]"
      ]
     },
     "execution_count": 59,
     "metadata": {},
     "output_type": "execute_result"
    }
   ],
   "source": [
    "excel_data.head()"
   ]
  },
  {
   "cell_type": "code",
   "execution_count": 47,
   "id": "85b46141-0e26-4679-ab3a-fdd697dabe62",
   "metadata": {},
   "outputs": [],
   "source": [
    "excel_2020 = excel_data[excel_data[\"Data/Punkty\"].dt.year.eq(2018)]"
   ]
  },
  {
   "cell_type": "code",
   "execution_count": 48,
   "id": "2591d33e-14f0-496e-ae05-379755e5b1bd",
   "metadata": {},
   "outputs": [
    {
     "data": {
      "text/plain": [
       "[<matplotlib.lines.Line2D at 0xffff65dfe2e0>]"
      ]
     },
     "execution_count": 48,
     "metadata": {},
     "output_type": "execute_result"
    },
    {
     "data": {
      "image/png": "[encoded data removed]",
      "text/plain": [
       "<Figure size 640x480 with 1 Axes>"
      ]
     },
     "metadata": {},
     "output_type": "display_data"
    }
   ],
   "source": [
    "plt.plot(excel_2020[\"Data/Punkty\"], excel_2020[\"II/113/1\"], label=\"II/113/1\")\n",
    "plt.plot(excel_2020[\"Data/Punkty\"], excel_2020[\"II/114/1\"], label=\"II/114/1\")"
   ]
  },
  {
   "cell_type": "code",
   "execution_count": null,
   "id": "ded06f51-e4b1-4e56-a2ed-6a40feb82c74",
   "metadata": {},
   "outputs": [],
   "source": []
  },
  {
   "cell_type": "code",
   "execution_count": null,
   "id": "07c8e22f-0c67-4221-b3d6-edcbcb026a89",
   "metadata": {},
   "outputs": [],
   "source": []
  },
  {
   "cell_type": "code",
   "execution_count": null,
   "id": "6d2aabeb-cf1b-4dc3-8315-4a5f7bc7c2e5",
   "metadata": {},
   "outputs": [],
   "source": []
  },
  {
   "cell_type": "code",
   "execution_count": null,
   "id": "508e7db2-3918-413c-a54e-e6b126779b2e",
   "metadata": {},
   "outputs": [],
   "source": []
  },
  {
   "cell_type": "code",
   "execution_count": null,
   "id": "d41f7c81-8e26-424b-9593-f07edf730c2b",
   "metadata": {},
   "outputs": [],
   "source": []
  },
  {
   "cell_type": "code",
   "execution_count": null,
   "id": "e158a91f-8555-4b70-8c24-3a7d54ff89af",
   "metadata": {},
   "outputs": [],
   "source": []
  },
  {
   "cell_type": "code",
   "execution_count": 40,
   "id": "b684a380-9bdf-42fc-b438-55cefdd86e66",
   "metadata": {},
   "outputs": [],
   "source": [
    "corr = excel_data.corr()"
   ]
  },
  {
   "cell_type": "code",
   "execution_count": 26,
   "id": "77dac8f3-b55f-49d9-9512-e9591be59085",
   "metadata": {},
   "outputs": [
    {
     "data": {
      "text/plain": [
       "<AxesSubplot: xlabel='1', ylabel='1'>"
      ]
     },
     "execution_count": 26,
     "metadata": {},
     "output_type": "execute_result"
    },
    {
     "data": {
      "image/png": "[encoded data removed]",
      "text/plain": [
       "<Figure size 640x480 with 2 Axes>"
      ]
     },
     "metadata": {},
     "output_type": "display_data"
    }
   ],
   "source": [
    "sns.heatmap(corr, \n",
    "        xticklabels=corr.columns,\n",
    "        yticklabels=corr.columns)"
   ]
  },
  {
   "cell_type": "code",
   "execution_count": 27,
   "id": "8932f16c-d982-4616-8937-00da1df84881",
   "metadata": {},
   "outputs": [],
   "source": [
    "excel_data_melted = excel_data.melt(id_vars=[\"Data/Punkty\"],\n",
    "                             var_name=\"name\",\n",
    "                             value_name=\"value\")"
   ]
  },
  {
   "cell_type": "code",
   "execution_count": 28,
   "id": "8fd07bfb-f6fe-4946-b347-a96b98737e0f",
   "metadata": {},
   "outputs": [
    {
     "data": {
      "text/html": [
       "<div>\n",
       "<style scoped>\n",
       "    .dataframe tbody tr th:only-of-type {\n",
       "        vertical-align: middle;\n",
       "    }\n",
       "\n",
       "    .dataframe tbody tr th {\n",
       "        vertical-align: top;\n",
       "    }\n",
       "\n",
       "    .dataframe thead th {\n",
       "        text-align: right;\n",
       "    }\n",
       "</style>\n",
       "<table border=\"1\" class=\"dataframe\">\n",
       "  <thead>\n",
       "    <tr style=\"text-align: right;\">\n",
       "      <th></th>\n",
       "      <th>Data/Punkty</th>\n",
       "      <th>name</th>\n",
       "      <th>value</th>\n",
       "    </tr>\n",
       "  </thead>\n",
       "  <tbody>\n",
       "    <tr>\n",
       "      <th>0</th>\n",
       "      <td>2001-11-05</td>\n",
       "      <td>II/112/1</td>\n",
       "      <td>9.65</td>\n",
       "    </tr>\n",
       "    <tr>\n",
       "      <th>1</th>\n",
       "      <td>2001-11-12</td>\n",
       "      <td>II/112/1</td>\n",
       "      <td>9.66</td>\n",
       "    </tr>\n",
       "    <tr>\n",
       "      <th>2</th>\n",
       "      <td>2001-11-19</td>\n",
       "      <td>II/112/1</td>\n",
       "      <td>9.66</td>\n",
       "    </tr>\n",
       "    <tr>\n",
       "      <th>3</th>\n",
       "      <td>2001-11-26</td>\n",
       "      <td>II/112/1</td>\n",
       "      <td>9.63</td>\n",
       "    </tr>\n",
       "    <tr>\n",
       "      <th>4</th>\n",
       "      <td>2001-12-03</td>\n",
       "      <td>II/112/1</td>\n",
       "      <td>9.67</td>\n",
       "    </tr>\n",
       "    <tr>\n",
       "      <th>...</th>\n",
       "      <td>...</td>\n",
       "      <td>...</td>\n",
       "      <td>...</td>\n",
       "    </tr>\n",
       "    <tr>\n",
       "      <th>27395</th>\n",
       "      <td>2022-10-03</td>\n",
       "      <td>II/1352/1</td>\n",
       "      <td>15.67</td>\n",
       "    </tr>\n",
       "    <tr>\n",
       "      <th>27396</th>\n",
       "      <td>2022-10-10</td>\n",
       "      <td>II/1352/1</td>\n",
       "      <td>15.66</td>\n",
       "    </tr>\n",
       "    <tr>\n",
       "      <th>27397</th>\n",
       "      <td>2022-10-17</td>\n",
       "      <td>II/1352/1</td>\n",
       "      <td>15.69</td>\n",
       "    </tr>\n",
       "    <tr>\n",
       "      <th>27398</th>\n",
       "      <td>2022-10-24</td>\n",
       "      <td>II/1352/1</td>\n",
       "      <td>15.70</td>\n",
       "    </tr>\n",
       "    <tr>\n",
       "      <th>27399</th>\n",
       "      <td>2022-10-31</td>\n",
       "      <td>II/1352/1</td>\n",
       "      <td>15.69</td>\n",
       "    </tr>\n",
       "  </tbody>\n",
       "</table>\n",
       "<p>27400 rows × 3 columns</p>\n",
       "</div>"
      ],
      "text/plain": [
       "      Data/Punkty       name  value\n",
       "0      2001-11-05   II/112/1   9.65\n",
       "1      2001-11-12   II/112/1   9.66\n",
       "2      2001-11-19   II/112/1   9.66\n",
       "3      2001-11-26   II/112/1   9.63\n",
       "4      2001-12-03   II/112/1   9.67\n",
       "...           ...        ...    ...\n",
       "27395  2022-10-03  II/1352/1  15.67\n",
       "27396  2022-10-10  II/1352/1  15.66\n",
       "27397  2022-10-17  II/1352/1  15.69\n",
       "27398  2022-10-24  II/1352/1  15.70\n",
       "27399  2022-10-31  II/1352/1  15.69\n",
       "\n",
       "[27400 rows x 3 columns]"
      ]
     },
     "execution_count": 28,
     "metadata": {},
     "output_type": "execute_result"
    }
   ],
   "source": [
    "excel_data_melted"
   ]
  },
  {
   "cell_type": "code",
   "execution_count": 64,
   "id": "28c20221-2b81-40f2-b591-03d623f6c65f",
   "metadata": {},
   "outputs": [],
   "source": [
    "points_data_dir = \"data/measurements/GA_5513_1739_2022_dane_o_punktach_czynnych_i_archiwalnych.xls\""
   ]
  },
  {
   "cell_type": "code",
   "execution_count": 65,
   "id": "5b041470-8c50-4e25-97e1-0c52d323dddd",
   "metadata": {},
   "outputs": [],
   "source": [
    "points_data = pd.read_excel(points_data_dir)"
   ]
  },
  {
   "cell_type": "code",
   "execution_count": 30,
   "id": "a26bdad0-19b7-4974-93b9-500f8f88c895",
   "metadata": {},
   "outputs": [],
   "source": [
    "points_data = points_data[[\"Numer punktu monitoringu stanu ilościowego\", \"Współrzędne PUWG 1992 X\", \"Współrzędne PUWG 1992 Y\"]]"
   ]
  },
  {
   "cell_type": "code",
   "execution_count": 31,
   "id": "1e7551ab-ded3-4626-87a5-68e6385337ae",
   "metadata": {},
   "outputs": [],
   "source": [
    "points_data = points_data.rename(columns = {\"Numer punktu monitoringu stanu ilościowego\": \"name\", \"Współrzędne PUWG 1992 X\": \"longitude\", \"Współrzędne PUWG 1992 Y\": \"latitude\"}) "
   ]
  },
  {
   "cell_type": "code",
   "execution_count": 32,
   "id": "3551eb52-03f8-425a-a6d4-10592d207fc7",
   "metadata": {},
   "outputs": [],
   "source": [
    "data_merged = pd.merge(excel_data_melted, points_data, on=\"name\")"
   ]
  },
  {
   "cell_type": "code",
   "execution_count": 33,
   "id": "1d06a2aa-5763-4796-84a3-9d4f554e9424",
   "metadata": {},
   "outputs": [],
   "source": [
    "gdf = geopandas.GeoDataFrame(data_merged, geometry=geopandas.points_from_xy(data_merged.longitude, data_merged.latitude))"
   ]
  },
  {
   "cell_type": "code",
   "execution_count": 34,
   "id": "4dce7c75-4b6e-452c-b3a0-c8154bdbc9b5",
   "metadata": {},
   "outputs": [],
   "source": [
    "gdf = gdf.set_crs(\"EPSG:2180\")"
   ]
  },
  {
   "cell_type": "code",
   "execution_count": 35,
   "id": "8768eccc-4def-4c24-829b-d92d8d1bd94c",
   "metadata": {},
   "outputs": [
    {
     "data": {
      "text/plain": [
       "<Derived Projected CRS: EPSG:2180>\n",
       "Name: ETRF2000-PL / CS92\n",
       "Axis Info [cartesian]:\n",
       "- x[north]: Northing (metre)\n",
       "- y[east]: Easting (metre)\n",
       "Area of Use:\n",
       "- name: Poland - onshore and offshore.\n",
       "- bounds: (14.14, 49.0, 24.15, 55.93)\n",
       "Coordinate Operation:\n",
       "- name: Poland CS92\n",
       "- method: Transverse Mercator\n",
       "Datum: ETRF2000 Poland\n",
       "- Ellipsoid: GRS 1980\n",
       "- Prime Meridian: Greenwich"
      ]
     },
     "execution_count": 35,
     "metadata": {},
     "output_type": "execute_result"
    }
   ],
   "source": [
    "gdf.crs"
   ]
  },
  {
   "cell_type": "code",
   "execution_count": 36,
   "id": "e4995184-6a02-46ab-be4a-8ad5948a3cba",
   "metadata": {},
   "outputs": [],
   "source": [
    "gdf = gdf.to_crs(\"EPSG:4326\")"
   ]
  },
  {
   "cell_type": "code",
   "execution_count": 37,
   "id": "af962d90-7953-412a-bd97-11d0a4104af8",
   "metadata": {},
   "outputs": [],
   "source": [
    "gdf = gdf.drop([\"longitude\", \"latitude\"], axis=1)"
   ]
  },
  {
   "cell_type": "code",
   "execution_count": 38,
   "id": "5cd21d3a-5296-460c-909c-8f41768d62ff",
   "metadata": {},
   "outputs": [
    {
     "data": {
      "text/html": [
       "<div>\n",
       "<style scoped>\n",
       "    .dataframe tbody tr th:only-of-type {\n",
       "        vertical-align: middle;\n",
       "    }\n",
       "\n",
       "    .dataframe tbody tr th {\n",
       "        vertical-align: top;\n",
       "    }\n",
       "\n",
       "    .dataframe thead th {\n",
       "        text-align: right;\n",
       "    }\n",
       "</style>\n",
       "<table border=\"1\" class=\"dataframe\">\n",
       "  <thead>\n",
       "    <tr style=\"text-align: right;\">\n",
       "      <th></th>\n",
       "      <th>Data/Punkty</th>\n",
       "      <th>name</th>\n",
       "      <th>value</th>\n",
       "      <th>geometry</th>\n",
       "    </tr>\n",
       "  </thead>\n",
       "  <tbody>\n",
       "    <tr>\n",
       "      <th>0</th>\n",
       "      <td>2001-11-05</td>\n",
       "      <td>II/112/1</td>\n",
       "      <td>9.65</td>\n",
       "      <td>POINT (18.85332 50.93821)</td>\n",
       "    </tr>\n",
       "    <tr>\n",
       "      <th>1</th>\n",
       "      <td>2001-11-12</td>\n",
       "      <td>II/112/1</td>\n",
       "      <td>9.66</td>\n",
       "      <td>POINT (18.85332 50.93821)</td>\n",
       "    </tr>\n",
       "    <tr>\n",
       "      <th>2</th>\n",
       "      <td>2001-11-19</td>\n",
       "      <td>II/112/1</td>\n",
       "      <td>9.66</td>\n",
       "      <td>POINT (18.85332 50.93821)</td>\n",
       "    </tr>\n",
       "    <tr>\n",
       "      <th>3</th>\n",
       "      <td>2001-11-26</td>\n",
       "      <td>II/112/1</td>\n",
       "      <td>9.63</td>\n",
       "      <td>POINT (18.85332 50.93821)</td>\n",
       "    </tr>\n",
       "    <tr>\n",
       "      <th>4</th>\n",
       "      <td>2001-12-03</td>\n",
       "      <td>II/112/1</td>\n",
       "      <td>9.67</td>\n",
       "      <td>POINT (18.85332 50.93821)</td>\n",
       "    </tr>\n",
       "    <tr>\n",
       "      <th>...</th>\n",
       "      <td>...</td>\n",
       "      <td>...</td>\n",
       "      <td>...</td>\n",
       "      <td>...</td>\n",
       "    </tr>\n",
       "    <tr>\n",
       "      <th>27395</th>\n",
       "      <td>2022-10-03</td>\n",
       "      <td>II/1352/1</td>\n",
       "      <td>15.67</td>\n",
       "      <td>POINT (18.95362 50.74014)</td>\n",
       "    </tr>\n",
       "    <tr>\n",
       "      <th>27396</th>\n",
       "      <td>2022-10-10</td>\n",
       "      <td>II/1352/1</td>\n",
       "      <td>15.66</td>\n",
       "      <td>POINT (18.95362 50.74014)</td>\n",
       "    </tr>\n",
       "    <tr>\n",
       "      <th>27397</th>\n",
       "      <td>2022-10-17</td>\n",
       "      <td>II/1352/1</td>\n",
       "      <td>15.69</td>\n",
       "      <td>POINT (18.95362 50.74014)</td>\n",
       "    </tr>\n",
       "    <tr>\n",
       "      <th>27398</th>\n",
       "      <td>2022-10-24</td>\n",
       "      <td>II/1352/1</td>\n",
       "      <td>15.70</td>\n",
       "      <td>POINT (18.95362 50.74014)</td>\n",
       "    </tr>\n",
       "    <tr>\n",
       "      <th>27399</th>\n",
       "      <td>2022-10-31</td>\n",
       "      <td>II/1352/1</td>\n",
       "      <td>15.69</td>\n",
       "      <td>POINT (18.95362 50.74014)</td>\n",
       "    </tr>\n",
       "  </tbody>\n",
       "</table>\n",
       "<p>27400 rows × 4 columns</p>\n",
       "</div>"
      ],
      "text/plain": [
       "      Data/Punkty       name  value                   geometry\n",
       "0      2001-11-05   II/112/1   9.65  POINT (18.85332 50.93821)\n",
       "1      2001-11-12   II/112/1   9.66  POINT (18.85332 50.93821)\n",
       "2      2001-11-19   II/112/1   9.66  POINT (18.85332 50.93821)\n",
       "3      2001-11-26   II/112/1   9.63  POINT (18.85332 50.93821)\n",
       "4      2001-12-03   II/112/1   9.67  POINT (18.85332 50.93821)\n",
       "...           ...        ...    ...                        ...\n",
       "27395  2022-10-03  II/1352/1  15.67  POINT (18.95362 50.74014)\n",
       "27396  2022-10-10  II/1352/1  15.66  POINT (18.95362 50.74014)\n",
       "27397  2022-10-17  II/1352/1  15.69  POINT (18.95362 50.74014)\n",
       "27398  2022-10-24  II/1352/1  15.70  POINT (18.95362 50.74014)\n",
       "27399  2022-10-31  II/1352/1  15.69  POINT (18.95362 50.74014)\n",
       "\n",
       "[27400 rows x 4 columns]"
      ]
     },
     "execution_count": 38,
     "metadata": {},
     "output_type": "execute_result"
    }
   ],
   "source": [
    "gdf"
   ]
  },
  {
   "cell_type": "code",
   "execution_count": 51,
   "id": "6bf14da8-ac45-4688-b44e-15badc28c36f",
   "metadata": {},
   "outputs": [],
   "source": [
    "file = h5py.File(\"data/gpm-imerg/3B-MO.MS.MRG.3IMERG.20210101-S000000-E235959.01.V06B.HDF5\", \"r\")"
   ]
  },
  {
   "cell_type": "code",
   "execution_count": 54,
   "id": "605c2be9-51d1-4b4c-80af-62689cc59271",
   "metadata": {},
   "outputs": [
    {
     "data": {
      "text/plain": [
       "['Grid']"
      ]
     },
     "execution_count": 54,
     "metadata": {},
     "output_type": "execute_result"
    }
   ],
   "source": [
    "list(file.keys())"
   ]
  },
  {
   "cell_type": "code",
   "execution_count": 55,
   "id": "c8fb5a7f-0dce-4c8a-b54c-8fb01bc34e6e",
   "metadata": {},
   "outputs": [
    {
     "data": {
      "text/html": [
       "<div>\n",
       "<style scoped>\n",
       "    .dataframe tbody tr th:only-of-type {\n",
       "        vertical-align: middle;\n",
       "    }\n",
       "\n",
       "    .dataframe tbody tr th {\n",
       "        vertical-align: top;\n",
       "    }\n",
       "\n",
       "    .dataframe thead th {\n",
       "        text-align: right;\n",
       "    }\n",
       "</style>\n",
       "<table border=\"1\" class=\"dataframe\">\n",
       "  <thead>\n",
       "    <tr style=\"text-align: right;\">\n",
       "      <th></th>\n",
       "      <th>value</th>\n",
       "    </tr>\n",
       "  </thead>\n",
       "  <tbody>\n",
       "    <tr>\n",
       "      <th>count</th>\n",
       "      <td>19133.000000</td>\n",
       "    </tr>\n",
       "    <tr>\n",
       "      <th>mean</th>\n",
       "      <td>18.571713</td>\n",
       "    </tr>\n",
       "    <tr>\n",
       "      <th>std</th>\n",
       "      <td>14.436682</td>\n",
       "    </tr>\n",
       "    <tr>\n",
       "      <th>min</th>\n",
       "      <td>-0.100000</td>\n",
       "    </tr>\n",
       "    <tr>\n",
       "      <th>25%</th>\n",
       "      <td>5.780000</td>\n",
       "    </tr>\n",
       "    <tr>\n",
       "      <th>50%</th>\n",
       "      <td>14.500000</td>\n",
       "    </tr>\n",
       "    <tr>\n",
       "      <th>75%</th>\n",
       "      <td>31.370000</td>\n",
       "    </tr>\n",
       "    <tr>\n",
       "      <th>max</th>\n",
       "      <td>50.300000</td>\n",
       "    </tr>\n",
       "  </tbody>\n",
       "</table>\n",
       "</div>"
      ],
      "text/plain": [
       "              value\n",
       "count  19133.000000\n",
       "mean      18.571713\n",
       "std       14.436682\n",
       "min       -0.100000\n",
       "25%        5.780000\n",
       "50%       14.500000\n",
       "75%       31.370000\n",
       "max       50.300000"
      ]
     },
     "execution_count": 55,
     "metadata": {},
     "output_type": "execute_result"
    }
   ],
   "source": [
    "gdf.describe()"
   ]
  },
  {
   "cell_type": "code",
   "execution_count": 56,
   "id": "fa2f93a8-7330-4937-bb8b-86d9bec818f4",
   "metadata": {},
   "outputs": [
    {
     "data": {
      "text/plain": [
       "Data/Punkty       0\n",
       "name              0\n",
       "value          8267\n",
       "geometry          0\n",
       "dtype: int64"
      ]
     },
     "execution_count": 56,
     "metadata": {},
     "output_type": "execute_result"
    }
   ],
   "source": [
    "gdf.isna().sum()"
   ]
  },
  {
   "cell_type": "code",
   "execution_count": null,
   "id": "e9457ed6-346b-434b-8ff9-d70e6cf0a3e1",
   "metadata": {},
   "outputs": [],
   "source": []
  },
  {
   "cell_type": "code",
   "execution_count": 62,
   "id": "1370091b-fe69-4dce-8b2b-9901d7b24b49",
   "metadata": {},
   "outputs": [],
   "source": [
    "def excel_to_geopandas(excel_data_dir, points_data_dir):\n",
    "    excel_data = pd.read_excel(excel_data_dir)\n",
    "    excel_data = excel_data.drop(excel_data.index[0])\n",
    "    excel_data.columns = excel_data.iloc[0]\n",
    "    excel_data = excel_data.drop(excel_data.index[0])\n",
    "    excel_data.reset_index(inplace=True)\n",
    "    excel_data.drop(\"index\", inplace=True, axis=1)\n",
    "    excel_data[\"Data/Punkty\"] = pd.to_datetime(excel_data[\"Data/Punkty\"], format='%Y-%m-%d %H:%M:%S')\n",
    "    excel_data[excel_data.loc[:, excel_data.columns != \"Data/Punkty\"].columns] = excel_data[excel_data.loc[:, excel_data.columns != \"Data/Punkty\"].columns].astype('float64')\n",
    "    excel_data_melted = excel_data.melt(id_vars=[\"Data/Punkty\"],\n",
    "                             var_name=\"name\",\n",
    "                             value_name=\"value\")\n",
    "    points_data = pd.read_excel(points_data_dir)\n",
    "    points_data = points_data[[\"Numer punktu monitoringu stanu ilościowego\", \"Współrzędne PUWG 1992 X\", \"Współrzędne PUWG 1992 Y\"]]\n",
    "    points_data = points_data.rename(columns = {\"Numer punktu monitoringu stanu ilościowego\": \"name\", \"Współrzędne PUWG 1992 X\": \"longitude\", \"Współrzędne PUWG 1992 Y\": \"latitude\"}) \n",
    "    data_merged = pd.merge(excel_data_melted, points_data, on=\"name\")\n",
    "    data_merged = data_merged.rename(columns = {\"Data/Punkty\": \"date\"})\n",
    "    gdf = geopandas.GeoDataFrame(data_merged, geometry=geopandas.points_from_xy(data_merged.longitude, data_merged.latitude))\n",
    "    \n",
    "    gdf = gdf.set_crs(\"EPSG:2180\")\n",
    "    gdf = gdf.to_crs(\"EPSG:4326\")\n",
    "    gdf = gdf.drop([\"longitude\", \"latitude\"], axis=1)\n",
    "    return gdf\n",
    "    "
   ]
  },
  {
   "cell_type": "code",
   "execution_count": 68,
   "id": "ed484177-2c88-48fc-9d48-4c225b5dffbd",
   "metadata": {},
   "outputs": [],
   "source": [
    "for i, excel_data in enumerate(excel_data_dirs):\n",
    "    gdf = excel_to_geopandas(excel_data, points_data_dir)\n",
    "    gdf.to_file(excel_data_geojson_dirs[i], driver=\"GeoJSON\")\n",
    "    \n",
    "    \n",
    "    \n",
    "    "
   ]
  },
  {
   "cell_type": "code",
   "execution_count": null,
   "id": "78718148-0b44-4340-af88-9160e42810a9",
   "metadata": {},
   "outputs": [],
   "source": []
  }
 ],
 "metadata": {
  "kernelspec": {
   "display_name": "Python 3 (ipykernel)",
   "language": "python",
   "name": "python3"
  },
  "language_info": {
   "codemirror_mode": {
    "name": "ipython",
    "version": 3
   },
   "file_extension": ".py",
   "mimetype": "text/x-python",
   "name": "python",
   "nbconvert_exporter": "python",
   "pygments_lexer": "ipython3",
   "version": "3.9.2"
  }
 },
 "nbformat": 4,
 "nbformat_minor": 5
}
