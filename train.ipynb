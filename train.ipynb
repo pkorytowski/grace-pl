{
 "cells": [
  {
   "cell_type": "markdown",
   "id": "eefef308",
   "metadata": {},
   "source": [
    "## Imports"
   ]
  },
  {
   "cell_type": "code",
   "execution_count": 2,
   "id": "400f276a",
   "metadata": {},
   "outputs": [],
   "source": [
    "import torch\n",
    "import pandas as pd\n",
    "import random\n",
    "import wandb\n",
    "import copy\n",
    "from tqdm import tqdm\n",
    "import numpy as np"
   ]
  },
  {
   "cell_type": "markdown",
   "id": "577ca4b6",
   "metadata": {},
   "source": [
    "## GPU detection"
   ]
  },
  {
   "cell_type": "code",
   "execution_count": 3,
   "id": "5e8d2b75-37c0-41fe-bfdf-9e65b8ca8f39",
   "metadata": {},
   "outputs": [
    {
     "name": "stdout",
     "output_type": "stream",
     "text": [
      "device: cpu []\n"
     ]
    }
   ],
   "source": [
    "device = torch.device('cuda' if torch.cuda.is_available() else 'cpu')\n",
    "print(f\"device: {device} {[torch.cuda.get_device_name(i) for i in range(torch.cuda.device_count())]}\")"
   ]
  },
  {
   "cell_type": "markdown",
   "id": "8e01c48b",
   "metadata": {},
   "source": [
    "## Variables"
   ]
  },
  {
   "cell_type": "code",
   "execution_count": null,
   "id": "40db4438",
   "metadata": {},
   "outputs": [],
   "source": [
    "best_weights_path = 'data/best_weights.pt'\n",
    "csv_path = 'data/encoder_training.csv'\n",
    "batch_size = 64\n",
    "learning_rate = 0.001\n",
    "es_patience = 5\n",
    "es_min_delta = 0.01\n",
    "num_epochs = 100"
   ]
  },
  {
   "cell_type": "markdown",
   "id": "190111e7",
   "metadata": {},
   "source": [
    "## Dataloader"
   ]
  },
  {
   "cell_type": "markdown",
   "id": "c517eb16",
   "metadata": {},
   "source": [
    "### Dataset"
   ]
  },
  {
   "cell_type": "code",
   "execution_count": null,
   "id": "c5e4b4a4",
   "metadata": {},
   "outputs": [],
   "source": [
    "class EncoderTrainingDataset(torch.utils.data.Dataset):\n",
    "    def __init__(self, csv_path):\n",
    "        self.csv_path = csv_path\n",
    "        #read csv with columns precipitation, evaporation, grace, level\n",
    "        self.df = pd.read_csv(csv_path, names=['precipitation, evaporation, grace'])\n",
    "    def __getitem__(self, index):\n",
    "        #read csv with columns precipitation, evaporation, grace, level\n",
    "        row = self.df.iloc[index]\n",
    "        #return precipitation, evaporation, grace\n",
    "        return torch.tensor(row['precipitation, evaporation, grace'], dtype=torch.float)\n",
    "    def __len__(self):\n",
    "        return len(self.df)"
   ]
  },
  {
   "cell_type": "markdown",
   "id": "f09c3339",
   "metadata": {},
   "source": [
    "### Dataloader"
   ]
  },
  {
   "cell_type": "code",
   "execution_count": null,
   "id": "fd39b723",
   "metadata": {},
   "outputs": [],
   "source": [
    "dataset = EncoderTrainingDataset(csv_path)\n",
    "random.seed(0)\n",
    "train_indices = random.sample(range(len(dataset)), int(len(dataset) * 0.8))\n",
    "train_dataset = torch.utils.data.Subset(dataset,train_indices)\n",
    "valid_indicies = list(set(range(len(dataset))) - set(train_indices))\n",
    "valid_dataset = torch.utils.data.Subset(dataset, valid_indicies)\n",
    "train_dataloader = torch.utils.data.DataLoader(train_dataset, batch_size=batch_size, shuffle=True)\n",
    "valid_dataloader = torch.utils.data.DataLoader(valid_dataset, batch_size=batch_size, shuffle=False)"
   ]
  },
  {
   "cell_type": "markdown",
   "id": "5a7d8865",
   "metadata": {},
   "source": [
    "## Model"
   ]
  },
  {
   "cell_type": "code",
   "execution_count": null,
   "id": "70274e87",
   "metadata": {},
   "outputs": [],
   "source": [
    "class Encoder(torch.nn.Module):\n",
    "    def __init__(self):\n",
    "        super().__init__()\n",
    "        self.model = torch.nn.Sequential(\n",
    "            torch.nn.Linear(3, 64),\n",
    "            torch.nn.ReLU(),\n",
    "            torch.nn.Linear(64, 64),\n",
    "            torch.nn.ReLU(),\n",
    "            torch.nn.Linear(64, 64),\n",
    "            torch.nn.ReLU()\n",
    "        )\n",
    "    def forward(self, x):\n",
    "        return self.model(x)\n",
    "    \n",
    "class Decoder(torch.nn.Module):\n",
    "    def __init__(self):\n",
    "        super().__init__()\n",
    "        self.model = torch.nn.Sequential(\n",
    "            torch.nn.Linear(64, 64),\n",
    "            torch.nn.ReLU(),\n",
    "            torch.nn.Linear(64, 64),\n",
    "            torch.nn.ReLU(),\n",
    "            torch.nn.Linear(64, 3),\n",
    "            torch.nn.ReLU()\n",
    "        )\n",
    "    def forward(self, x):\n",
    "        return self.model(x)\n",
    "\n",
    "#combine encoder and decoder into autoencoder\n",
    "class Autoencoder(torch.nn.Module):\n",
    "    def __init__(self):\n",
    "        super().__init__()\n",
    "        self.encoder = Encoder()\n",
    "        self.decoder = Decoder()\n",
    "    def forward(self, x):\n",
    "        encoded = self.encoder(x)\n",
    "        decoded = self.decoder(encoded)\n",
    "        return decoded"
   ]
  },
  {
   "cell_type": "code",
   "execution_count": null,
   "id": "05d09e96",
   "metadata": {},
   "outputs": [],
   "source": [
    "model = Autoencoder().to(device) #move model to gpu\n",
    "optimizer = torch.optim.Adam(model.parameters(), lr=learning_rate)"
   ]
  },
  {
   "cell_type": "code",
   "execution_count": null,
   "id": "de2db538",
   "metadata": {},
   "outputs": [],
   "source": [
    "def train():\n",
    "  try:\n",
    "    if es_patience >= 0:\n",
    "      best_model_wts = copy.deepcopy(model.state_dict())\n",
    "      best_loss = float('inf')\n",
    "      es_no_improvement = 0\n",
    "    #iterate over epochs\n",
    "    for epoch in range(num_epochs):\n",
    "      print(f'\\n\\033[1m\\033[94mEpoch {epoch}/{num_epochs}\\033[0m\\033[0m')\n",
    "      \n",
    "      # training\n",
    "      print('\\033[92mTraining...\\033[0m')\n",
    "      model.train() # enable gradient calculation\n",
    "      epoch_train_loss = []\n",
    "      for x in tqdm(train_dataloader): #iterate over batches\n",
    "        x = x.to(device) #send data to gpu\n",
    "        optimizer.zero_grad() #reseting gradients before each batch\n",
    "        y = model(x) #forwardpropagation\n",
    "        loss = torch.nn.functional.mse_loss(y, x).to(device)\n",
    "        loss.backward() #backpropagation to calculate gradients\n",
    "        epoch_train_loss.append(loss.item())\n",
    "        optimizer.step() #apply gradients to update weights\n",
    "\n",
    "      epoch_train_loss = np.mean(epoch_train_loss)\n",
    "      wandb.log({f\"train/loss\": epoch_train_loss})\n",
    "      print(f\"train/loss: {epoch_train_loss}\")\n",
    "      \n",
    "      # validating\n",
    "      print('\\033[92mValidating...\\033[0m')\n",
    "      model.eval()\n",
    "      epoch_valid_loss = []\n",
    "      #iterate over batches\n",
    "      for x in tqdm(valid_dataloader):\n",
    "        x = x.to(device)\n",
    "        y = model(x)\n",
    "        loss = torch.nn.functional.mse_loss(y, x).to(device)\n",
    "        epoch_valid_loss.append(loss.item())\n",
    "        \n",
    "      epoch_valid_loss = np.mean(epoch_valid_loss)\n",
    "      wandb.log({f\"valid/loss\": epoch_valid_loss})\n",
    "      print(f\"valid/loss: {epoch_valid_loss}\")\n",
    "      \n",
    "      if es_patience >= 0:\n",
    "        es_delta = best_loss - epoch_valid_loss\n",
    "        if es_delta > es_min_delta:\n",
    "          es_no_improvement = 0\n",
    "          print(f\"Validation loss improved by {es_delta}. Saving best model.\")\n",
    "          best_loss = epoch_valid_loss\n",
    "          best_model_wts = copy.deepcopy(model.state_dict())\n",
    "          torch.save(best_model_wts,best_weights_path)\n",
    "        else:\n",
    "          es_no_improvement += 1\n",
    "          print(f\"No loss improvement since {es_no_improvement}/{es_patience} epochs.\")\n",
    "        if es_no_improvement > es_patience:\n",
    "          break\n",
    "\n",
    "  except KeyboardInterrupt:\n",
    "    print(\"Keyboard Interrupt\")\n",
    "  except BaseException as err:\n",
    "    raise\n",
    "  finally:\n",
    "    if es_patience >= 0:\n",
    "      print('Best rmse_valid: {:4f}'.format(best_loss))\n",
    "      model.load_state_dict(best_model_wts)\n",
    "  return model"
   ]
  },
  {
   "cell_type": "code",
   "execution_count": null,
   "id": "a7be8c1a",
   "metadata": {},
   "outputs": [],
   "source": [
    "# Example wandb configuration. All experiments results are available at https://wandb.ai/rszostak/grace-pl\n",
    "wandb.init(project=\"grace-pl\", entity=\"rszostak\", anonymous=\"must\")\n",
    "wandb.config = {\n",
    "  \"learning_rate\": learning_rate,\n",
    "  \"batch_size\": batch_size,\n",
    "  \"es_patience\": es_patience,\n",
    "  \"es_min_delta\": es_min_delta,\n",
    "  \"num_epochs\": num_epochs,\n",
    "  }\n",
    "\n",
    "try:\n",
    "  train()\n",
    "finally:\n",
    "  wandb.finish()"
   ]
  }
 ],
 "metadata": {
  "kernelspec": {
   "display_name": "Python 3.9.2 64-bit",
   "language": "python",
   "name": "python3"
  },
  "language_info": {
   "codemirror_mode": {
    "name": "ipython",
    "version": 3
   },
   "file_extension": ".py",
   "mimetype": "text/x-python",
   "name": "python",
   "nbconvert_exporter": "python",
   "pygments_lexer": "ipython3",
   "version": "3.9.2"
  },
  "vscode": {
   "interpreter": {
    "hash": "31f2aee4e71d21fbe5cf8b01ff0e069b9275f58929596ceb00d14d90e3e16cd6"
   }
  }
 },
 "nbformat": 4,
 "nbformat_minor": 5
}
