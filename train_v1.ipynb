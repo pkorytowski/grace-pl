{
 "cells": [
  {
   "cell_type": "code",
   "execution_count": 1,
   "id": "056e29ce-356d-4c7a-9660-959071839ccb",
   "metadata": {},
   "outputs": [],
   "source": [
    "import pandas as pd\n",
    "import numpy as np\n",
    "import torch\n",
    "from torch.utils.data import Dataset, DataLoader\n",
    "from sklearn.metrics import mean_squared_error, r2_score, mean_absolute_error\n",
    "\n"
   ]
  },
  {
   "cell_type": "code",
   "execution_count": 2,
   "id": "3c227f68-1191-4dbb-919b-921fd88a3646",
   "metadata": {},
   "outputs": [
    {
     "name": "stdout",
     "output_type": "stream",
     "text": [
      "<class 'pandas.core.frame.DataFrame'>\n"
     ]
    }
   ],
   "source": [
    "data = pd.read_pickle(\"data/ready_dataset.pickle\")\n",
    "print(type(data))\n",
    "test_data = data.iloc[:40]\n",
    "train_data = data.iloc[40:]"
   ]
  },
  {
   "cell_type": "code",
   "execution_count": 3,
   "id": "f58f320a-b42f-4935-beef-1a0c81e61af7",
   "metadata": {},
   "outputs": [],
   "source": [
    "class MyDataset(Dataset):\n",
    "    def __init__(self, data):\n",
    "        self.data = data\n",
    "\n",
    "    def __len__(self):\n",
    "        return len(self.data)\n",
    "\n",
    "    def __getitem__(self, idx):\n",
    "        x = torch.tensor(np.stack(data.loc[idx, data.columns != \"target_value\"].values, axis=0), dtype=torch.float32)       \n",
    "        y = torch.tensor(np.array(data.iloc[idx][\"target_value\"], dtype=np.float32), dtype=torch.float32)\n",
    "        return x, y\n"
   ]
  },
  {
   "cell_type": "code",
   "execution_count": 4,
   "id": "01e362c7-5a5c-4613-9732-dedb2b9aa2d6",
   "metadata": {},
   "outputs": [],
   "source": [
    "my_dataset = MyDataset(train_data)"
   ]
  },
  {
   "cell_type": "code",
   "execution_count": 5,
   "id": "f2209436-5826-4e39-8937-e0625fb23d23",
   "metadata": {},
   "outputs": [
    {
     "data": {
      "text/plain": [
       "(tensor([[-2.7116e-04, -2.7116e-04, -2.3580e-04,  ..., -2.1271e-04,\n",
       "          -2.3671e-04, -2.3671e-04],\n",
       "         [ 0.0000e+00,  0.0000e+00,  0.0000e+00,  ...,  0.0000e+00,\n",
       "           1.0000e+00,  1.0000e+00],\n",
       "         [ 2.5207e-01,  2.5207e-01,  2.5038e-01,  ...,  3.4124e-01,\n",
       "           2.6794e-01,  2.6794e-01],\n",
       "         ...,\n",
       "         [ 0.0000e+00,  1.0000e+00,  1.0000e+00,  ...,  1.0000e+00,\n",
       "           1.0000e+00,  1.0000e+00],\n",
       "         [ 0.0000e+00,  1.0000e+00,  1.0000e+00,  ...,  1.0000e+00,\n",
       "           1.0000e+00,  1.0000e+00],\n",
       "         [-1.0000e+07,  0.0000e+00,  0.0000e+00,  ...,  0.0000e+00,\n",
       "           0.0000e+00,  0.0000e+00]]),\n",
       " tensor([31.9400,  0.0000,  0.0000,  0.0000,  0.0000,  0.0000,  0.0000,  0.0000,\n",
       "          0.0000,  0.0000,  0.0000,  0.0000,  0.0000,  0.0000,  0.0000,  0.0000,\n",
       "          0.0000,  0.0000,  0.0000,  0.0000,  0.0000,  0.0000,  0.0000,  0.0000,\n",
       "          0.0000,  0.0000,  0.0000,  0.0000,  0.0000,  0.0000,  0.0000,  0.0000,\n",
       "          0.0000,  0.0000,  0.0000,  0.0000,  0.0000,  0.0000,  0.0000,  0.0000,\n",
       "          0.0000,  0.0000,  0.0000,  0.0000,  0.0000,  0.0000,  0.0000,  0.0000,\n",
       "          0.0000,  0.0000,  0.0000,  0.0000,  0.0000,  0.0000,  0.0000,  0.0000,\n",
       "          0.0000,  0.0000,  0.0000,  0.0000,  0.0000,  0.0000,  0.0000,  0.0000,\n",
       "          0.0000,  0.0000,  0.0000,  0.0000,  0.0000,  0.0000,  0.0000,  0.0000,\n",
       "          0.0000,  0.0000,  0.0000,  0.0000,  0.0000,  0.0000,  0.0000,  0.0000,\n",
       "          0.0000,  0.0000,  0.0000,  0.0000,  0.0000,  0.0000,  0.0000,  0.0000,\n",
       "          0.0000,  0.0000,  0.0000,  0.0000,  0.0000,  0.0000,  0.0000,  0.0000,\n",
       "          0.0000,  0.0000,  0.0000,  0.0000,  0.0000,  0.0000,  0.0000,  0.0000]))"
      ]
     },
     "execution_count": 5,
     "metadata": {},
     "output_type": "execute_result"
    }
   ],
   "source": [
    "my_dataset.__getitem__(0)"
   ]
  },
  {
   "cell_type": "code",
   "execution_count": 42,
   "id": "3c554827-e62f-43cd-b539-104ccfde3e44",
   "metadata": {},
   "outputs": [],
   "source": [
    "\n",
    "class MyLSTM(torch.nn.Module):\n",
    "    def __init__(self, input_size, hidden_size, output_size):\n",
    "        super(MyLSTM, self).__init__()\n",
    "        self.lstm = torch.nn.LSTM(input_size, hidden_size)\n",
    "        self.fc = torch.nn.Linear(hidden_size, output_size)\n",
    "\n",
    "    def forward(self, x):\n",
    "        x, _ = self.lstm(x)\n",
    "        x = self.fc(x[:, -1, :])\n",
    "        return x\n",
    "\n",
    "\n",
    "# konwersja danych na tensor i załadowanie do DataLoader\n",
    "\n",
    "\n",
    "def collate_fn(batch):\n",
    "    x = [item[0] for item in batch]\n",
    "    y = [item[1] for item in batch]\n",
    "    x = torch.nn.utils.rnn.pad_sequence(x, batch_first=True)\n",
    "    y = torch.stack(y)\n",
    "    return x, y\n",
    "\n",
    "def collate_fn_lstm(batch):\n",
    "    \"\"\"\n",
    "    Funkcja collate dla sekwencji wejściowych dla sieci LSTM.\n",
    "    \"\"\"\n",
    "    # Sortujemy batch względem długości sekwencji wejściowych\n",
    "    batch = sorted(batch, key=lambda x: x[0].shape[0], reverse=True)\n",
    "    \n",
    "    # Tworzymy mini-batche z wyrównaniem długości sekwencji wejściowych\n",
    "    inputs = [torch.FloatTensor(item[0]) for item in batch]\n",
    "    inputs = torch.nn.utils.rnn.pad_sequence(inputs, batch_first=True)\n",
    "    # Tworzymy mini-batche z etykietami\n",
    "    targets = [torch.FloatTensor(item[1]) for item in batch]\n",
    "    targets = torch.nn.utils.rnn.pad_sequence(targets, batch_first=True)\n",
    "    \n",
    "    return inputs, targets\n",
    "\n",
    "\n",
    "batch_size = 4\n",
    "my_dataloader = DataLoader(my_dataset, batch_size=batch_size, shuffle=True, collate_fn=collate_fn_lstm)\n",
    "\n",
    "# inicjalizacja modelu i uruchomienie treningu\n",
    "model = MyLSTM(input_size=104, hidden_size=16, output_size=104)\n",
    "criterion = torch.nn.MSELoss()\n",
    "optimizer = torch.optim.Adam(model.parameters(), lr=0.001)\n",
    "\n",
    "for epoch in range(1000):\n",
    "    for batch_x, batch_y in my_dataloader:\n",
    "        optimizer.zero_grad()\n",
    "        y_pred = model(batch_x)\n",
    "        loss = criterion(y_pred, batch_y)\n",
    "        loss.backward()\n",
    "        optimizer.step()"
   ]
  },
  {
   "cell_type": "code",
   "execution_count": 43,
   "id": "b6ce3514-fa32-4c51-8c8d-ac31d554ea1a",
   "metadata": {},
   "outputs": [],
   "source": [
    "test_dataset = MyDataset(test_data)"
   ]
  },
  {
   "cell_type": "code",
   "execution_count": null,
   "id": "54ed4943-0fc3-4b97-aa2b-cacb0456813d",
   "metadata": {},
   "outputs": [],
   "source": []
  },
  {
   "cell_type": "code",
   "execution_count": 52,
   "id": "b7906015-b20a-429b-bf81-e6c8d3e9ad8b",
   "metadata": {},
   "outputs": [
    {
     "name": "stdout",
     "output_type": "stream",
     "text": [
      "MSE: 0.1293\n",
      "R^2: -7.7303\n",
      "MAE: 0.0069\n",
      "[31.785707473754883, -0.0008731884299777448, -9.0229426859878e-05, -0.0006052218959666789, -0.0010004419600591063, -0.0004416684969328344, 8.274368155980483e-05, -0.00019567205163184553, 0.0008994225645437837, -0.0005972381331957877, 0.0005493167554959655, -0.0010852625127881765, -0.0003815979871433228, -0.0003458455321379006, 0.0006906923372298479, -0.0012409038608893752, 0.0001335963752353564, -0.0001361480390187353, 0.0008032976766116917, -0.00013300523278303444, -0.000337424804456532, 0.00041309872176498175, 0.0007904527010396123, 0.0006842159782536328, -0.0007170976605266333, -0.0009840712882578373, -0.0003008514759130776, 0.001147774513810873, -0.0015518374275416136, 4.0720246033743024e-05, 0.0009592900169081986, 0.000558712228666991, -0.0008080498082563281, -0.0007261523278430104, 0.00012980740575585514, -0.000947465596254915, -0.0008084133733063936, -0.0007796541904099286, -0.0007858152384869754, 0.0006653349264524877, 0.001420430839061737, 9.34222771320492e-05, 0.0002881703258026391, 0.0003591124841477722, -0.0009301911341026425, 0.00010796715650940314, 9.44557978073135e-05, -0.0006902674213051796, 0.0012161408085376024, 0.001399412052705884, -0.0004737282288260758, -0.00012088591029169038, -0.00024359204689972103, 0.00012866051110904664, -0.0005288328975439072, -0.00020066136494278908, -0.0003314752539154142, -0.000677574600558728, 0.0010688032489269972, -0.0005282111815176904, 0.0004882324137724936, 0.00112860556691885, -0.0006609386182390153, -3.183110311510973e-05, 0.00020125838636886328, 4.124383121961728e-05, -0.0005599843570962548, -1.1435375199653208e-05, 5.405518095358275e-05, -0.0001468990813009441, 0.000239913584664464, 0.0005512226489372551, 0.00017728048260323703, 0.0006769516039639711, -0.0005243982304818928, -4.654310396290384e-05, 0.0006218491471372545, 0.000460336625110358, 0.0007338091381825507, -0.0004865864757448435, -0.0007727074553258717, -0.0006244772230274975, 0.0005412084865383804, -0.001218718709424138, 0.0014897682704031467, -0.0013132451567798853, -0.0008462797268293798, 0.0010773652466014028, -0.0004315924015827477, -0.0007722299778833985, 0.0003809941408690065, -0.0008054894278757274, 0.0004491795552894473, -0.0001541754463687539, 0.0007228216854855418, -0.0008254987187683582, -0.001035492168739438, 0.0002817453059833497, -8.83653701748699e-05, -0.0008076810045167804, 0.0007516610203310847, 0.0006703906692564487, -0.0009396632667630911, 0.0005899333627894521] [31.81999969482422, 0.0, 0.0, 0.0, 0.0, 0.0, 0.0, 0.0, 0.0, 0.0, 0.0, 0.0, 0.0, 0.0, 0.0, 0.0, 0.0, 0.0, 0.0, 0.0, 0.0, 0.0, 0.0, 0.0, 0.0, 0.0, 0.0, 0.0, 0.0, 0.0, 0.0, 0.0, 0.0, 0.0, 0.0, 0.0, 0.0, 0.0, 0.0, 0.0, 0.0, 0.0, 0.0, 0.0, 0.0, 0.0, 0.0, 0.0, 0.0, 0.0, 0.0, 0.0, 0.0, 0.0, 0.0, 0.0, 0.0, 0.0, 0.0, 0.0, 0.0, 0.0, 0.0, 0.0, 0.0, 0.0, 0.0, 0.0, 0.0, 0.0, 0.0, 0.0, 0.0, 0.0, 0.0, 0.0, 0.0, 0.0, 0.0, 0.0, 0.0, 0.0, 0.0, 0.0, 0.0, 0.0, 0.0, 0.0, 0.0, 0.0, 0.0, 0.0, 0.0, 0.0, 0.0, 0.0, 0.0, 0.0, 0.0, 0.0, 0.0, 0.0, 0.0, 0.0]\n"
     ]
    }
   ],
   "source": [
    "test_dataloader = DataLoader(test_dataset, batch_size=4, shuffle=False)\n",
    "\n",
    "y_true = []\n",
    "y_pred = []\n",
    "model.eval()\n",
    "with torch.no_grad():\n",
    "    for batch_x, batch_y in test_dataloader:\n",
    "        #print(model(batch_x))\n",
    "        y_true += batch_y.tolist()\n",
    "        y_pred += model(batch_x).tolist()\n",
    "\n",
    "mse = mean_squared_error(y_true, y_pred)\n",
    "r2 = r2_score(y_true, y_pred)\n",
    "mae = mean_absolute_error(y_true, y_pred)\n",
    "\n",
    "print(f\"MSE: {mse:.4f}\")\n",
    "print(f\"R^2: {r2:.4f}\")\n",
    "print(f\"MAE: {mae:.4f}\")\n",
    "print(y_pred[3], y_true[3])"
   ]
  },
  {
   "cell_type": "code",
   "execution_count": null,
   "id": "d5556a13-ede0-42c7-aa81-8b4d70c701be",
   "metadata": {},
   "outputs": [],
   "source": []
  },
  {
   "cell_type": "code",
   "execution_count": null,
   "id": "1d0b455b-cb2e-46fd-a1d7-e0b743239680",
   "metadata": {},
   "outputs": [],
   "source": []
  }
 ],
 "metadata": {
  "kernelspec": {
   "display_name": "Python 3 (ipykernel)",
   "language": "python",
   "name": "python3"
  },
  "language_info": {
   "codemirror_mode": {
    "name": "ipython",
    "version": 3
   },
   "file_extension": ".py",
   "mimetype": "text/x-python",
   "name": "python",
   "nbconvert_exporter": "python",
   "pygments_lexer": "ipython3",
   "version": "3.9.2"
  }
 },
 "nbformat": 4,
 "nbformat_minor": 5
}
