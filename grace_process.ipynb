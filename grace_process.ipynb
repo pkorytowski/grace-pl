{
 "cells": [
  {
   "cell_type": "code",
   "execution_count": 1,
   "id": "35eac349-155f-49fb-939a-0232e1c9c347",
   "metadata": {},
   "outputs": [],
   "source": [
    "import rioxarray\n",
    "import geopandas\n",
    "import leafmap\n",
    "import os"
   ]
  },
  {
   "cell_type": "code",
   "execution_count": 2,
   "id": "3a3ee1cb-5454-4a17-bc80-f549d732994a",
   "metadata": {},
   "outputs": [],
   "source": [
    "out_dir = \"data/gitignored/grace_tiff\"\n",
    "os.makedirs(out_dir, exist_ok=True)\n",
    "geodf = geopandas.read_file(\"data/poland.geojson\")\n",
    "nc = rioxarray.open_rasterio(\"data/GRCTellus.JPL.200204_202202.GLO.RL06M.MSCNv02CRI.nc\")[0]\n",
    "nc = nc.rio.write_crs(\"EPSG:4326\")\n",
    "for lwe in nc[\"lwe_thickness\"]:\n",
    "    lwe = lwe.rio.clip(geodf.geometry.values, geodf.crs, all_touched=True)\n",
    "    lwe = lwe.where(lwe>=0)\n",
    "    lwe = lwe.rio.write_crs(\"EPSG:4326\")\n",
    "    file_name = lwe.time.item().strftime(\"%Y%m%d\")+\".tiff\"\n",
    "    lwe.rio.to_raster(f\"{out_dir}/{file_name}\")\n"
   ]
  }
 ],
 "metadata": {
  "interpreter": {
   "hash": "d260da6892b0f02d4ad61dbe81b3be149550c4dd4aabc0a259f847e61c354b85"
  },
  "kernelspec": {
   "display_name": "Python 3 (ipykernel)",
   "language": "python",
   "name": "python3"
  },
  "language_info": {
   "codemirror_mode": {
    "name": "ipython",
    "version": 3
   },
   "file_extension": ".py",
   "mimetype": "text/x-python",
   "name": "python",
   "nbconvert_exporter": "python",
   "pygments_lexer": "ipython3",
   "version": "3.10.4"
  }
 },
 "nbformat": 4,
 "nbformat_minor": 5
}
