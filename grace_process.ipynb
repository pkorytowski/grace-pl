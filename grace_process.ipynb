{
 "cells": [
  {
   "cell_type": "code",
   "execution_count": 14,
   "id": "35eac349-155f-49fb-939a-0232e1c9c347",
   "metadata": {
    "tags": []
   },
   "outputs": [],
   "source": [
    "import rioxarray\n",
    "import geopandas\n",
    "import os\n",
    "import datetime\n",
    "import pandas as pd\n",
    "import numpy as np\n",
    "from tqdm import tqdm"
   ]
  },
  {
   "cell_type": "code",
   "execution_count": 15,
   "id": "3a3ee1cb-5454-4a17-bc80-f549d732994a",
   "metadata": {
    "tags": []
   },
   "outputs": [],
   "source": [
    "out_dir = \"data/_grace_tiff\"\n",
    "os.makedirs(out_dir, exist_ok=True)\n",
    "geodf = geopandas.read_file(\"data/aoi.geojson\")\n",
    "nc = rioxarray.open_rasterio(\"data/GRCTellus.JPL.200204_202202.GLO.RL06M.MSCNv02CRI.nc\", decode_times=False)[0]\n",
    "grace_start_date = datetime.datetime(2002, 1, 1)"
   ]
  },
  {
   "cell_type": "code",
   "execution_count": 20,
   "id": "d2a26f73",
   "metadata": {
    "tags": []
   },
   "outputs": [
    {
     "name": "stdout",
     "output_type": "stream",
     "text": [
      "Extracting tifs...\n"
     ]
    },
    {
     "name": "stderr",
     "output_type": "stream",
     "text": [
      "100%|██████████| 206/206 [00:03<00:00, 60.40it/s]\n"
     ]
    }
   ],
   "source": [
    "nc = nc.rio.write_crs(\"EPSG:4326\")\n",
    "print(\"Extracting tifs...\")\n",
    "df = pd.DataFrame(columns = [\"date\", \"value\"])\n",
    "for lwe in tqdm(nc[\"lwe_thickness\"]):\n",
    "    lwe = lwe.rio.clip(geodf.geometry.values, geodf.crs, all_touched=True)\n",
    "    lwe = lwe.rio.write_crs(\"EPSG:4326\")\n",
    "    upscale_factor = 16\n",
    "    new_width = lwe.rio.width * upscale_factor\n",
    "    new_height = lwe.rio.height * upscale_factor\n",
    "\n",
    "    lwe_upsampled = lwe.rio.reproject(\n",
    "        lwe.rio.crs,\n",
    "        shape=(new_height, new_width),\n",
    "    )\n",
    "    lwe_upsampled\n",
    "    lwe_datetime = grace_start_date + datetime.timedelta(days=int(lwe.time.values))\n",
    "    lwe_upsampled.values[lwe_upsampled.values < -99990] = np.nan\n",
    "    mean = lwe_upsampled.mean(skipna=True)\n",
    "    masked = lwe.to_masked_array()\n",
    "    df = df.append({'date': lwe_datetime.strftime('%Y-%m') + \"-01\", 'value': masked.data}, ignore_index=True)"
   ]
  },
  {
   "cell_type": "code",
   "execution_count": 21,
   "id": "c59b24c6",
   "metadata": {},
   "outputs": [
    {
     "data": {
      "text/html": [
       "<div>\n",
       "<style scoped>\n",
       "    .dataframe tbody tr th:only-of-type {\n",
       "        vertical-align: middle;\n",
       "    }\n",
       "\n",
       "    .dataframe tbody tr th {\n",
       "        vertical-align: top;\n",
       "    }\n",
       "\n",
       "    .dataframe thead th {\n",
       "        text-align: right;\n",
       "    }\n",
       "</style>\n",
       "<table border=\"1\" class=\"dataframe\">\n",
       "  <thead>\n",
       "    <tr style=\"text-align: right;\">\n",
       "      <th></th>\n",
       "      <th>date</th>\n",
       "      <th>value</th>\n",
       "    </tr>\n",
       "  </thead>\n",
       "  <tbody>\n",
       "    <tr>\n",
       "      <th>0</th>\n",
       "      <td>2002-04-01</td>\n",
       "      <td>[[-99999.0, 6.828635107805798, 3.1278647095598...</td>\n",
       "    </tr>\n",
       "    <tr>\n",
       "      <th>1</th>\n",
       "      <td>2002-05-01</td>\n",
       "      <td>[[-99999.0, 4.69056193508014, 2.14384610714305...</td>\n",
       "    </tr>\n",
       "    <tr>\n",
       "      <th>2</th>\n",
       "      <td>2002-08-01</td>\n",
       "      <td>[[-99999.0, 1.9737695250682254, -1.03765383641...</td>\n",
       "    </tr>\n",
       "    <tr>\n",
       "      <th>3</th>\n",
       "      <td>2002-09-01</td>\n",
       "      <td>[[-99999.0, 0.18124379122407497, -3.1504822856...</td>\n",
       "    </tr>\n",
       "    <tr>\n",
       "      <th>4</th>\n",
       "      <td>2002-10-01</td>\n",
       "      <td>[[-99999.0, 0.4888633431839067, -3.44842383830...</td>\n",
       "    </tr>\n",
       "    <tr>\n",
       "      <th>...</th>\n",
       "      <td>...</td>\n",
       "      <td>...</td>\n",
       "    </tr>\n",
       "    <tr>\n",
       "      <th>201</th>\n",
       "      <td>2021-10-01</td>\n",
       "      <td>[[-99999.0, -8.133473995626613, -14.5749380667...</td>\n",
       "    </tr>\n",
       "    <tr>\n",
       "      <th>202</th>\n",
       "      <td>2021-11-01</td>\n",
       "      <td>[[-99999.0, -6.908211127148264, -13.0303585656...</td>\n",
       "    </tr>\n",
       "    <tr>\n",
       "      <th>203</th>\n",
       "      <td>2021-12-01</td>\n",
       "      <td>[[-99999.0, -4.684630748573696, -8.77763886511...</td>\n",
       "    </tr>\n",
       "    <tr>\n",
       "      <th>204</th>\n",
       "      <td>2022-01-01</td>\n",
       "      <td>[[-99999.0, -2.104737686864083, -6.90364717749...</td>\n",
       "    </tr>\n",
       "    <tr>\n",
       "      <th>205</th>\n",
       "      <td>2022-02-01</td>\n",
       "      <td>[[-99999.0, -1.5027519259233353, -4.0568587413...</td>\n",
       "    </tr>\n",
       "  </tbody>\n",
       "</table>\n",
       "<p>206 rows × 2 columns</p>\n",
       "</div>"
      ],
      "text/plain": [
       "           date                                              value\n",
       "0    2002-04-01  [[-99999.0, 6.828635107805798, 3.1278647095598...\n",
       "1    2002-05-01  [[-99999.0, 4.69056193508014, 2.14384610714305...\n",
       "2    2002-08-01  [[-99999.0, 1.9737695250682254, -1.03765383641...\n",
       "3    2002-09-01  [[-99999.0, 0.18124379122407497, -3.1504822856...\n",
       "4    2002-10-01  [[-99999.0, 0.4888633431839067, -3.44842383830...\n",
       "..          ...                                                ...\n",
       "201  2021-10-01  [[-99999.0, -8.133473995626613, -14.5749380667...\n",
       "202  2021-11-01  [[-99999.0, -6.908211127148264, -13.0303585656...\n",
       "203  2021-12-01  [[-99999.0, -4.684630748573696, -8.77763886511...\n",
       "204  2022-01-01  [[-99999.0, -2.104737686864083, -6.90364717749...\n",
       "205  2022-02-01  [[-99999.0, -1.5027519259233353, -4.0568587413...\n",
       "\n",
       "[206 rows x 2 columns]"
      ]
     },
     "execution_count": 21,
     "metadata": {},
     "output_type": "execute_result"
    }
   ],
   "source": [
    "df"
   ]
  },
  {
   "cell_type": "code",
   "execution_count": 22,
   "id": "459770a2-29c3-481d-85f5-afb581bea84a",
   "metadata": {},
   "outputs": [],
   "source": [
    "df.loc[df[\"date\"] == \"2012-01-01\"]\n",
    "df.iloc[111][\"date\"] = \"2011-12-01\"\n",
    "df.iloc[144][\"date\"] = \"2015-05-01\"\n",
    "df.to_pickle(\"data/grace_df.pickle\")"
   ]
  }
 ],
 "metadata": {
  "kernelspec": {
   "display_name": "Python 3 (ipykernel)",
   "language": "python",
   "name": "python3"
  },
  "language_info": {
   "codemirror_mode": {
    "name": "ipython",
    "version": 3
   },
   "file_extension": ".py",
   "mimetype": "text/x-python",
   "name": "python",
   "nbconvert_exporter": "python",
   "pygments_lexer": "ipython3",
   "version": "3.10.5"
  },
  "vscode": {
   "interpreter": {
    "hash": "31f2aee4e71d21fbe5cf8b01ff0e069b9275f58929596ceb00d14d90e3e16cd6"
   }
  }
 },
 "nbformat": 4,
 "nbformat_minor": 5
}
