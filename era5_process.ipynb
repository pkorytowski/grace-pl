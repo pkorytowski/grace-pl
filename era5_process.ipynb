{
 "cells": [
  {
   "cell_type": "code",
   "execution_count": 13,
   "id": "a280adeb-8a49-4c56-96a8-b78cbb830991",
   "metadata": {},
   "outputs": [],
   "source": [
    "import rioxarray\n",
    "import geopandas\n",
    "import leafmap\n",
    "import os\n",
    "import datetime\n",
    "#from osgeo import gdal\n",
    "from tqdm import tqdm\n",
    "#import cdsapi\n",
    "import xarray as xr\n",
    "import numpy as np\n",
    "import matplotlib.pyplot as plt\n",
    "import datetime\n",
    "import rasterio\n",
    "import pandas as pd"
   ]
  },
  {
   "cell_type": "code",
   "execution_count": 14,
   "id": "42e88bd7-492e-471d-a02e-edffe90e17be",
   "metadata": {},
   "outputs": [],
   "source": [
    "grib_file = \"era_5_evap_soil_moist.grib\"\n",
    "dest_file = \"data/era_5_evap_soil_tiff/\" + \"era_5_evap_soil_moist.tiff\"\n",
    "dest_dir = \"data/era_5_evap_soil_tiff\""
   ]
  },
  {
   "cell_type": "code",
   "execution_count": 15,
   "id": "a362aa18-4200-416c-9dea-62a2800a25e5",
   "metadata": {},
   "outputs": [
    {
     "ename": "NameError",
     "evalue": "name 'cdsapi' is not defined",
     "output_type": "error",
     "traceback": [
      "\u001b[0;31m---------------------------------------------------------------------------\u001b[0m",
      "\u001b[0;31mNameError\u001b[0m                                 Traceback (most recent call last)",
      "\u001b[1;32m/Users/pawel/AGH/Master/grace-pl/era5_process.ipynb Cell 3\u001b[0m in \u001b[0;36m<cell line: 1>\u001b[0;34m()\u001b[0m\n\u001b[0;32m----> <a href='vscode-notebook-cell:/Users/pawel/AGH/Master/grace-pl/era5_process.ipynb#W2sZmlsZQ%3D%3D?line=0'>1</a>\u001b[0m c \u001b[39m=\u001b[39m cdsapi\u001b[39m.\u001b[39mClient()\n\u001b[1;32m      <a href='vscode-notebook-cell:/Users/pawel/AGH/Master/grace-pl/era5_process.ipynb#W2sZmlsZQ%3D%3D?line=2'>3</a>\u001b[0m c\u001b[39m.\u001b[39mretrieve(\n\u001b[1;32m      <a href='vscode-notebook-cell:/Users/pawel/AGH/Master/grace-pl/era5_process.ipynb#W2sZmlsZQ%3D%3D?line=3'>4</a>\u001b[0m     \u001b[39m'\u001b[39m\u001b[39mreanalysis-era5-single-levels-monthly-means\u001b[39m\u001b[39m'\u001b[39m,\n\u001b[1;32m      <a href='vscode-notebook-cell:/Users/pawel/AGH/Master/grace-pl/era5_process.ipynb#W2sZmlsZQ%3D%3D?line=4'>5</a>\u001b[0m     {\n\u001b[0;32m   (...)\u001b[0m\n\u001b[1;32m     <a href='vscode-notebook-cell:/Users/pawel/AGH/Master/grace-pl/era5_process.ipynb#W2sZmlsZQ%3D%3D?line=32'>33</a>\u001b[0m     \n\u001b[1;32m     <a href='vscode-notebook-cell:/Users/pawel/AGH/Master/grace-pl/era5_process.ipynb#W2sZmlsZQ%3D%3D?line=33'>34</a>\u001b[0m     grib_file)\n",
      "\u001b[0;31mNameError\u001b[0m: name 'cdsapi' is not defined"
     ]
    }
   ],
   "source": [
    "\n",
    "c = cdsapi.Client()\n",
    "\n",
    "c.retrieve(\n",
    "    'reanalysis-era5-single-levels-monthly-means',\n",
    "    {\n",
    "        'format': 'grib',\n",
    "        'variable': [\n",
    "            'evaporation', 'volumetric_soil_water_layer_1', 'volumetric_soil_water_layer_2',\n",
    "            'volumetric_soil_water_layer_3', 'volumetric_soil_water_layer_4',\n",
    "        ],\n",
    "        'year': [\n",
    "            '2002', '2003', '2004',\n",
    "            '2005', '2006', '2007',\n",
    "            '2008', '2009', '2010',\n",
    "            '2011', '2012', '2013',\n",
    "            '2014', '2015', '2016',\n",
    "            '2017', '2018', '2019',\n",
    "            '2020', '2021', '2022',\n",
    "        ],\n",
    "        'month': [\n",
    "            '01', '02', '03',\n",
    "            '04', '05', '06',\n",
    "            '07', '08', '09',\n",
    "            '10', '11', '12',\n",
    "        ],\n",
    "        'area': [\n",
    "            51.17, 18.4, 50.47,\n",
    "            19.68,\n",
    "        ],\n",
    "        'product_type': 'monthly_averaged_reanalysis',\n",
    "        'time': '00:00',\n",
    "    },\n",
    "    \n",
    "    grib_file)"
   ]
  },
  {
   "cell_type": "code",
   "execution_count": null,
   "id": "719d83d6-41e0-4150-b78c-4faa3fe2aacb",
   "metadata": {},
   "outputs": [],
   "source": [
    "grib_f = \"data/\" + grib_file"
   ]
  },
  {
   "cell_type": "code",
   "execution_count": null,
   "id": "5f940c83-f355-4878-9528-6005fb04e3ee",
   "metadata": {},
   "outputs": [
    {
     "name": "stderr",
     "output_type": "stream",
     "text": [
      "Warning 1: data/era_5_evap_soil_tiff/era_5_evap_soil_moist.tiff: Metadata exceeding 32000 bytes cannot be written into GeoTIFF. Transferred to PAM instead.\n"
     ]
    }
   ],
   "source": [
    "src_ds = gdal.Open(grib_f)\n",
    "bands = [] # Set up array for gdal.Translate(). \n",
    "if src_ds is not None:\n",
    "    bandNum = src_ds.RasterCount # Get band count\n",
    "for i in range(bandNum+1): # Update array based on band count\n",
    "    if (i==0): #gdal starts band counts at 1, not 0 like the Python for loop does.\n",
    "        pass\n",
    "    else:\n",
    "        bands.append(i)\n",
    "\n",
    "# Open output format driver\n",
    "out_form= \"GTiff\"\n",
    "\n",
    "# Output to new format using gdal.Translate. See https://gdal.org/python/ for osgeo.gdal.Translate options.\n",
    "dst_ds = gdal.Translate(dest_file, src_ds, format=out_form, bandList=bands)\n",
    "\n",
    "# Properly close the datasets to flush to disk\n",
    "dst_ds = None\n",
    "src_ds = None"
   ]
  },
  {
   "cell_type": "code",
   "execution_count": null,
   "id": "90d82db7-d1ac-4941-8ea4-e300e1172bf3",
   "metadata": {},
   "outputs": [],
   "source": [
    "src_ds = gdal.Open(grib_f)"
   ]
  },
  {
   "cell_type": "code",
   "execution_count": null,
   "id": "93891f58-51f3-44ee-bece-426c9d26bcf5",
   "metadata": {},
   "outputs": [],
   "source": [
    "ds = gdal.Open(grib_f)"
   ]
  },
  {
   "cell_type": "code",
   "execution_count": null,
   "id": "0990f5ab-432d-4605-a205-b041aaa9dff6",
   "metadata": {},
   "outputs": [
    {
     "data": {
      "text/plain": [
       "{'GRIB_COMMENT': 'Volumetric soil water layer 4 [m^3/m^3]',\n",
       " 'GRIB_ELEMENT': 'SWVL4',\n",
       " 'GRIB_FORECAST_SECONDS': '0 sec',\n",
       " 'GRIB_REF_TIME': '  1009843200 sec UTC',\n",
       " 'GRIB_SHORT_NAME': '100-255-DBLY',\n",
       " 'GRIB_UNIT': '[m^3/m^3]',\n",
       " 'GRIB_VALID_TIME': '  1009843200 sec UTC'}"
      ]
     },
     "execution_count": 42,
     "metadata": {},
     "output_type": "execute_result"
    }
   ],
   "source": [
    "ds.GetRasterBand(5).GetMetadata()"
   ]
  },
  {
   "cell_type": "code",
   "execution_count": null,
   "id": "090b8f54-ad22-4387-9371-e308a1a6e3a9",
   "metadata": {},
   "outputs": [
    {
     "ename": "NameError",
     "evalue": "name 'src_ds' is not defined",
     "output_type": "error",
     "traceback": [
      "\u001b[0;31m---------------------------------------------------------------------------\u001b[0m",
      "\u001b[0;31mNameError\u001b[0m                                 Traceback (most recent call last)",
      "Cell \u001b[0;32mIn [4], line 1\u001b[0m\n\u001b[0;32m----> 1\u001b[0m rootGroup \u001b[38;5;241m=\u001b[39m \u001b[43msrc_ds\u001b[49m\u001b[38;5;241m.\u001b[39mGetRootGroup()\n\u001b[1;32m      2\u001b[0m rootGroup\n\u001b[1;32m      3\u001b[0m var \u001b[38;5;241m=\u001b[39m rootGroup\u001b[38;5;241m.\u001b[39mOpenMDArray(\u001b[38;5;124m\"\u001b[39m\u001b[38;5;124mEvaporation\u001b[39m\u001b[38;5;124m\"\u001b[39m)\n",
      "\u001b[0;31mNameError\u001b[0m: name 'src_ds' is not defined"
     ]
    }
   ],
   "source": [
    "rootGroup = src_ds.GetRootGroup()\n",
    "rootGroup\n",
    "var = rootGroup.OpenMDArray(\"Evaporation\")"
   ]
  },
  {
   "cell_type": "code",
   "execution_count": null,
   "id": "c957f9c4-b6b4-49ae-bd96-134968999d41",
   "metadata": {},
   "outputs": [
    {
     "data": {
      "text/plain": [
       "{'GRIB_COMMENT': 'Volumetric soil water layer 1 [m^3/m^3]',\n",
       " 'GRIB_ELEMENT': 'SWVL1',\n",
       " 'GRIB_FORECAST_SECONDS': '0 sec',\n",
       " 'GRIB_REF_TIME': '  1009843200 sec UTC',\n",
       " 'GRIB_SHORT_NAME': '0-7-DBLY',\n",
       " 'GRIB_UNIT': '[m^3/m^3]',\n",
       " 'GRIB_VALID_TIME': '  1009843200 sec UTC'}"
      ]
     },
     "execution_count": 25,
     "metadata": {},
     "output_type": "execute_result"
    }
   ],
   "source": [
    "rasterBand = ds.GetRasterBand(2)\n",
    "meta = rasterBand.GetMetadata()\n",
    "dt = datetime.datetime.fromtimestamp(int(meta['GRIB_VALID_TIME'].lstrip()[:-8]))\n",
    "dt\n",
    "meta"
   ]
  },
  {
   "cell_type": "code",
   "execution_count": null,
   "id": "52835621-8405-47ab-9d3b-11bb47f102d7",
   "metadata": {},
   "outputs": [],
   "source": [
    "def get_file_title(element):\n",
    "    if element.find(\"E\") != -1:\n",
    "        return \"evaporation/\" + element + \"_\"\n",
    "    if element.find(\"SWVL1\") != -1:\n",
    "        return \"vol_soil_lvl_1/\" + element + \"_\"\n",
    "    if element.find(\"SWVL2\") != -1:\n",
    "        return \"vol_soil_lvl_2/\" + element + \"_\"\n",
    "    if element.find(\"SWVL3\") != -1:\n",
    "        return \"vol_soil_lvl_3/\" + element + \"_\"\n",
    "    if element.find(\"SWVL4\") != -1:\n",
    "        return \"vol_soil_lvl_4/\" + element + \"_\""
   ]
  },
  {
   "cell_type": "code",
   "execution_count": null,
   "id": "6476c5a0-e47c-46d6-949e-41f32f7dfe5e",
   "metadata": {},
   "outputs": [],
   "source": [
    "def prepare_datetime(date):\n",
    "    if date.strftime(\"%d\") != \"01\":\n",
    "        date = date + datetime.timedelta(days=1)\n",
    "    return date.strftime(\"%Y-%m-%d\")"
   ]
  },
  {
   "cell_type": "code",
   "execution_count": null,
   "id": "cec5adb1-fd35-41ad-bae6-8ea71f28e7b6",
   "metadata": {},
   "outputs": [],
   "source": [
    "out_form= \"GTiff\"\n",
    "for i in range(1, ds.RasterCount+1):\n",
    "    rasterBand = ds.GetRasterBand(i)\n",
    "    meta = rasterBand.GetMetadata()\n",
    "    dt = prepare_datetime(datetime.datetime.fromtimestamp(int(meta['GRIB_VALID_TIME'].lstrip()[:-8])))\n",
    "    filename = get_file_title(meta['GRIB_ELEMENT']) + dt + \".tif\"\n",
    "    filename = os.path.join(dest_dir, filename)\n",
    "    dst_ds = gdal.Translate(filename, ds, format=out_form, bandList=[i])\n",
    "    dst_ds = None\n",
    "    "
   ]
  },
  {
   "cell_type": "code",
   "execution_count": null,
   "id": "af5df08c-744f-47fd-87b8-59955bb262cb",
   "metadata": {},
   "outputs": [],
   "source": [
    "f = \"evaporation/E_2002-01-01.tif\"\n",
    "f = os.path.join(dest_dir, f)"
   ]
  },
  {
   "cell_type": "code",
   "execution_count": null,
   "id": "ea2d5653-81ab-44fe-b595-d592b9df776a",
   "metadata": {},
   "outputs": [
    {
     "ename": "RasterioIOError",
     "evalue": "E_2004-08-01.tif: No such file or directory",
     "output_type": "error",
     "traceback": [
      "\u001b[0;31m---------------------------------------------------------------------------\u001b[0m",
      "\u001b[0;31mCPLE_OpenFailedError\u001b[0m                      Traceback (most recent call last)",
      "File \u001b[0;32mrasterio/_base.pyx:308\u001b[0m, in \u001b[0;36mrasterio._base.DatasetBase.__init__\u001b[0;34m()\u001b[0m\n",
      "File \u001b[0;32mrasterio/_base.pyx:219\u001b[0m, in \u001b[0;36mrasterio._base.open_dataset\u001b[0;34m()\u001b[0m\n",
      "File \u001b[0;32mrasterio/_err.pyx:221\u001b[0m, in \u001b[0;36mrasterio._err.exc_wrap_pointer\u001b[0;34m()\u001b[0m\n",
      "\u001b[0;31mCPLE_OpenFailedError\u001b[0m: E_2004-08-01.tif: No such file or directory",
      "\nDuring handling of the above exception, another exception occurred:\n",
      "\u001b[0;31mRasterioIOError\u001b[0m                           Traceback (most recent call last)",
      "\u001b[1;32m/Users/pawel/AGH/Master/grace-pl/era5_process.ipynb Cell 15\u001b[0m in \u001b[0;36m<cell line: 3>\u001b[0;34m()\u001b[0m\n\u001b[1;32m      <a href='vscode-notebook-cell:/Users/pawel/AGH/Master/grace-pl/era5_process.ipynb#X20sZmlsZQ%3D%3D?line=0'>1</a>\u001b[0m aoi_dir \u001b[39m=\u001b[39m \u001b[39m\"\u001b[39m\u001b[39mdata/aoi.geojson\u001b[39m\u001b[39m\"\u001b[39m\n\u001b[1;32m      <a href='vscode-notebook-cell:/Users/pawel/AGH/Master/grace-pl/era5_process.ipynb#X20sZmlsZQ%3D%3D?line=1'>2</a>\u001b[0m geodf \u001b[39m=\u001b[39m geopandas\u001b[39m.\u001b[39mread_file(aoi_dir)\n\u001b[0;32m----> <a href='vscode-notebook-cell:/Users/pawel/AGH/Master/grace-pl/era5_process.ipynb#X20sZmlsZQ%3D%3D?line=2'>3</a>\u001b[0m data \u001b[39m=\u001b[39m rasterio\u001b[39m.\u001b[39;49mopen(f)\n\u001b[1;32m      <a href='vscode-notebook-cell:/Users/pawel/AGH/Master/grace-pl/era5_process.ipynb#X20sZmlsZQ%3D%3D?line=3'>4</a>\u001b[0m data \u001b[39m=\u001b[39m rioxarray\u001b[39m.\u001b[39mopen_rasterio(data)[\u001b[39m0\u001b[39m]\n\u001b[1;32m      <a href='vscode-notebook-cell:/Users/pawel/AGH/Master/grace-pl/era5_process.ipynb#X20sZmlsZQ%3D%3D?line=4'>5</a>\u001b[0m data \u001b[39m=\u001b[39m data\u001b[39m.\u001b[39mrio\u001b[39m.\u001b[39mwrite_crs(\u001b[39m\"\u001b[39m\u001b[39mEPSG:4326\u001b[39m\u001b[39m\"\u001b[39m)\n",
      "File \u001b[0;32m/Library/Frameworks/Python.framework/Versions/3.10/lib/python3.10/site-packages/rasterio/env.py:451\u001b[0m, in \u001b[0;36mensure_env_with_credentials.<locals>.wrapper\u001b[0;34m(*args, **kwds)\u001b[0m\n\u001b[1;32m    448\u001b[0m     session \u001b[39m=\u001b[39m DummySession()\n\u001b[1;32m    450\u001b[0m \u001b[39mwith\u001b[39;00m env_ctor(session\u001b[39m=\u001b[39msession):\n\u001b[0;32m--> 451\u001b[0m     \u001b[39mreturn\u001b[39;00m f(\u001b[39m*\u001b[39;49margs, \u001b[39m*\u001b[39;49m\u001b[39m*\u001b[39;49mkwds)\n",
      "File \u001b[0;32m/Library/Frameworks/Python.framework/Versions/3.10/lib/python3.10/site-packages/rasterio/__init__.py:304\u001b[0m, in \u001b[0;36mopen\u001b[0;34m(fp, mode, driver, width, height, count, crs, transform, dtype, nodata, sharing, **kwargs)\u001b[0m\n\u001b[1;32m    301\u001b[0m path \u001b[39m=\u001b[39m _parse_path(raw_dataset_path)\n\u001b[1;32m    303\u001b[0m \u001b[39mif\u001b[39;00m mode \u001b[39m==\u001b[39m \u001b[39m\"\u001b[39m\u001b[39mr\u001b[39m\u001b[39m\"\u001b[39m:\n\u001b[0;32m--> 304\u001b[0m     dataset \u001b[39m=\u001b[39m DatasetReader(path, driver\u001b[39m=\u001b[39;49mdriver, sharing\u001b[39m=\u001b[39;49msharing, \u001b[39m*\u001b[39;49m\u001b[39m*\u001b[39;49mkwargs)\n\u001b[1;32m    305\u001b[0m \u001b[39melif\u001b[39;00m mode \u001b[39m==\u001b[39m \u001b[39m\"\u001b[39m\u001b[39mr+\u001b[39m\u001b[39m\"\u001b[39m:\n\u001b[1;32m    306\u001b[0m     dataset \u001b[39m=\u001b[39m get_writer_for_path(path, driver\u001b[39m=\u001b[39mdriver)(\n\u001b[1;32m    307\u001b[0m         path, mode, driver\u001b[39m=\u001b[39mdriver, sharing\u001b[39m=\u001b[39msharing, \u001b[39m*\u001b[39m\u001b[39m*\u001b[39mkwargs\n\u001b[1;32m    308\u001b[0m     )\n",
      "File \u001b[0;32mrasterio/_base.pyx:310\u001b[0m, in \u001b[0;36mrasterio._base.DatasetBase.__init__\u001b[0;34m()\u001b[0m\n",
      "\u001b[0;31mRasterioIOError\u001b[0m: E_2004-08-01.tif: No such file or directory"
     ]
    }
   ],
   "source": [
    "aoi_dir = \"data/aoi.geojson\"\n",
    "geodf = geopandas.read_file(aoi_dir)\n",
    "data = rasterio.open(f)\n",
    "data = rioxarray.open_rasterio(data)[0]\n",
    "data = data.rio.write_crs(\"EPSG:4326\")\n",
    "data = data.astype(\"float32\")\n",
    "data = data.rio.clip(geodf.geometry.values, geodf.crs, all_touched=True)\n",
    "data = data.rio.write_crs(\"EPSG:4326\")"
   ]
  },
  {
   "cell_type": "code",
   "execution_count": 17,
   "id": "e47b274a-5775-4a94-bbee-f7c5a26d1f46",
   "metadata": {},
   "outputs": [],
   "source": [
    "evaporation_dir = os.path.join(dest_dir, \"evaporation\")\n",
    "file_list = os.listdir(evaporation_dir)\n",
    "\n",
    "df = pd.DataFrame(columns = [\"date\", \"value\"])\n",
    "\n",
    "for f in file_list: \n",
    "    input_raster = os.path.join(evaporation_dir, f)\n",
    "    data = rasterio.open(input_raster)\n",
    "    data = rioxarray.open_rasterio(data)[0]\n",
    "    data = data.rio.write_crs(\"EPSG:4326\")\n",
    "    data = data.astype(\"float32\")\n",
    "    data = data.rio.clip(geodf.geometry.values, geodf.crs, all_touched=True)\n",
    "    data_upsampled = data.rio.reproject(\n",
    "        data.rio.crs,\n",
    "        shape=(8, 13),\n",
    "    )\n",
    "    data_upsampled = data_upsampled.rio.write_crs(\"EPSG:4326\")\n",
    "    masked = data_upsampled.to_masked_array()\n",
    "    datetime = f[2:-4]\n",
    "    df = df.append({'date': datetime, 'value': masked.data}, ignore_index=True)\n",
    "    \n",
    "df = df.sort_values(by=\"date\", ignore_index=True)\n",
    "df.to_pickle(\"data/era5_evaporation.pickle\")"
   ]
  },
  {
   "cell_type": "code",
   "execution_count": null,
   "id": "5febe5eb-810a-434d-bf68-fdf933ff664d",
   "metadata": {},
   "outputs": [
    {
     "data": {
      "text/plain": [
       "(104,)"
      ]
     },
     "execution_count": 16,
     "metadata": {},
     "output_type": "execute_result"
    }
   ],
   "source": [
    "df.iloc[0].value.shape"
   ]
  },
  {
   "cell_type": "code",
   "execution_count": 12,
   "id": "5ef230e8-a157-495a-a3a1-06a46b1faab2",
   "metadata": {},
   "outputs": [],
   "source": [
    "aoi_dir = \"data/aoi.geojson\"\n",
    "geodf = geopandas.read_file(aoi_dir)"
   ]
  },
  {
   "cell_type": "code",
   "execution_count": 18,
   "id": "922979f9-a967-45be-aea7-1c3c1bd0fef5",
   "metadata": {},
   "outputs": [],
   "source": [
    "vol_soil_lvl_1_dir = os.path.join(dest_dir, \"vol_soil_lvl_1\")\n",
    "file_list = os.listdir(vol_soil_lvl_1_dir)\n",
    "\n",
    "df = pd.DataFrame(columns = [\"date\", \"value\"])\n",
    "\n",
    "for f in file_list: \n",
    "    input_raster = os.path.join(vol_soil_lvl_1_dir, f)\n",
    "    data = rasterio.open(input_raster)\n",
    "    data = rioxarray.open_rasterio(data)[0]\n",
    "    data = data.rio.write_crs(\"EPSG:4326\")\n",
    "    data = data.astype(\"float32\")\n",
    "    data = data.rio.clip(geodf.geometry.values, geodf.crs, all_touched=True)\n",
    "    data_upsampled = data.rio.reproject(\n",
    "        data.rio.crs,\n",
    "        shape=(8, 13),\n",
    "    )\n",
    "    data_upsampled = data_upsampled.rio.write_crs(\"EPSG:4326\")\n",
    "    masked = data_upsampled.to_masked_array()\n",
    "    datetime = f[6:-4]\n",
    "    df = df.append({'date': datetime, 'value': masked.data}, ignore_index=True)\n",
    "    \n",
    "df = df.sort_values(by=\"date\", ignore_index=True)\n",
    "df.to_pickle(\"data/era5_vol_soil_lvl_1.pickle\")"
   ]
  },
  {
   "cell_type": "code",
   "execution_count": 19,
   "id": "943ef337-268f-4f68-96af-9707fd64e0b3",
   "metadata": {},
   "outputs": [
    {
     "data": {
      "text/plain": [
       "(104,)"
      ]
     },
     "execution_count": 19,
     "metadata": {},
     "output_type": "execute_result"
    }
   ],
   "source": [
    "df.iloc[0].value.shape"
   ]
  },
  {
   "cell_type": "code",
   "execution_count": 19,
   "id": "18466836-8a83-4a2c-a321-c06bdc14569f",
   "metadata": {},
   "outputs": [],
   "source": [
    "vol_soil_lvl_2_dir = os.path.join(dest_dir, \"vol_soil_lvl_2\")\n",
    "file_list = os.listdir(vol_soil_lvl_2_dir)\n",
    "\n",
    "df = pd.DataFrame(columns = [\"date\", \"value\"])\n",
    "\n",
    "for f in file_list: \n",
    "    input_raster = os.path.join(vol_soil_lvl_2_dir, f)\n",
    "    data = rasterio.open(input_raster)\n",
    "    data = rioxarray.open_rasterio(data)[0]\n",
    "    data = data.rio.write_crs(\"EPSG:4326\")\n",
    "    data = data.astype(\"float32\")\n",
    "    data = data.rio.clip(geodf.geometry.values, geodf.crs, all_touched=True)\n",
    "    data_upsampled = data.rio.reproject(\n",
    "        data.rio.crs,\n",
    "        shape=(8, 13),\n",
    "    )\n",
    "    data_upsampled = data_upsampled.rio.write_crs(\"EPSG:4326\")\n",
    "    masked = data_upsampled.to_masked_array()\n",
    "    datetime = f[6:-4]\n",
    "    df = df.append({'date': datetime, 'value': masked.data}, ignore_index=True)\n",
    "    \n",
    "df = df.sort_values(by=\"date\", ignore_index=True)\n",
    "df.to_pickle(\"data/era5_vol_soil_lvl_2.pickle\")"
   ]
  },
  {
   "cell_type": "code",
   "execution_count": 20,
   "id": "20892b99-209f-4fa2-b98a-7bcef51cabea",
   "metadata": {},
   "outputs": [],
   "source": [
    "vol_soil_lvl_3_dir = os.path.join(dest_dir, \"vol_soil_lvl_3\")\n",
    "file_list = os.listdir(vol_soil_lvl_3_dir)\n",
    "\n",
    "df = pd.DataFrame(columns = [\"date\", \"value\"])\n",
    "\n",
    "for f in file_list: \n",
    "    input_raster = os.path.join(vol_soil_lvl_3_dir, f)\n",
    "    data = rasterio.open(input_raster)\n",
    "    data = rioxarray.open_rasterio(data)[0]\n",
    "    data = data.rio.write_crs(\"EPSG:4326\")\n",
    "    data = data.astype(\"float32\")\n",
    "    data = data.rio.clip(geodf.geometry.values, geodf.crs, all_touched=True)\n",
    "    data_upsampled = data.rio.reproject(\n",
    "        data.rio.crs,\n",
    "        shape=(8, 13),\n",
    "    )\n",
    "    data_upsampled = data_upsampled.rio.write_crs(\"EPSG:4326\")\n",
    "    masked = data_upsampled.to_masked_array()\n",
    "    datetime = f[6:-4]\n",
    "    df = df.append({'date': datetime, 'value': masked.data}, ignore_index=True)\n",
    "    \n",
    "df = df.sort_values(by=\"date\", ignore_index=True)\n",
    "df.to_pickle(\"data/era5_vol_soil_lvl_3.pickle\")"
   ]
  },
  {
   "cell_type": "code",
   "execution_count": 22,
   "id": "3f3fc0fe-68ce-473d-9f61-ae56bc7493c1",
   "metadata": {},
   "outputs": [],
   "source": [
    "vol_soil_lvl_4_dir = os.path.join(dest_dir, \"vol_soil_lvl_4\")\n",
    "file_list = os.listdir(vol_soil_lvl_4_dir)\n",
    "\n",
    "df = pd.DataFrame(columns = [\"date\", \"value\"])\n",
    "\n",
    "for f in file_list: \n",
    "    input_raster = os.path.join(vol_soil_lvl_4_dir, f)\n",
    "    data = rasterio.open(input_raster)\n",
    "    data = rioxarray.open_rasterio(data)[0]\n",
    "    data = data.rio.write_crs(\"EPSG:4326\")\n",
    "    data = data.astype(\"float32\")\n",
    "    data = data.rio.clip(geodf.geometry.values, geodf.crs, all_touched=True)\n",
    "    data_upsampled = data.rio.reproject(\n",
    "        data.rio.crs,\n",
    "        shape=(8, 13),\n",
    "    )\n",
    "    data_upsampled = data_upsampled.rio.write_crs(\"EPSG:4326\")\n",
    "    masked = data_upsampled.to_masked_array()\n",
    "    datetime = f[6:-4]\n",
    "    df = df.append({'date': datetime, 'value': masked.data}, ignore_index=True)\n",
    "    \n",
    "df = df.sort_values(by=\"date\", ignore_index=True)\n",
    "df.to_pickle(\"data/era5_vol_soil_lvl_4.pickle\")"
   ]
  },
  {
   "cell_type": "code",
   "execution_count": 25,
   "id": "72600a4b-b69c-4b4a-8842-c53db74d4b67",
   "metadata": {},
   "outputs": [
    {
     "data": {
      "text/plain": [
       "array([False, False, False, False, False, False, False, False, False,\n",
       "       False, False, False, False, False, False, False, False, False,\n",
       "       False, False, False, False, False, False, False, False, False,\n",
       "       False, False, False, False, False, False, False, False, False,\n",
       "       False, False, False, False, False, False, False, False, False,\n",
       "       False, False, False, False, False, False, False, False, False,\n",
       "       False, False, False, False, False, False, False, False, False,\n",
       "       False, False,  True,  True,  True,  True,  True,  True, False,\n",
       "       False, False, False, False,  True,  True,  True,  True,  True,\n",
       "        True,  True,  True, False, False, False, False, False,  True,\n",
       "        True,  True,  True,  True,  True,  True,  True, False, False,\n",
       "       False, False, False,  True,  True])"
      ]
     },
     "execution_count": 25,
     "metadata": {},
     "output_type": "execute_result"
    }
   ],
   "source": [
    "df.iloc[0][\"mask\"]"
   ]
  },
  {
   "cell_type": "code",
   "execution_count": null,
   "id": "79ae5f2d-8333-4a80-8d93-036dda6590e6",
   "metadata": {},
   "outputs": [],
   "source": []
  }
 ],
 "metadata": {
  "kernelspec": {
   "display_name": "Python 3 (ipykernel)",
   "language": "python",
   "name": "python3"
  },
  "language_info": {
   "codemirror_mode": {
    "name": "ipython",
    "version": 3
   },
   "file_extension": ".py",
   "mimetype": "text/x-python",
   "name": "python",
   "nbconvert_exporter": "python",
   "pygments_lexer": "ipython3",
   "version": "3.10.5"
  }
 },
 "nbformat": 4,
 "nbformat_minor": 5
}
