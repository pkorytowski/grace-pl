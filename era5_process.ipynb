{
 "cells": [
  {
   "cell_type": "code",
   "execution_count": 1,
   "id": "a280adeb-8a49-4c56-96a8-b78cbb830991",
   "metadata": {},
   "outputs": [],
   "source": [
    "import rioxarray\n",
    "import geopandas\n",
    "import leafmap\n",
    "import os\n",
    "import datetime\n",
    "from osgeo import gdal\n",
    "from tqdm import tqdm\n"
   ]
  },
  {
   "cell_type": "code",
   "execution_count": 2,
   "id": "42e88bd7-492e-471d-a02e-edffe90e17be",
   "metadata": {},
   "outputs": [],
   "source": [
    "grib_file = \"era_5_2021_02-01_01.grib\"\n",
    "dest_file = \"data/_era_5_tiff/\" + \"era_5_2021_02-01_01.tiff\"\n"
   ]
  },
  {
   "cell_type": "code",
   "execution_count": 3,
   "id": "5f940c83-f355-4878-9528-6005fb04e3ee",
   "metadata": {},
   "outputs": [
    {
     "name": "stderr",
     "output_type": "stream",
     "text": [
      "Warning 1: data/_era_5_tiff/era_5_2021_02-01_01.tiff: Metadata exceeding 32000 bytes cannot be written into GeoTIFF. Transferred to PAM instead.\n"
     ]
    }
   ],
   "source": [
    "src_ds = gdal.Open(grib_file)\n",
    "bands = [] # Set up array for gdal.Translate(). \n",
    "if src_ds is not None:\n",
    "    bandNum = src_ds.RasterCount # Get band count\n",
    "for i in range(bandNum+1): # Update array based on band count\n",
    "    if (i==0): #gdal starts band counts at 1, not 0 like the Python for loop does.\n",
    "        pass\n",
    "    else:\n",
    "        bands.append(i)\n",
    "\n",
    "# Open output format driver\n",
    "out_form= \"GTiff\"\n",
    "\n",
    "# Output to new format using gdal.Translate. See https://gdal.org/python/ for osgeo.gdal.Translate options.\n",
    "dst_ds = gdal.Translate(dest_file, src_ds, format=out_form, bandList=bands)\n",
    "\n",
    "# Properly close the datasets to flush to disk\n",
    "dst_ds = None\n",
    "src_ds = None"
   ]
  },
  {
   "cell_type": "code",
   "execution_count": null,
   "id": "a362aa18-4200-416c-9dea-62a2800a25e5",
   "metadata": {},
   "outputs": [],
   "source": []
  }
 ],
 "metadata": {
  "kernelspec": {
   "display_name": "Python 3 (ipykernel)",
   "language": "python",
   "name": "python3"
  },
  "language_info": {
   "codemirror_mode": {
    "name": "ipython",
    "version": 3
   },
   "file_extension": ".py",
   "mimetype": "text/x-python",
   "name": "python",
   "nbconvert_exporter": "python",
   "pygments_lexer": "ipython3",
   "version": "3.9.2"
  }
 },
 "nbformat": 4,
 "nbformat_minor": 5
}
